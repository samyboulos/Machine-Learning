{
 "cells": [
  {
   "cell_type": "markdown",
   "metadata": {},
   "source": [
    "## - Objects and References"
   ]
  },
  {
   "cell_type": "markdown",
   "metadata": {},
   "source": [
    "###### Python is strongly typed. Every object has a type (and an id), but references are not typed (like a C++ null pointer)"
   ]
  },
  {
   "cell_type": "code",
   "execution_count": 1,
   "metadata": {},
   "outputs": [
    {
     "name": "stdout",
     "output_type": "stream",
     "text": [
      "274881487840\n",
      "12.5\n",
      "275572443408\n"
     ]
    }
   ],
   "source": [
    "test_int = 12 # test_int is pointing to an int.\n",
    "test_float = 12.5\n",
    "print(id(test_int))\n",
    "test_int = test_float # test_int now points to a float object. References in Python are not typed. \n",
    "print(test_int)\n",
    "print(id(test_int))"
   ]
  },
  {
   "cell_type": "markdown",
   "metadata": {},
   "source": [
    "## - Data types"
   ]
  },
  {
   "cell_type": "markdown",
   "metadata": {},
   "source": [
    "### 7 scalar types"
   ]
  },
  {
   "cell_type": "code",
   "execution_count": 2,
   "metadata": {},
   "outputs": [
    {
     "name": "stdout",
     "output_type": "stream",
     "text": [
      "1- <class 'NoneType'>\n",
      "2- <class 'bool'>\n",
      "3- <class 'int'>\n",
      "4- <class 'float'>\n",
      "5- <class 'str'>\n",
      "6- <class 'complex'>\n",
      "7- <class 'bytes'>\n"
     ]
    }
   ],
   "source": [
    "#Python has 7 scalar types {None, bool, int, float, str, complex and bytes} and they are all immutable.\n",
    "my_none = None\n",
    "my_bool = True\n",
    "my_int  = 12\n",
    "my_float = 10.6\n",
    "my_str = \"Hello\"\n",
    "my_complex = 1 + 9j\n",
    "my_bytes = 'Hello'.encode('utf-8')\n",
    "\n",
    "print(\"1-\", type(my_none))\n",
    "print(\"2-\", type(my_bool))\n",
    "print(\"3-\", type(my_int))\n",
    "print(\"4-\", type(my_float))\n",
    "print(\"5-\", type(my_str))\n",
    "print(\"6-\", type(my_complex))\n",
    "print(\"7-\", type(my_bytes))"
   ]
  },
  {
   "cell_type": "markdown",
   "metadata": {},
   "source": [
    "### Tuple, List, Range, Dictionary and Set"
   ]
  },
  {
   "cell_type": "code",
   "execution_count": 3,
   "metadata": {},
   "outputs": [
    {
     "name": "stdout",
     "output_type": "stream",
     "text": [
      "0\n",
      "1\n",
      "2\n",
      "<class 'tuple'>\n",
      "<class 'list'>\n",
      "<class 'set'>\n",
      "<class 'dict'>\n",
      "<class 'range'>\n"
     ]
    }
   ],
   "source": [
    "tuple1 = (my_int, 2, 3, my_complex) #as in C# tuples are immutable\n",
    "list1 = [my_int, 2, 3, my_complex]\n",
    "set1 = {1,2,\"3\"}\n",
    "dictionary1 = {'zero': 'samy boulos',  1: True } #dict keys and values can be different types\n",
    "myRange = range(0,3)\n",
    "for r in myRange:\n",
    "    print(r)\n",
    "\n",
    "print(type(tuple1))\n",
    "print(type(list1))\n",
    "print(type(set1))\n",
    "print(type(dictionary1))\n",
    "print(type(myRange))"
   ]
  },
  {
   "cell_type": "markdown",
   "metadata": {},
   "source": [
    "### 2 not popular data structures"
   ]
  },
  {
   "cell_type": "code",
   "execution_count": 4,
   "metadata": {},
   "outputs": [],
   "source": [
    "#my_immutable_frozen_set = \n",
    "#my_byteArray =\n",
    "#print(type(my_immutable_frozen_set))\n",
    "#print(type(my_byteArray))"
   ]
  },
  {
   "cell_type": "markdown",
   "metadata": {},
   "source": [
    "### Type Conversion and comparison"
   ]
  },
  {
   "cell_type": "code",
   "execution_count": 5,
   "metadata": {},
   "outputs": [
    {
     "name": "stdout",
     "output_type": "stream",
     "text": [
      "2\n",
      "1\n",
      "<class 'str'>\n",
      "True\n",
      "True\n",
      "True\n"
     ]
    }
   ],
   "source": [
    "float_to_int = int(2.03) #10\n",
    "print(float_to_int) \n",
    "bool_to_int = int(True)\n",
    "print(bool_to_int) #1\n",
    "my_string = str(12.5)\n",
    "print(type(my_string))\n",
    "# string_to_int = int('Hello') error\n",
    "\n",
    "\n",
    "#comparison method 1 isinstance()\n",
    "print(isinstance(my_complex, complex)) #True\n",
    "\n",
    "#comparison method 2 type ()\n",
    "print(type(10) == type(my_int))\n",
    "print(type(10) == int)"
   ]
  },
  {
   "cell_type": "markdown",
   "metadata": {},
   "source": [
    "### Identity operator is returns true if both operands are the same object"
   ]
  },
  {
   "cell_type": "code",
   "execution_count": 6,
   "metadata": {},
   "outputs": [
    {
     "name": "stdout",
     "output_type": "stream",
     "text": [
      "True\n",
      "False\n",
      "True\n"
     ]
    }
   ],
   "source": [
    "x = [\"apple\", \"banana\"]\n",
    "y = [\"apple\", \"banana\"]\n",
    "z = x\n",
    "\n",
    "print(x is z) # returns True because z is the same object as x\n",
    "print(x is y) # returns False because x is not the same object as y, even if they have the same content\n",
    "print(x == y) # this comparison returns True because x is equal to y"
   ]
  },
  {
   "cell_type": "markdown",
   "metadata": {},
   "source": [
    "## - Operators"
   ]
  },
  {
   "cell_type": "markdown",
   "metadata": {},
   "source": [
    "### Logical Operators in Python are characters not symbols"
   ]
  },
  {
   "cell_type": "code",
   "execution_count": 7,
   "metadata": {},
   "outputs": [
    {
     "name": "stdout",
     "output_type": "stream",
     "text": [
      "True\n",
      "True\n",
      "False\n"
     ]
    }
   ],
   "source": [
    "print (1 < 2 and 2 < 3)\n",
    "print (1 < 2 or 1==0)\n",
    "print (not True)"
   ]
  },
  {
   "cell_type": "markdown",
   "metadata": {},
   "source": [
    "### Truthy and falsy values"
   ]
  },
  {
   "cell_type": "code",
   "execution_count": 8,
   "metadata": {},
   "outputs": [
    {
     "name": "stdout",
     "output_type": "stream",
     "text": [
      "False is falsy\n",
      "None is falsy\n",
      "integer value 0 is falsy\n",
      "any integer value other than 0 is truthy\n",
      "float value 0.0 is falsy\n",
      "any float value other than 0.0 is truthy\n",
      "empty string is falsy\n",
      "any non-empty string is truthy\n",
      "any empty data structure is falsy\n",
      "any non-empty data structure is truthy\n",
      "any empty data structure is falsy\n",
      "any non-empty data structure is truthy\n",
      "any empty data structure is falsy\n",
      "any non-empty data structure is truthy\n"
     ]
    }
   ],
   "source": [
    "if not False:\n",
    "    print ('False is falsy') \n",
    "if not None:\n",
    "    print ('None is falsy')\n",
    "if not 0:   \n",
    "    print ('integer value 0 is falsy')\n",
    "if -1:   \n",
    "    print ('any integer value other than 0 is truthy')\n",
    "if not 0.0:   \n",
    "    print ('float value 0.0 is falsy')  \n",
    "if 0.1:   \n",
    "    print ('any float value other than 0.0 is truthy')     \n",
    "if not '':   \n",
    "    print ('empty string is falsy')  \n",
    "if 'hello':   \n",
    "    print ('any non-empty string is truthy') \n",
    "if not []:   \n",
    "    print ('any empty data structure is falsy') \n",
    "if [1]:   \n",
    "    print ('any non-empty data structure is truthy')     \n",
    "if not ():   \n",
    "    print ('any empty data structure is falsy')\n",
    "if (1,2):   \n",
    "    print ('any non-empty data structure is truthy')     \n",
    "if not {}:   \n",
    "    print ('any empty data structure is falsy')\n",
    "if {\"1\":\"One\"}:\n",
    "    print ('any non-empty data structure is truthy') "
   ]
  },
  {
   "cell_type": "markdown",
   "metadata": {},
   "source": [
    "### Exponent and Division"
   ]
  },
  {
   "cell_type": "code",
   "execution_count": 9,
   "metadata": {},
   "outputs": [
    {
     "name": "stdout",
     "output_type": "stream",
     "text": [
      "256\n",
      "3.5\n",
      "3\n"
     ]
    }
   ],
   "source": [
    "print(2 ** 8) # This is exponent\n",
    "print(7/2) #Floating point division\n",
    "print(7//2) #Integer (truncating) divison"
   ]
  },
  {
   "cell_type": "markdown",
   "metadata": {},
   "source": [
    "### Continuation Character"
   ]
  },
  {
   "cell_type": "code",
   "execution_count": 10,
   "metadata": {},
   "outputs": [
    {
     "data": {
      "text/plain": [
       "'Hello world this is line 2 This is line 3'"
      ]
     },
     "execution_count": 10,
     "metadata": {},
     "output_type": "execute_result"
    }
   ],
   "source": [
    "long_string = 'Hello world' \\\n",
    "+ \" this is line 2\" \\\n",
    "+ \" This is line 3\"\n",
    "long_string "
   ]
  },
  {
   "cell_type": "code",
   "execution_count": 11,
   "metadata": {},
   "outputs": [
    {
     "name": "stdout",
     "output_type": "stream",
     "text": [
      "0\n",
      "<class 'int'>\n",
      "0\n"
     ]
    }
   ],
   "source": [
    "#This is strange. What happens here?\n",
    "test = 0 and True\n",
    "print(test)\n",
    "print(type(test))\n",
    "test = 0 and False  \n",
    "print(test)"
   ]
  },
  {
   "cell_type": "markdown",
   "metadata": {},
   "source": [
    "## - Strings"
   ]
  },
  {
   "cell_type": "markdown",
   "metadata": {},
   "source": [
    "### Multiline String uses 3 quotes and inserts a \\n character at the end of each line"
   ]
  },
  {
   "cell_type": "code",
   "execution_count": 12,
   "metadata": {},
   "outputs": [
    {
     "name": "stdout",
     "output_type": "stream",
     "text": [
      "In Winter I get up at night\n",
      "And Dress by yellow candle light\n",
      "In Summer, quite the other way\n",
      "I have to go to bed by day\n"
     ]
    },
    {
     "data": {
      "text/plain": [
       "'Here you will see the \\n character: In Winter I get up at night\\nAnd Dress by yellow candle light\\nIn Summer, quite the other way\\nI have to go to bed by day'"
      ]
     },
     "execution_count": 12,
     "metadata": {},
     "output_type": "execute_result"
    }
   ],
   "source": [
    "poem = '''In Winter I get up at night\n",
    "And Dress by yellow candle light\n",
    "In Summer, quite the other way\n",
    "I have to go to bed by day'''\n",
    "print(poem)\n",
    "\"Here you will see the \\n character: \"  + poem"
   ]
  },
  {
   "cell_type": "markdown",
   "metadata": {},
   "source": [
    "### fStrings and Raw strings"
   ]
  },
  {
   "cell_type": "code",
   "execution_count": 13,
   "metadata": {},
   "outputs": [
    {
     "name": "stdout",
     "output_type": "stream",
     "text": [
      "my name is Donald Duck\n",
      "hello\n",
      "world\n",
      "hello\\nworld\n"
     ]
    }
   ],
   "source": [
    "# fstring is equivalent to string interpolation in C# : $\"My name is {name}\"\n",
    "name = 'Donald Duck'\n",
    "print(f'my name is {name}')\n",
    "#raw string is equivalent to verbatim stings in C#\n",
    "non_raw_string = 'hello\\nworld'\n",
    "raw_string = r'hello\\nworld'\n",
    "print(non_raw_string)\n",
    "print(raw_string)"
   ]
  },
  {
   "cell_type": "markdown",
   "metadata": {},
   "source": [
    "## Operations on sequences"
   ]
  },
  {
   "cell_type": "markdown",
   "metadata": {},
   "source": [
    "### How to create a tuple with one item or emtpy set"
   ]
  },
  {
   "cell_type": "code",
   "execution_count": 14,
   "metadata": {},
   "outputs": [
    {
     "name": "stdout",
     "output_type": "stream",
     "text": [
      "<class 'str'>\n",
      "<class 'tuple'>\n",
      "<class 'dict'>\n",
      "<class 'set'>\n"
     ]
    }
   ],
   "source": [
    "#This is a string not a tuple\n",
    "my_not_tuple = ('Hello')  \n",
    "#To create a one-item tuple add a comma at the end\n",
    "my_tuple = ('Hello' ,) \n",
    "print (type(my_not_tuple))\n",
    "print (type(my_tuple))\n",
    "\n",
    "#empty braces creates and empty dictionary \n",
    "empty_dict = {}\n",
    "empty_set = set()\n",
    "print (type(empty_dict ))\n",
    "print (type(empty_set))"
   ]
  },
  {
   "cell_type": "markdown",
   "metadata": {},
   "source": [
    "### Multiplication"
   ]
  },
  {
   "cell_type": "code",
   "execution_count": 15,
   "metadata": {},
   "outputs": [
    {
     "name": "stdout",
     "output_type": "stream",
     "text": [
      "[1, 2, 3, 1, 2, 3, 1, 2, 3]\n",
      "(1, 2, 3, 1, 2, 3, 1, 2, 3)\n"
     ]
    }
   ],
   "source": [
    "list1 = [1,2,3]\n",
    "list2 = list1*3 \n",
    "print(list2)\n",
    "\n",
    "tuple1 = (1,2,3)\n",
    "tuple2 = tuple1* 3\n",
    "print(tuple2)"
   ]
  },
  {
   "cell_type": "markdown",
   "metadata": {},
   "source": [
    "### Unpacking"
   ]
  },
  {
   "cell_type": "code",
   "execution_count": 16,
   "metadata": {},
   "outputs": [
    {
     "name": "stdout",
     "output_type": "stream",
     "text": [
      "Donald\n",
      "Duck\n",
      "Duck\n",
      "Donald\n",
      "1\n",
      "2\n",
      "3\n",
      "B\n",
      "C\n",
      "A\n"
     ]
    }
   ],
   "source": [
    "full_name = ('Donald', 'Duck')\n",
    "first_name, last_name =  full_name #this is equivalent to Tuple Deconstruction in C#\n",
    "print (first_name)\n",
    "print (last_name)\n",
    "\n",
    "#You can also use it to swap variables\n",
    "first_name, last_name = (last_name, first_name)\n",
    "print (first_name)\n",
    "print (last_name)\n",
    "\n",
    "word1, word2, word3 = [\"1\", \"2\", \"3\"]\n",
    "print (word1)\n",
    "print (word2)\n",
    "print (word3)\n",
    "\n",
    "#set is unordered so will be unpacked out of order\n",
    "word1, word2, word3 = {\"A\", \"B\", \"C\"}\n",
    "print (word1)\n",
    "print (word2)\n",
    "print (word3)"
   ]
  },
  {
   "cell_type": "markdown",
   "metadata": {},
   "source": [
    "### List Sort Vs Sorted "
   ]
  },
  {
   "cell_type": "code",
   "execution_count": 17,
   "metadata": {},
   "outputs": [
    {
     "name": "stdout",
     "output_type": "stream",
     "text": [
      "['A', 'B', 'C', 'D']\n",
      "['E', 'F', 'G', 'H']\n",
      "['H', 'G', 'F', 'E']\n"
     ]
    }
   ],
   "source": [
    "list_1 = ['B', 'A', 'D', 'C']\n",
    "list_2 = ['H', 'G', 'F', 'E']\n",
    "list_1.sort() # sorts the actual list\n",
    "print(list_1)\n",
    "sorted_list_2 = sorted(list_2) #creates a sorted copy of the list\n",
    "print(sorted_list_2)\n",
    "print(list_2)"
   ]
  },
  {
   "cell_type": "markdown",
   "metadata": {},
   "source": [
    "### Python del statement"
   ]
  },
  {
   "cell_type": "markdown",
   "metadata": {},
   "source": [
    "The del keyword is used to delete objects. In Python everything is an object, so the del keyword can also be used to delete variables, lists, or parts of a list etc."
   ]
  },
  {
   "cell_type": "code",
   "execution_count": 19,
   "metadata": {},
   "outputs": [],
   "source": [
    "# The del keyword is used to delete objects. In Python everything is an object, \n",
    "# so the del keyword can also be used to delete variables, lists, or parts of a list etc.\n",
    "x = \"hello\"\n",
    "del x\n",
    "# print(x) # NameError: name 'x' is not defined"
   ]
  },
  {
   "cell_type": "code",
   "execution_count": 20,
   "metadata": {},
   "outputs": [
    {
     "data": {
      "text/plain": [
       "['B', 'C']"
      ]
     },
     "execution_count": 20,
     "metadata": {},
     "output_type": "execute_result"
    }
   ],
   "source": [
    "list1 = ['A','B','C']\n",
    "del list1[0]\n",
    "list1"
   ]
  },
  {
   "cell_type": "markdown",
   "metadata": {},
   "source": [
    "### List (append, insert and remove)"
   ]
  },
  {
   "cell_type": "code",
   "execution_count": 21,
   "metadata": {},
   "outputs": [
    {
     "name": "stdout",
     "output_type": "stream",
     "text": [
      "['A', 'B', 'D']\n"
     ]
    }
   ],
   "source": [
    "list1 = ['A','C']\n",
    "list1.append('D')\n",
    "list1.insert(1, 'B')\n",
    "list1.remove('C')\n",
    "print(list1)"
   ]
  },
  {
   "cell_type": "markdown",
   "metadata": {},
   "source": [
    "### Set add and remove"
   ]
  },
  {
   "cell_type": "code",
   "execution_count": 22,
   "metadata": {},
   "outputs": [
    {
     "name": "stdout",
     "output_type": "stream",
     "text": [
      "{'B', 'C', 'D', 'A'}\n",
      "{'B', 'C', 'A'}\n"
     ]
    }
   ],
   "source": [
    "set1 = {'A','B','C'}\n",
    "set1.add('D')\n",
    "print(set1)\n",
    "set1.remove('D')\n",
    "print(set1)"
   ]
  },
  {
   "cell_type": "markdown",
   "metadata": {},
   "source": [
    "### Dict add or change key value"
   ]
  },
  {
   "cell_type": "code",
   "execution_count": 23,
   "metadata": {},
   "outputs": [
    {
     "name": "stdout",
     "output_type": "stream",
     "text": [
      "{'A': 0, 'B': 2, 'C': 3, 'D': 4}\n"
     ]
    }
   ],
   "source": [
    "letters = {'A':1, 'B':2, 'C':3}\n",
    "letters ['D'] = 4\n",
    "letters ['A'] = 0\n",
    "print(letters)"
   ]
  },
  {
   "cell_type": "markdown",
   "metadata": {},
   "source": [
    "### pop (Supported by all mutable data structures)"
   ]
  },
  {
   "cell_type": "code",
   "execution_count": 24,
   "metadata": {},
   "outputs": [
    {
     "name": "stdout",
     "output_type": "stream",
     "text": [
      "['B', 'C']\n",
      "{'B': 2, 'C': 3}\n",
      "{20, 30}\n"
     ]
    }
   ],
   "source": [
    "list1 = ['A', 'B', 'C']\n",
    "dict1 = {'A':1, 'B':2, 'C':3 }\n",
    "set1 = {10, 20, 30}\n",
    "\n",
    "list1.pop(0) #index is optional for lists\n",
    "dict1.pop('A') # index is required for dicts\n",
    "set1.pop() # index is illegal for sets\n",
    "\n",
    "print(list1) \n",
    "print(dict1)\n",
    "print(set1)"
   ]
  },
  {
   "cell_type": "markdown",
   "metadata": {},
   "source": [
    "### Count occurences"
   ]
  },
  {
   "cell_type": "code",
   "execution_count": 25,
   "metadata": {},
   "outputs": [
    {
     "name": "stdout",
     "output_type": "stream",
     "text": [
      "2\n"
     ]
    }
   ],
   "source": [
    "print(\"Rafael Nadal\".count('l')) "
   ]
  },
  {
   "cell_type": "markdown",
   "metadata": {},
   "source": [
    "### Find item's index"
   ]
  },
  {
   "cell_type": "code",
   "execution_count": 26,
   "metadata": {},
   "outputs": [
    {
     "name": "stdout",
     "output_type": "stream",
     "text": [
      "5\n",
      "-1\n"
     ]
    }
   ],
   "source": [
    "print(\"Rafael Nadal\".index('l')) #0\n",
    "print(\"Rafael Nadal\".find('J')) #-1 This only works for strings "
   ]
  },
  {
   "cell_type": "markdown",
   "metadata": {},
   "source": [
    "### Find length "
   ]
  },
  {
   "cell_type": "code",
   "execution_count": 27,
   "metadata": {},
   "outputs": [
    {
     "data": {
      "text/plain": [
       "4"
      ]
     },
     "execution_count": 27,
     "metadata": {},
     "output_type": "execute_result"
    }
   ],
   "source": [
    "len([1,2,3,4]) #4"
   ]
  },
  {
   "cell_type": "markdown",
   "metadata": {},
   "source": [
    "### in operator tests if item exists in a sequence (like SQL)"
   ]
  },
  {
   "cell_type": "code",
   "execution_count": 28,
   "metadata": {},
   "outputs": [
    {
     "name": "stdout",
     "output_type": "stream",
     "text": [
      "True\n",
      "True\n",
      "True\n",
      "True\n"
     ]
    }
   ],
   "source": [
    "print ('o' in 'hello')\n",
    "print (1 in [1,2,3])\n",
    "print ('hello' in ('hello', 'world'))\n",
    "print ('key1' in {'key1':'value1'})"
   ]
  },
  {
   "cell_type": "markdown",
   "metadata": {},
   "source": [
    "### Get by index with a -ve value counts from the end"
   ]
  },
  {
   "cell_type": "code",
   "execution_count": 29,
   "metadata": {},
   "outputs": [
    {
     "name": "stdout",
     "output_type": "stream",
     "text": [
      "d\n"
     ]
    }
   ],
   "source": [
    "print(\"Hello World\"[-1])"
   ]
  },
  {
   "cell_type": "markdown",
   "metadata": {},
   "source": [
    "### Iterate multiple sequences "
   ]
  },
  {
   "cell_type": "code",
   "execution_count": 30,
   "metadata": {},
   "outputs": [
    {
     "name": "stdout",
     "output_type": "stream",
     "text": [
      "H B H\n",
      "e o i\n"
     ]
    }
   ],
   "source": [
    "for a, b, c in zip('Hello', 'Bonjour', 'Hi'):\n",
    "    print(a,b,c)"
   ]
  },
  {
   "cell_type": "markdown",
   "metadata": {},
   "source": [
    "### Comprehension [expression for item in iterable if condition] (not supported for Tuples)"
   ]
  },
  {
   "cell_type": "code",
   "execution_count": 31,
   "metadata": {},
   "outputs": [
    {
     "name": "stdout",
     "output_type": "stream",
     "text": [
      "[2, 4, 6, 8]\n"
     ]
    }
   ],
   "source": [
    "numbers = range (1,10)\n",
    "even_numbers = [number for number in numbers if number % 2 == 0]\n",
    "print(even_numbers)"
   ]
  },
  {
   "cell_type": "markdown",
   "metadata": {},
   "source": [
    "### Slicing"
   ]
  },
  {
   "cell_type": "code",
   "execution_count": 32,
   "metadata": {},
   "outputs": [
    {
     "name": "stdout",
     "output_type": "stream",
     "text": [
      "[1, 2, 3, 4]\n"
     ]
    }
   ],
   "source": [
    "# Do we need copy.deepcopy() ?\n",
    "list1 = [1,2,3,4]\n",
    "list2 = list1[:] # entire thing\n",
    "print(list1)\n"
   ]
  },
  {
   "cell_type": "markdown",
   "metadata": {},
   "source": [
    "### Deep copy"
   ]
  },
  {
   "cell_type": "code",
   "execution_count": 33,
   "metadata": {},
   "outputs": [
    {
     "name": "stdout",
     "output_type": "stream",
     "text": [
      "[1, 2, [-1, 4]]\n",
      "[1, 2, [-1, 4]]\n",
      "[1, 2, [-1, 4]]\n",
      "[1, 2, [-1, 4]]\n",
      "[1, 2, [3, 4]]\n"
     ]
    }
   ],
   "source": [
    "import copy \n",
    "list1 = [1,2,[3,4]]\n",
    "list2 = list1\n",
    "list3 = list1.copy()\n",
    "list4 = list1[:]\n",
    "list5 = copy.deepcopy(list1)\n",
    "list1[2][0] = -1\n",
    "print(list1)\n",
    "print(list2)\n",
    "print(list3)\n",
    "print(list4)\n",
    "print(list5)"
   ]
  },
  {
   "cell_type": "markdown",
   "metadata": {},
   "source": [
    "### Change items with a slice"
   ]
  },
  {
   "cell_type": "code",
   "execution_count": 34,
   "metadata": {},
   "outputs": [
    {
     "name": "stdout",
     "output_type": "stream",
     "text": [
      "[1, 2, 3, 4, 5, 6, 7, 8, 9]\n",
      "['one', 'two', 3, 4, 5, 6, 7, 8, 9]\n",
      "['one', 'two', 3, 4, 5, 6, 7, 8, 'A', 'B', 'C']\n",
      "['one', 'two', 0, 'B', 'C']\n"
     ]
    }
   ],
   "source": [
    "slicing_list = list(range (1,10))\n",
    "slicing_list_copy = slicing_list[:]\n",
    "print(slicing_list_copy)\n",
    "slicing_list_copy[0:2] = ['one','two'] \n",
    "print(slicing_list_copy)\n",
    "slicing_list_copy[-1:] = 'ABC' # you can assign any iterable \n",
    "print(slicing_list_copy)\n",
    "slicing_list_copy[2:9] = [0]\n",
    "print(slicing_list_copy)"
   ]
  },
  {
   "cell_type": "markdown",
   "metadata": {},
   "source": [
    "### map() function "
   ]
  },
  {
   "cell_type": "code",
   "execution_count": 35,
   "metadata": {},
   "outputs": [
    {
     "name": "stdout",
     "output_type": "stream",
     "text": [
      "appleorange\n",
      "bananalemon\n"
     ]
    }
   ],
   "source": [
    "def myfunc(a, b):\n",
    "  return a + b\n",
    "\n",
    "##number of iterables has to match signature of myfunc\n",
    "result = map(myfunc, ['apple', 'banana'], ['orange', 'lemon', 'pineapple']) \n",
    "for r in result:\n",
    "    print(r)"
   ]
  },
  {
   "cell_type": "code",
   "execution_count": null,
   "metadata": {},
   "outputs": [],
   "source": []
  }
 ],
 "metadata": {
  "kernelspec": {
   "display_name": "Python 3",
   "language": "python",
   "name": "python3"
  },
  "language_info": {
   "codemirror_mode": {
    "name": "ipython",
    "version": 3
   },
   "file_extension": ".py",
   "mimetype": "text/x-python",
   "name": "python",
   "nbconvert_exporter": "python",
   "pygments_lexer": "ipython3",
   "version": "3.8.8"
  }
 },
 "nbformat": 4,
 "nbformat_minor": 4
}
