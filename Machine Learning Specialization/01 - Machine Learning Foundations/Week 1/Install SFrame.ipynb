{
 "cells": [
  {
   "cell_type": "markdown",
   "metadata": {},
   "source": [
    "## Install SFrame"
   ]
  },
  {
   "cell_type": "code",
   "execution_count": 3,
   "metadata": {},
   "outputs": [
    {
     "name": "stdout",
     "output_type": "stream",
     "text": [
      "Collecting turicreate\n",
      "  Using cached turicreate-6.4.1-cp38-cp38-manylinux1_x86_64.whl (92.0 MB)\n",
      "Collecting resampy==0.2.1\n",
      "  Using cached resampy-0.2.1.tar.gz (322 kB)\n",
      "Collecting numba<0.51.0\n",
      "  Using cached numba-0.50.1-cp38-cp38-manylinux2014_x86_64.whl (3.6 MB)\n",
      "Requirement already satisfied: pandas>=0.23.2 in /opt/conda/lib/python3.8/site-packages (from turicreate) (1.2.4)\n",
      "Requirement already satisfied: numpy in /opt/conda/lib/python3.8/site-packages (from turicreate) (1.20.2)\n",
      "Requirement already satisfied: six>=1.10.0 in /opt/conda/lib/python3.8/site-packages (from turicreate) (1.15.0)\n",
      "Collecting coremltools==4.0b3\n",
      "  Downloading coremltools-4.0b3-py3-none-any.whl (4.6 MB)\n",
      "\u001b[K     |████████████████████████████████| 4.6 MB 4.0 MB/s eta 0:00:01\n",
      "\u001b[?25hRequirement already satisfied: decorator>=4.0.9 in /opt/conda/lib/python3.8/site-packages (from turicreate) (5.0.7)\n",
      "Requirement already satisfied: requests>=2.9.1 in /opt/conda/lib/python3.8/site-packages (from turicreate) (2.25.1)\n",
      "Requirement already satisfied: scipy>=1.1.0 in /opt/conda/lib/python3.8/site-packages (from turicreate) (1.6.2)\n",
      "Collecting tensorflow>=2.0.0\n",
      "  Downloading tensorflow-2.4.1-cp38-cp38-manylinux2010_x86_64.whl (394.4 MB)\n",
      "\u001b[K     |████████████████████████████████| 394.4 MB 19.9 MB/s eta 0:00:01    |████                            | 48.5 MB 18.2 MB/s eta 0:00:19     |█████████▋                      | 118.0 MB 16.2 MB/s eta 0:00:18     |████████████████▎               | 200.1 MB 18.0 MB/s eta 0:00:11     |██████████████████              | 222.3 MB 20.9 MB/s eta 0:00:09     |██████████████████▍             | 227.3 MB 20.9 MB/s eta 0:00:08     |███████████████████             | 233.3 MB 17.6 MB/s eta 0:00:10     |████████████████████▏           | 248.8 MB 17.6 MB/s eta 0:00:09     |█████████████████████           | 257.8 MB 16.9 MB/s eta 0:00:09     |█████████████████████           | 258.8 MB 16.9 MB/s eta 0:00:09     |█████████████████████▋          | 265.8 MB 16.9 MB/s eta 0:00:08     |██████████████████████▌         | 277.1 MB 16.9 MB/s eta 0:00:07     |███████████████████████▊        | 292.9 MB 18.4 MB/s eta 0:00:06     |███████████████████████████▋    | 340.4 MB 8.6 MB/s eta 0:00:07     |████████████████████████████▊   | 353.3 MB 21.0 MB/s eta 0:00:02     |█████████████████████████████   | 357.5 MB 21.0 MB/s eta 0:00:02"
     ]
    }
   ],
   "source": [
    "! pip install -U turicreate"
   ]
  },
  {
   "cell_type": "code",
   "execution_count": null,
   "metadata": {},
   "outputs": [],
   "source": []
  }
 ],
 "metadata": {
  "kernelspec": {
   "display_name": "Python 3",
   "language": "python",
   "name": "python3"
  },
  "language_info": {
   "codemirror_mode": {
    "name": "ipython",
    "version": 3
   },
   "file_extension": ".py",
   "mimetype": "text/x-python",
   "name": "python",
   "nbconvert_exporter": "python",
   "pygments_lexer": "ipython3",
   "version": "3.8.8"
  }
 },
 "nbformat": 4,
 "nbformat_minor": 4
}
