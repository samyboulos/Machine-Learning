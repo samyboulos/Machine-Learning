{
 "cells": [
  {
   "cell_type": "markdown",
   "metadata": {},
   "source": [
    "# Analyze Product Sentiment"
   ]
  },
  {
   "cell_type": "code",
   "execution_count": 2,
   "metadata": {},
   "outputs": [],
   "source": [
    "import turicreate"
   ]
  },
  {
   "cell_type": "markdown",
   "metadata": {},
   "source": [
    "# Read product review data"
   ]
  },
  {
   "cell_type": "code",
   "execution_count": 38,
   "metadata": {},
   "outputs": [],
   "source": [
    "products = turicreate.SFrame('./amazon_baby.sframe')"
   ]
  },
  {
   "cell_type": "markdown",
   "metadata": {},
   "source": [
    "# Building a sentiment classifier"
   ]
  },
  {
   "cell_type": "markdown",
   "metadata": {},
   "source": [
    "## Build word count vectors"
   ]
  },
  {
   "cell_type": "code",
   "execution_count": 80,
   "metadata": {},
   "outputs": [],
   "source": [
    "products['word_count'] = turicreate.text_analytics.count_words(products['review'])"
   ]
  },
  {
   "cell_type": "code",
   "execution_count": 41,
   "metadata": {},
   "outputs": [
    {
     "data": {
      "text/html": [
       "<div style=\"max-height:1000px;max-width:1500px;overflow:auto;\"><table frame=\"box\" rules=\"cols\">\n",
       "    <tr>\n",
       "        <th style=\"padding-left: 1em; padding-right: 1em; text-align: center\">name</th>\n",
       "        <th style=\"padding-left: 1em; padding-right: 1em; text-align: center\">review</th>\n",
       "        <th style=\"padding-left: 1em; padding-right: 1em; text-align: center\">rating</th>\n",
       "        <th style=\"padding-left: 1em; padding-right: 1em; text-align: center\">word_count</th>\n",
       "    </tr>\n",
       "    <tr>\n",
       "        <td style=\"padding-left: 1em; padding-right: 1em; text-align: center; vertical-align: top\">Planetwise Flannel Wipes</td>\n",
       "        <td style=\"padding-left: 1em; padding-right: 1em; text-align: center; vertical-align: top\">These flannel wipes are<br>OK, but in my opinion ...</td>\n",
       "        <td style=\"padding-left: 1em; padding-right: 1em; text-align: center; vertical-align: top\">3.0</td>\n",
       "        <td style=\"padding-left: 1em; padding-right: 1em; text-align: center; vertical-align: top\">{&#x27;handles&#x27;: 1.0,<br>&#x27;stripping&#x27;: 1.0, ...</td>\n",
       "    </tr>\n",
       "    <tr>\n",
       "        <td style=\"padding-left: 1em; padding-right: 1em; text-align: center; vertical-align: top\">Planetwise Wipe Pouch</td>\n",
       "        <td style=\"padding-left: 1em; padding-right: 1em; text-align: center; vertical-align: top\">it came early and was not<br>disappointed. i love ...</td>\n",
       "        <td style=\"padding-left: 1em; padding-right: 1em; text-align: center; vertical-align: top\">5.0</td>\n",
       "        <td style=\"padding-left: 1em; padding-right: 1em; text-align: center; vertical-align: top\">{&#x27;recommend&#x27;: 1.0,<br>&#x27;disappointed&#x27;: 1.0, ...</td>\n",
       "    </tr>\n",
       "    <tr>\n",
       "        <td style=\"padding-left: 1em; padding-right: 1em; text-align: center; vertical-align: top\">Annas Dream Full Quilt<br>with 2 Shams ...</td>\n",
       "        <td style=\"padding-left: 1em; padding-right: 1em; text-align: center; vertical-align: top\">Very soft and comfortable<br>and warmer than it ...</td>\n",
       "        <td style=\"padding-left: 1em; padding-right: 1em; text-align: center; vertical-align: top\">5.0</td>\n",
       "        <td style=\"padding-left: 1em; padding-right: 1em; text-align: center; vertical-align: top\">{&#x27;quilt&#x27;: 1.0, &#x27;the&#x27;:<br>1.0, &#x27;than&#x27;: 1.0, &#x27;fu ...</td>\n",
       "    </tr>\n",
       "    <tr>\n",
       "        <td style=\"padding-left: 1em; padding-right: 1em; text-align: center; vertical-align: top\">Stop Pacifier Sucking<br>without tears with ...</td>\n",
       "        <td style=\"padding-left: 1em; padding-right: 1em; text-align: center; vertical-align: top\">This is a product well<br>worth the purchase.  I ...</td>\n",
       "        <td style=\"padding-left: 1em; padding-right: 1em; text-align: center; vertical-align: top\">5.0</td>\n",
       "        <td style=\"padding-left: 1em; padding-right: 1em; text-align: center; vertical-align: top\">{&#x27;tool&#x27;: 1.0, &#x27;clever&#x27;:<br>1.0, &#x27;binky&#x27;: 2.0, ...</td>\n",
       "    </tr>\n",
       "    <tr>\n",
       "        <td style=\"padding-left: 1em; padding-right: 1em; text-align: center; vertical-align: top\">Stop Pacifier Sucking<br>without tears with ...</td>\n",
       "        <td style=\"padding-left: 1em; padding-right: 1em; text-align: center; vertical-align: top\">All of my kids have cried<br>non-stop when I tried to ...</td>\n",
       "        <td style=\"padding-left: 1em; padding-right: 1em; text-align: center; vertical-align: top\">5.0</td>\n",
       "        <td style=\"padding-left: 1em; padding-right: 1em; text-align: center; vertical-align: top\">{&#x27;rock&#x27;: 1.0, &#x27;many&#x27;:<br>1.0, &#x27;headaches&#x27;: 1.0, ...</td>\n",
       "    </tr>\n",
       "    <tr>\n",
       "        <td style=\"padding-left: 1em; padding-right: 1em; text-align: center; vertical-align: top\">Stop Pacifier Sucking<br>without tears with ...</td>\n",
       "        <td style=\"padding-left: 1em; padding-right: 1em; text-align: center; vertical-align: top\">When the Binky Fairy came<br>to our house, we didn&#x27;t ...</td>\n",
       "        <td style=\"padding-left: 1em; padding-right: 1em; text-align: center; vertical-align: top\">5.0</td>\n",
       "        <td style=\"padding-left: 1em; padding-right: 1em; text-align: center; vertical-align: top\">{&#x27;thumb&#x27;: 1.0, &#x27;or&#x27;: 1.0,<br>&#x27;break&#x27;: 1.0, &#x27;trying&#x27;: ...</td>\n",
       "    </tr>\n",
       "    <tr>\n",
       "        <td style=\"padding-left: 1em; padding-right: 1em; text-align: center; vertical-align: top\">A Tale of Baby&#x27;s Days<br>with Peter Rabbit ...</td>\n",
       "        <td style=\"padding-left: 1em; padding-right: 1em; text-align: center; vertical-align: top\">Lovely book, it&#x27;s bound<br>tightly so you may no ...</td>\n",
       "        <td style=\"padding-left: 1em; padding-right: 1em; text-align: center; vertical-align: top\">4.0</td>\n",
       "        <td style=\"padding-left: 1em; padding-right: 1em; text-align: center; vertical-align: top\">{&#x27;for&#x27;: 1.0, &#x27;barnes&#x27;:<br>1.0, &#x27;at&#x27;: 1.0, &#x27;is&#x27;: ...</td>\n",
       "    </tr>\n",
       "    <tr>\n",
       "        <td style=\"padding-left: 1em; padding-right: 1em; text-align: center; vertical-align: top\">Baby Tracker&amp;reg; - Daily<br>Childcare Journal, ...</td>\n",
       "        <td style=\"padding-left: 1em; padding-right: 1em; text-align: center; vertical-align: top\">Perfect for new parents.<br>We were able to keep ...</td>\n",
       "        <td style=\"padding-left: 1em; padding-right: 1em; text-align: center; vertical-align: top\">5.0</td>\n",
       "        <td style=\"padding-left: 1em; padding-right: 1em; text-align: center; vertical-align: top\">{&#x27;right&#x27;: 1.0, &#x27;because&#x27;:<br>1.0, &#x27;questions&#x27;: 1.0, ...</td>\n",
       "    </tr>\n",
       "    <tr>\n",
       "        <td style=\"padding-left: 1em; padding-right: 1em; text-align: center; vertical-align: top\">Baby Tracker&amp;reg; - Daily<br>Childcare Journal, ...</td>\n",
       "        <td style=\"padding-left: 1em; padding-right: 1em; text-align: center; vertical-align: top\">A friend of mine pinned<br>this product on Pinte ...</td>\n",
       "        <td style=\"padding-left: 1em; padding-right: 1em; text-align: center; vertical-align: top\">5.0</td>\n",
       "        <td style=\"padding-left: 1em; padding-right: 1em; text-align: center; vertical-align: top\">{&#x27;like&#x27;: 1.0, &#x27;and&#x27;: 1.0,<br>&#x27;changes&#x27;: 1.0, &#x27;the&#x27;: ...</td>\n",
       "    </tr>\n",
       "    <tr>\n",
       "        <td style=\"padding-left: 1em; padding-right: 1em; text-align: center; vertical-align: top\">Baby Tracker&amp;reg; - Daily<br>Childcare Journal, ...</td>\n",
       "        <td style=\"padding-left: 1em; padding-right: 1em; text-align: center; vertical-align: top\">This has been an easy way<br>for my nanny to record ...</td>\n",
       "        <td style=\"padding-left: 1em; padding-right: 1em; text-align: center; vertical-align: top\">4.0</td>\n",
       "        <td style=\"padding-left: 1em; padding-right: 1em; text-align: center; vertical-align: top\">{&#x27;in&#x27;: 1.0, &#x27;pages&#x27;: 1.0,<br>&#x27;out&#x27;: 1.0, &#x27;run&#x27;: 1.0, ...</td>\n",
       "    </tr>\n",
       "</table>\n",
       "[183531 rows x 4 columns]<br/>Note: Only the head of the SFrame is printed.<br/>You can use print_rows(num_rows=m, num_columns=n) to print more rows and columns.\n",
       "</div>"
      ],
      "text/plain": [
       "Columns:\n",
       "\tname\tstr\n",
       "\treview\tstr\n",
       "\trating\tfloat\n",
       "\tword_count\tdict\n",
       "\n",
       "Rows: 183531\n",
       "\n",
       "Data:\n",
       "+-------------------------------+-------------------------------+--------+\n",
       "|              name             |             review            | rating |\n",
       "+-------------------------------+-------------------------------+--------+\n",
       "|    Planetwise Flannel Wipes   | These flannel wipes are OK... |  3.0   |\n",
       "|     Planetwise Wipe Pouch     | it came early and was not ... |  5.0   |\n",
       "| Annas Dream Full Quilt wit... | Very soft and comfortable ... |  5.0   |\n",
       "| Stop Pacifier Sucking with... | This is a product well wor... |  5.0   |\n",
       "| Stop Pacifier Sucking with... | All of my kids have cried ... |  5.0   |\n",
       "| Stop Pacifier Sucking with... | When the Binky Fairy came ... |  5.0   |\n",
       "| A Tale of Baby's Days with... | Lovely book, it's bound ti... |  4.0   |\n",
       "| Baby Tracker&reg; - Daily ... | Perfect for new parents. W... |  5.0   |\n",
       "| Baby Tracker&reg; - Daily ... | A friend of mine pinned th... |  5.0   |\n",
       "| Baby Tracker&reg; - Daily ... | This has been an easy way ... |  4.0   |\n",
       "+-------------------------------+-------------------------------+--------+\n",
       "+-------------------------------+\n",
       "|           word_count          |\n",
       "+-------------------------------+\n",
       "| {'handles': 1.0, 'strippin... |\n",
       "| {'recommend': 1.0, 'disapp... |\n",
       "| {'quilt': 1.0, 'the': 1.0,... |\n",
       "| {'tool': 1.0, 'clever': 1.... |\n",
       "| {'rock': 1.0, 'many': 1.0,... |\n",
       "| {'thumb': 1.0, 'or': 1.0, ... |\n",
       "| {'for': 1.0, 'barnes': 1.0... |\n",
       "| {'right': 1.0, 'because': ... |\n",
       "| {'like': 1.0, 'and': 1.0, ... |\n",
       "| {'in': 1.0, 'pages': 1.0, ... |\n",
       "+-------------------------------+\n",
       "[183531 rows x 4 columns]\n",
       "Note: Only the head of the SFrame is printed.\n",
       "You can use print_rows(num_rows=m, num_columns=n) to print more rows and columns."
      ]
     },
     "execution_count": 41,
     "metadata": {},
     "output_type": "execute_result"
    }
   ],
   "source": [
    "products"
   ]
  },
  {
   "cell_type": "markdown",
   "metadata": {},
   "source": [
    "# Define what is positive and negative sentiment"
   ]
  },
  {
   "cell_type": "code",
   "execution_count": 81,
   "metadata": {},
   "outputs": [],
   "source": [
    "#ignore all 3*  reviews\n",
    "products = products[products['rating']!= 3]"
   ]
  },
  {
   "cell_type": "code",
   "execution_count": 82,
   "metadata": {},
   "outputs": [],
   "source": [
    "#positive sentiment = 4-star or 5-star reviews\n",
    "products['sentiment'] = products['rating'] >= 4"
   ]
  },
  {
   "cell_type": "code",
   "execution_count": 44,
   "metadata": {},
   "outputs": [
    {
     "data": {
      "text/html": [
       "<div style=\"max-height:1000px;max-width:1500px;overflow:auto;\"><table frame=\"box\" rules=\"cols\">\n",
       "    <tr>\n",
       "        <th style=\"padding-left: 1em; padding-right: 1em; text-align: center\">name</th>\n",
       "        <th style=\"padding-left: 1em; padding-right: 1em; text-align: center\">review</th>\n",
       "        <th style=\"padding-left: 1em; padding-right: 1em; text-align: center\">rating</th>\n",
       "        <th style=\"padding-left: 1em; padding-right: 1em; text-align: center\">word_count</th>\n",
       "        <th style=\"padding-left: 1em; padding-right: 1em; text-align: center\">sentiment</th>\n",
       "    </tr>\n",
       "    <tr>\n",
       "        <td style=\"padding-left: 1em; padding-right: 1em; text-align: center; vertical-align: top\">Planetwise Wipe Pouch</td>\n",
       "        <td style=\"padding-left: 1em; padding-right: 1em; text-align: center; vertical-align: top\">it came early and was not<br>disappointed. i love ...</td>\n",
       "        <td style=\"padding-left: 1em; padding-right: 1em; text-align: center; vertical-align: top\">5.0</td>\n",
       "        <td style=\"padding-left: 1em; padding-right: 1em; text-align: center; vertical-align: top\">{&#x27;recommend&#x27;: 1.0,<br>&#x27;disappointed&#x27;: 1.0, ...</td>\n",
       "        <td style=\"padding-left: 1em; padding-right: 1em; text-align: center; vertical-align: top\">1</td>\n",
       "    </tr>\n",
       "    <tr>\n",
       "        <td style=\"padding-left: 1em; padding-right: 1em; text-align: center; vertical-align: top\">Annas Dream Full Quilt<br>with 2 Shams ...</td>\n",
       "        <td style=\"padding-left: 1em; padding-right: 1em; text-align: center; vertical-align: top\">Very soft and comfortable<br>and warmer than it ...</td>\n",
       "        <td style=\"padding-left: 1em; padding-right: 1em; text-align: center; vertical-align: top\">5.0</td>\n",
       "        <td style=\"padding-left: 1em; padding-right: 1em; text-align: center; vertical-align: top\">{&#x27;quilt&#x27;: 1.0, &#x27;the&#x27;:<br>1.0, &#x27;than&#x27;: 1.0, &#x27;fu ...</td>\n",
       "        <td style=\"padding-left: 1em; padding-right: 1em; text-align: center; vertical-align: top\">1</td>\n",
       "    </tr>\n",
       "    <tr>\n",
       "        <td style=\"padding-left: 1em; padding-right: 1em; text-align: center; vertical-align: top\">Stop Pacifier Sucking<br>without tears with ...</td>\n",
       "        <td style=\"padding-left: 1em; padding-right: 1em; text-align: center; vertical-align: top\">This is a product well<br>worth the purchase.  I ...</td>\n",
       "        <td style=\"padding-left: 1em; padding-right: 1em; text-align: center; vertical-align: top\">5.0</td>\n",
       "        <td style=\"padding-left: 1em; padding-right: 1em; text-align: center; vertical-align: top\">{&#x27;tool&#x27;: 1.0, &#x27;clever&#x27;:<br>1.0, &#x27;binky&#x27;: 2.0, ...</td>\n",
       "        <td style=\"padding-left: 1em; padding-right: 1em; text-align: center; vertical-align: top\">1</td>\n",
       "    </tr>\n",
       "    <tr>\n",
       "        <td style=\"padding-left: 1em; padding-right: 1em; text-align: center; vertical-align: top\">Stop Pacifier Sucking<br>without tears with ...</td>\n",
       "        <td style=\"padding-left: 1em; padding-right: 1em; text-align: center; vertical-align: top\">All of my kids have cried<br>non-stop when I tried to ...</td>\n",
       "        <td style=\"padding-left: 1em; padding-right: 1em; text-align: center; vertical-align: top\">5.0</td>\n",
       "        <td style=\"padding-left: 1em; padding-right: 1em; text-align: center; vertical-align: top\">{&#x27;rock&#x27;: 1.0, &#x27;many&#x27;:<br>1.0, &#x27;headaches&#x27;: 1.0, ...</td>\n",
       "        <td style=\"padding-left: 1em; padding-right: 1em; text-align: center; vertical-align: top\">1</td>\n",
       "    </tr>\n",
       "    <tr>\n",
       "        <td style=\"padding-left: 1em; padding-right: 1em; text-align: center; vertical-align: top\">Stop Pacifier Sucking<br>without tears with ...</td>\n",
       "        <td style=\"padding-left: 1em; padding-right: 1em; text-align: center; vertical-align: top\">When the Binky Fairy came<br>to our house, we didn&#x27;t ...</td>\n",
       "        <td style=\"padding-left: 1em; padding-right: 1em; text-align: center; vertical-align: top\">5.0</td>\n",
       "        <td style=\"padding-left: 1em; padding-right: 1em; text-align: center; vertical-align: top\">{&#x27;thumb&#x27;: 1.0, &#x27;or&#x27;: 1.0,<br>&#x27;break&#x27;: 1.0, &#x27;trying&#x27;: ...</td>\n",
       "        <td style=\"padding-left: 1em; padding-right: 1em; text-align: center; vertical-align: top\">1</td>\n",
       "    </tr>\n",
       "    <tr>\n",
       "        <td style=\"padding-left: 1em; padding-right: 1em; text-align: center; vertical-align: top\">A Tale of Baby&#x27;s Days<br>with Peter Rabbit ...</td>\n",
       "        <td style=\"padding-left: 1em; padding-right: 1em; text-align: center; vertical-align: top\">Lovely book, it&#x27;s bound<br>tightly so you may no ...</td>\n",
       "        <td style=\"padding-left: 1em; padding-right: 1em; text-align: center; vertical-align: top\">4.0</td>\n",
       "        <td style=\"padding-left: 1em; padding-right: 1em; text-align: center; vertical-align: top\">{&#x27;for&#x27;: 1.0, &#x27;barnes&#x27;:<br>1.0, &#x27;at&#x27;: 1.0, &#x27;is&#x27;: ...</td>\n",
       "        <td style=\"padding-left: 1em; padding-right: 1em; text-align: center; vertical-align: top\">1</td>\n",
       "    </tr>\n",
       "    <tr>\n",
       "        <td style=\"padding-left: 1em; padding-right: 1em; text-align: center; vertical-align: top\">Baby Tracker&amp;reg; - Daily<br>Childcare Journal, ...</td>\n",
       "        <td style=\"padding-left: 1em; padding-right: 1em; text-align: center; vertical-align: top\">Perfect for new parents.<br>We were able to keep ...</td>\n",
       "        <td style=\"padding-left: 1em; padding-right: 1em; text-align: center; vertical-align: top\">5.0</td>\n",
       "        <td style=\"padding-left: 1em; padding-right: 1em; text-align: center; vertical-align: top\">{&#x27;right&#x27;: 1.0, &#x27;because&#x27;:<br>1.0, &#x27;questions&#x27;: 1.0, ...</td>\n",
       "        <td style=\"padding-left: 1em; padding-right: 1em; text-align: center; vertical-align: top\">1</td>\n",
       "    </tr>\n",
       "    <tr>\n",
       "        <td style=\"padding-left: 1em; padding-right: 1em; text-align: center; vertical-align: top\">Baby Tracker&amp;reg; - Daily<br>Childcare Journal, ...</td>\n",
       "        <td style=\"padding-left: 1em; padding-right: 1em; text-align: center; vertical-align: top\">A friend of mine pinned<br>this product on Pinte ...</td>\n",
       "        <td style=\"padding-left: 1em; padding-right: 1em; text-align: center; vertical-align: top\">5.0</td>\n",
       "        <td style=\"padding-left: 1em; padding-right: 1em; text-align: center; vertical-align: top\">{&#x27;like&#x27;: 1.0, &#x27;and&#x27;: 1.0,<br>&#x27;changes&#x27;: 1.0, &#x27;the&#x27;: ...</td>\n",
       "        <td style=\"padding-left: 1em; padding-right: 1em; text-align: center; vertical-align: top\">1</td>\n",
       "    </tr>\n",
       "    <tr>\n",
       "        <td style=\"padding-left: 1em; padding-right: 1em; text-align: center; vertical-align: top\">Baby Tracker&amp;reg; - Daily<br>Childcare Journal, ...</td>\n",
       "        <td style=\"padding-left: 1em; padding-right: 1em; text-align: center; vertical-align: top\">This has been an easy way<br>for my nanny to record ...</td>\n",
       "        <td style=\"padding-left: 1em; padding-right: 1em; text-align: center; vertical-align: top\">4.0</td>\n",
       "        <td style=\"padding-left: 1em; padding-right: 1em; text-align: center; vertical-align: top\">{&#x27;in&#x27;: 1.0, &#x27;pages&#x27;: 1.0,<br>&#x27;out&#x27;: 1.0, &#x27;run&#x27;: 1.0, ...</td>\n",
       "        <td style=\"padding-left: 1em; padding-right: 1em; text-align: center; vertical-align: top\">1</td>\n",
       "    </tr>\n",
       "    <tr>\n",
       "        <td style=\"padding-left: 1em; padding-right: 1em; text-align: center; vertical-align: top\">Baby Tracker&amp;reg; - Daily<br>Childcare Journal, ...</td>\n",
       "        <td style=\"padding-left: 1em; padding-right: 1em; text-align: center; vertical-align: top\">I love this journal and<br>our nanny uses it ...</td>\n",
       "        <td style=\"padding-left: 1em; padding-right: 1em; text-align: center; vertical-align: top\">4.0</td>\n",
       "        <td style=\"padding-left: 1em; padding-right: 1em; text-align: center; vertical-align: top\">{&#x27;tracker&#x27;: 1.0, &#x27;now&#x27;:<br>1.0, &#x27;its&#x27;: 1.0, &#x27;sti ...</td>\n",
       "        <td style=\"padding-left: 1em; padding-right: 1em; text-align: center; vertical-align: top\">1</td>\n",
       "    </tr>\n",
       "</table>\n",
       "[166752 rows x 5 columns]<br/>Note: Only the head of the SFrame is printed.<br/>You can use print_rows(num_rows=m, num_columns=n) to print more rows and columns.\n",
       "</div>"
      ],
      "text/plain": [
       "Columns:\n",
       "\tname\tstr\n",
       "\treview\tstr\n",
       "\trating\tfloat\n",
       "\tword_count\tdict\n",
       "\tsentiment\tint\n",
       "\n",
       "Rows: 166752\n",
       "\n",
       "Data:\n",
       "+-------------------------------+-------------------------------+--------+\n",
       "|              name             |             review            | rating |\n",
       "+-------------------------------+-------------------------------+--------+\n",
       "|     Planetwise Wipe Pouch     | it came early and was not ... |  5.0   |\n",
       "| Annas Dream Full Quilt wit... | Very soft and comfortable ... |  5.0   |\n",
       "| Stop Pacifier Sucking with... | This is a product well wor... |  5.0   |\n",
       "| Stop Pacifier Sucking with... | All of my kids have cried ... |  5.0   |\n",
       "| Stop Pacifier Sucking with... | When the Binky Fairy came ... |  5.0   |\n",
       "| A Tale of Baby's Days with... | Lovely book, it's bound ti... |  4.0   |\n",
       "| Baby Tracker&reg; - Daily ... | Perfect for new parents. W... |  5.0   |\n",
       "| Baby Tracker&reg; - Daily ... | A friend of mine pinned th... |  5.0   |\n",
       "| Baby Tracker&reg; - Daily ... | This has been an easy way ... |  4.0   |\n",
       "| Baby Tracker&reg; - Daily ... | I love this journal and ou... |  4.0   |\n",
       "+-------------------------------+-------------------------------+--------+\n",
       "+-------------------------------+-----------+\n",
       "|           word_count          | sentiment |\n",
       "+-------------------------------+-----------+\n",
       "| {'recommend': 1.0, 'disapp... |     1     |\n",
       "| {'quilt': 1.0, 'the': 1.0,... |     1     |\n",
       "| {'tool': 1.0, 'clever': 1.... |     1     |\n",
       "| {'rock': 1.0, 'many': 1.0,... |     1     |\n",
       "| {'thumb': 1.0, 'or': 1.0, ... |     1     |\n",
       "| {'for': 1.0, 'barnes': 1.0... |     1     |\n",
       "| {'right': 1.0, 'because': ... |     1     |\n",
       "| {'like': 1.0, 'and': 1.0, ... |     1     |\n",
       "| {'in': 1.0, 'pages': 1.0, ... |     1     |\n",
       "| {'tracker': 1.0, 'now': 1.... |     1     |\n",
       "+-------------------------------+-----------+\n",
       "[166752 rows x 5 columns]\n",
       "Note: Only the head of the SFrame is printed.\n",
       "You can use print_rows(num_rows=m, num_columns=n) to print more rows and columns."
      ]
     },
     "execution_count": 44,
     "metadata": {},
     "output_type": "execute_result"
    }
   ],
   "source": [
    "products"
   ]
  },
  {
   "cell_type": "markdown",
   "metadata": {},
   "source": [
    "# Train our sentiment classifier"
   ]
  },
  {
   "cell_type": "code",
   "execution_count": 83,
   "metadata": {},
   "outputs": [],
   "source": [
    "train_data,test_data = products.random_split(.8,seed=0)"
   ]
  },
  {
   "cell_type": "code",
   "execution_count": 84,
   "metadata": {},
   "outputs": [
    {
     "data": {
      "text/html": [
       "<pre>Logistic regression:</pre>"
      ],
      "text/plain": [
       "Logistic regression:"
      ]
     },
     "metadata": {},
     "output_type": "display_data"
    },
    {
     "data": {
      "text/html": [
       "<pre>--------------------------------------------------------</pre>"
      ],
      "text/plain": [
       "--------------------------------------------------------"
      ]
     },
     "metadata": {},
     "output_type": "display_data"
    },
    {
     "data": {
      "text/html": [
       "<pre>Number of examples          : 133448</pre>"
      ],
      "text/plain": [
       "Number of examples          : 133448"
      ]
     },
     "metadata": {},
     "output_type": "display_data"
    },
    {
     "data": {
      "text/html": [
       "<pre>Number of classes           : 2</pre>"
      ],
      "text/plain": [
       "Number of classes           : 2"
      ]
     },
     "metadata": {},
     "output_type": "display_data"
    },
    {
     "data": {
      "text/html": [
       "<pre>Number of feature columns   : 1</pre>"
      ],
      "text/plain": [
       "Number of feature columns   : 1"
      ]
     },
     "metadata": {},
     "output_type": "display_data"
    },
    {
     "data": {
      "text/html": [
       "<pre>Number of unpacked features : 57356</pre>"
      ],
      "text/plain": [
       "Number of unpacked features : 57356"
      ]
     },
     "metadata": {},
     "output_type": "display_data"
    },
    {
     "data": {
      "text/html": [
       "<pre>Number of coefficients      : 57357</pre>"
      ],
      "text/plain": [
       "Number of coefficients      : 57357"
      ]
     },
     "metadata": {},
     "output_type": "display_data"
    },
    {
     "data": {
      "text/html": [
       "<pre>Starting L-BFGS</pre>"
      ],
      "text/plain": [
       "Starting L-BFGS"
      ]
     },
     "metadata": {},
     "output_type": "display_data"
    },
    {
     "data": {
      "text/html": [
       "<pre>--------------------------------------------------------</pre>"
      ],
      "text/plain": [
       "--------------------------------------------------------"
      ]
     },
     "metadata": {},
     "output_type": "display_data"
    },
    {
     "data": {
      "text/html": [
       "<pre>+-----------+----------+-----------+--------------+-------------------+---------------------+</pre>"
      ],
      "text/plain": [
       "+-----------+----------+-----------+--------------+-------------------+---------------------+"
      ]
     },
     "metadata": {},
     "output_type": "display_data"
    },
    {
     "data": {
      "text/html": [
       "<pre>| Iteration | Passes   | Step size | Elapsed Time | Training Accuracy | Validation Accuracy |</pre>"
      ],
      "text/plain": [
       "| Iteration | Passes   | Step size | Elapsed Time | Training Accuracy | Validation Accuracy |"
      ]
     },
     "metadata": {},
     "output_type": "display_data"
    },
    {
     "data": {
      "text/html": [
       "<pre>+-----------+----------+-----------+--------------+-------------------+---------------------+</pre>"
      ],
      "text/plain": [
       "+-----------+----------+-----------+--------------+-------------------+---------------------+"
      ]
     },
     "metadata": {},
     "output_type": "display_data"
    },
    {
     "data": {
      "text/html": [
       "<pre>| 0         | 4        | 0.250000  | 0.918999     | 0.841421          | 0.840019            |</pre>"
      ],
      "text/plain": [
       "| 0         | 4        | 0.250000  | 0.918999     | 0.841421          | 0.840019            |"
      ]
     },
     "metadata": {},
     "output_type": "display_data"
    },
    {
     "data": {
      "text/html": [
       "<pre>| 1         | 9        | 3.250000  | 2.075709     | 0.931359          | 0.911362            |</pre>"
      ],
      "text/plain": [
       "| 1         | 9        | 3.250000  | 2.075709     | 0.931359          | 0.911362            |"
      ]
     },
     "metadata": {},
     "output_type": "display_data"
    },
    {
     "data": {
      "text/html": [
       "<pre>| 2         | 11       | 2.669978  | 2.673560     | 0.938650          | 0.916466            |</pre>"
      ],
      "text/plain": [
       "| 2         | 11       | 2.669978  | 2.673560     | 0.938650          | 0.916466            |"
      ]
     },
     "metadata": {},
     "output_type": "display_data"
    },
    {
     "data": {
      "text/html": [
       "<pre>| 3         | 12       | 2.669978  | 3.074801     | 0.927417          | 0.901814            |</pre>"
      ],
      "text/plain": [
       "| 3         | 12       | 2.669978  | 3.074801     | 0.927417          | 0.901814            |"
      ]
     },
     "metadata": {},
     "output_type": "display_data"
    },
    {
     "data": {
      "text/html": [
       "<pre>| 4         | 14       | 1.326072  | 3.665733     | 0.945200          | 0.918088            |</pre>"
      ],
      "text/plain": [
       "| 4         | 14       | 1.326072  | 3.665733     | 0.945200          | 0.918088            |"
      ]
     },
     "metadata": {},
     "output_type": "display_data"
    },
    {
     "data": {
      "text/html": [
       "<pre>| 9         | 20       | 1.326072  | 5.693627     | 0.977654          | 0.917698            |</pre>"
      ],
      "text/plain": [
       "| 9         | 20       | 1.326072  | 5.693627     | 0.977654          | 0.917698            |"
      ]
     },
     "metadata": {},
     "output_type": "display_data"
    },
    {
     "data": {
      "text/html": [
       "<pre>+-----------+----------+-----------+--------------+-------------------+---------------------+</pre>"
      ],
      "text/plain": [
       "+-----------+----------+-----------+--------------+-------------------+---------------------+"
      ]
     },
     "metadata": {},
     "output_type": "display_data"
    }
   ],
   "source": [
    "sentiment_model = turicreate.logistic_classifier.create(train_data,target='sentiment', features=['word_count'], validation_set=test_data)"
   ]
  },
  {
   "cell_type": "code",
   "execution_count": 85,
   "metadata": {},
   "outputs": [
    {
     "data": {
      "text/plain": [
       "{'accuracy': 0.9176975738650012,\n",
       " 'auc': 0.9342357833151299,\n",
       " 'confusion_matrix': Columns:\n",
       " \ttarget_label\tint\n",
       " \tpredicted_label\tint\n",
       " \tcount\tint\n",
       " \n",
       " Rows: 4\n",
       " \n",
       " Data:\n",
       " +--------------+-----------------+-------+\n",
       " | target_label | predicted_label | count |\n",
       " +--------------+-----------------+-------+\n",
       " |      0       |        1        |  1397 |\n",
       " |      1       |        0        |  1344 |\n",
       " |      0       |        0        |  3931 |\n",
       " |      1       |        1        | 26632 |\n",
       " +--------------+-----------------+-------+\n",
       " [4 rows x 3 columns],\n",
       " 'f1_score': 0.951057941255245,\n",
       " 'log_loss': 0.33047871872210066,\n",
       " 'precision': 0.9501587641371436,\n",
       " 'recall': 0.9519588218472976,\n",
       " 'roc_curve': Columns:\n",
       " \tthreshold\tfloat\n",
       " \tfpr\tfloat\n",
       " \ttpr\tfloat\n",
       " \tp\tint\n",
       " \tn\tint\n",
       " \n",
       " Rows: 100001\n",
       " \n",
       " Data:\n",
       " +-----------+--------------------+--------------------+-------+------+\n",
       " | threshold |        fpr         |        tpr         |   p   |  n   |\n",
       " +-----------+--------------------+--------------------+-------+------+\n",
       " |    0.0    |        1.0         |        1.0         | 27976 | 5328 |\n",
       " |   1e-05   | 0.847972972972973  | 0.9975693451529882 | 27976 | 5328 |\n",
       " |   2e-05   | 0.829954954954955  | 0.9971761509865599 | 27976 | 5328 |\n",
       " |   3e-05   | 0.818506006006006  | 0.9969616814412353 | 27976 | 5328 |\n",
       " |   4e-05   | 0.8109984984984985 | 0.9967472118959108 | 27976 | 5328 |\n",
       " |   5e-05   | 0.8057432432432432 | 0.9966042321990277 | 27976 | 5328 |\n",
       " |   6e-05   | 0.7991741741741741 | 0.9962825278810409 | 27976 | 5328 |\n",
       " |   7e-05   | 0.7952327327327328 | 0.9961752931083786 | 27976 | 5328 |\n",
       " |   8e-05   | 0.7920420420420421 | 0.9961038032599371 | 27976 | 5328 |\n",
       " |   9e-05   | 0.7882882882882883 | 0.9958893337146125 | 27976 | 5328 |\n",
       " +-----------+--------------------+--------------------+-------+------+\n",
       " [100001 rows x 5 columns]\n",
       " Note: Only the head of the SFrame is printed.\n",
       " You can use print_rows(num_rows=m, num_columns=n) to print more rows and columns.}"
      ]
     },
     "execution_count": 85,
     "metadata": {},
     "output_type": "execute_result"
    }
   ],
   "source": [
    "sentiment_model.evaluate(test_data)"
   ]
  },
  {
   "cell_type": "markdown",
   "metadata": {},
   "source": [
    "### Accuracy of sentiment model 'accuracy': 0.9176975738650012"
   ]
  },
  {
   "cell_type": "code",
   "execution_count": 86,
   "metadata": {},
   "outputs": [],
   "source": [
    "selected_words = ['awesome', 'great', 'fantastic', 'amazing', 'love', 'horrible', 'bad', 'terrible', 'awful', 'wow', 'hate']"
   ]
  },
  {
   "cell_type": "code",
   "execution_count": 87,
   "metadata": {},
   "outputs": [],
   "source": [
    "def word_count (word_dict, word):\n",
    "    if not (word in word_dict):\n",
    "        return 0\n",
    "    return word_dict[word]"
   ]
  },
  {
   "cell_type": "code",
   "execution_count": 88,
   "metadata": {},
   "outputs": [],
   "source": [
    "for word in selected_words :\n",
    "    products[word] = products['word_count'].apply(lambda x: word_count(x,word))"
   ]
  },
  {
   "cell_type": "markdown",
   "metadata": {},
   "source": [
    "# Question 1"
   ]
  },
  {
   "cell_type": "code",
   "execution_count": 89,
   "metadata": {},
   "outputs": [
    {
     "name": "stdout",
     "output_type": "stream",
     "text": [
      "awesome 3892.0\n",
      "great 55791.0\n",
      "fantastic 1664.0\n",
      "amazing 2628.0\n",
      "love 41994.0\n",
      "horrible 1110\n",
      "bad 4183\n",
      "terrible 1146.0\n",
      "awful 687\n",
      "wow 425\n",
      "hate 1107\n"
     ]
    }
   ],
   "source": [
    "for word in selected_words :\n",
    "    print(word, products[word].sum())"
   ]
  },
  {
   "cell_type": "code",
   "execution_count": 90,
   "metadata": {},
   "outputs": [
    {
     "data": {
      "text/html": [
       "<pre>Logistic regression:</pre>"
      ],
      "text/plain": [
       "Logistic regression:"
      ]
     },
     "metadata": {},
     "output_type": "display_data"
    },
    {
     "data": {
      "text/html": [
       "<pre>--------------------------------------------------------</pre>"
      ],
      "text/plain": [
       "--------------------------------------------------------"
      ]
     },
     "metadata": {},
     "output_type": "display_data"
    },
    {
     "data": {
      "text/html": [
       "<pre>Number of examples          : 133448</pre>"
      ],
      "text/plain": [
       "Number of examples          : 133448"
      ]
     },
     "metadata": {},
     "output_type": "display_data"
    },
    {
     "data": {
      "text/html": [
       "<pre>Number of classes           : 2</pre>"
      ],
      "text/plain": [
       "Number of classes           : 2"
      ]
     },
     "metadata": {},
     "output_type": "display_data"
    },
    {
     "data": {
      "text/html": [
       "<pre>Number of feature columns   : 11</pre>"
      ],
      "text/plain": [
       "Number of feature columns   : 11"
      ]
     },
     "metadata": {},
     "output_type": "display_data"
    },
    {
     "data": {
      "text/html": [
       "<pre>Number of unpacked features : 11</pre>"
      ],
      "text/plain": [
       "Number of unpacked features : 11"
      ]
     },
     "metadata": {},
     "output_type": "display_data"
    },
    {
     "data": {
      "text/html": [
       "<pre>Number of coefficients      : 12</pre>"
      ],
      "text/plain": [
       "Number of coefficients      : 12"
      ]
     },
     "metadata": {},
     "output_type": "display_data"
    },
    {
     "data": {
      "text/html": [
       "<pre>Starting Newton Method</pre>"
      ],
      "text/plain": [
       "Starting Newton Method"
      ]
     },
     "metadata": {},
     "output_type": "display_data"
    },
    {
     "data": {
      "text/html": [
       "<pre>--------------------------------------------------------</pre>"
      ],
      "text/plain": [
       "--------------------------------------------------------"
      ]
     },
     "metadata": {},
     "output_type": "display_data"
    },
    {
     "data": {
      "text/html": [
       "<pre>+-----------+----------+--------------+-------------------+---------------------+</pre>"
      ],
      "text/plain": [
       "+-----------+----------+--------------+-------------------+---------------------+"
      ]
     },
     "metadata": {},
     "output_type": "display_data"
    },
    {
     "data": {
      "text/html": [
       "<pre>| Iteration | Passes   | Elapsed Time | Training Accuracy | Validation Accuracy |</pre>"
      ],
      "text/plain": [
       "| Iteration | Passes   | Elapsed Time | Training Accuracy | Validation Accuracy |"
      ]
     },
     "metadata": {},
     "output_type": "display_data"
    },
    {
     "data": {
      "text/html": [
       "<pre>+-----------+----------+--------------+-------------------+---------------------+</pre>"
      ],
      "text/plain": [
       "+-----------+----------+--------------+-------------------+---------------------+"
      ]
     },
     "metadata": {},
     "output_type": "display_data"
    },
    {
     "data": {
      "text/html": [
       "<pre>| 1         | 2        | 0.223314     | 0.847401          | 0.845874            |</pre>"
      ],
      "text/plain": [
       "| 1         | 2        | 0.223314     | 0.847401          | 0.845874            |"
      ]
     },
     "metadata": {},
     "output_type": "display_data"
    },
    {
     "data": {
      "text/html": [
       "<pre>| 2         | 3        | 0.332410     | 0.847514          | 0.846085            |</pre>"
      ],
      "text/plain": [
       "| 2         | 3        | 0.332410     | 0.847514          | 0.846085            |"
      ]
     },
     "metadata": {},
     "output_type": "display_data"
    },
    {
     "data": {
      "text/html": [
       "<pre>| 3         | 4        | 0.441780     | 0.847626          | 0.846115            |</pre>"
      ],
      "text/plain": [
       "| 3         | 4        | 0.441780     | 0.847626          | 0.846115            |"
      ]
     },
     "metadata": {},
     "output_type": "display_data"
    },
    {
     "data": {
      "text/html": [
       "<pre>| 4         | 5        | 0.545102     | 0.847708          | 0.846385            |</pre>"
      ],
      "text/plain": [
       "| 4         | 5        | 0.545102     | 0.847708          | 0.846385            |"
      ]
     },
     "metadata": {},
     "output_type": "display_data"
    },
    {
     "data": {
      "text/html": [
       "<pre>| 5         | 6        | 0.658063     | 0.847708          | 0.846385            |</pre>"
      ],
      "text/plain": [
       "| 5         | 6        | 0.658063     | 0.847708          | 0.846385            |"
      ]
     },
     "metadata": {},
     "output_type": "display_data"
    },
    {
     "data": {
      "text/html": [
       "<pre>| 6         | 7        | 0.779738     | 0.847708          | 0.846385            |</pre>"
      ],
      "text/plain": [
       "| 6         | 7        | 0.779738     | 0.847708          | 0.846385            |"
      ]
     },
     "metadata": {},
     "output_type": "display_data"
    },
    {
     "data": {
      "text/html": [
       "<pre>+-----------+----------+--------------+-------------------+---------------------+</pre>"
      ],
      "text/plain": [
       "+-----------+----------+--------------+-------------------+---------------------+"
      ]
     },
     "metadata": {},
     "output_type": "display_data"
    },
    {
     "data": {
      "text/html": [
       "<pre>SUCCESS: Optimal solution found.</pre>"
      ],
      "text/plain": [
       "SUCCESS: Optimal solution found."
      ]
     },
     "metadata": {},
     "output_type": "display_data"
    },
    {
     "data": {
      "text/html": [
       "<pre></pre>"
      ],
      "text/plain": []
     },
     "metadata": {},
     "output_type": "display_data"
    }
   ],
   "source": [
    "selected_words_model = turicreate.logistic_classifier.create(train_data,target='sentiment', features= selected_words, validation_set=test_data)"
   ]
  },
  {
   "cell_type": "markdown",
   "metadata": {},
   "source": [
    "# Question 2\n"
   ]
  },
  {
   "cell_type": "code",
   "execution_count": 127,
   "metadata": {},
   "outputs": [
    {
     "name": "stdout",
     "output_type": "stream",
     "text": [
      "+-------------+----------------------+-------+-----------------------+-----+\n",
      "|     name    |        index         | class |         value         | ... |\n",
      "+-------------+----------------------+-------+-----------------------+-----+\n",
      "| (intercept) |         None         |   1   |   1.240508137457956   | ... |\n",
      "|  word_count |          0           |   1   |  -0.7701126717681165  | ... |\n",
      "|  word_count |          00          |   1   |  -0.9437426024788287  | ... |\n",
      "|  word_count |         000          |   1   |  -0.7176877760475436  | ... |\n",
      "|  word_count |         0001         |   1   |   2.4808091275882385  | ... |\n",
      "|  word_count |        000ft         |   1   |   2.228440789477914   | ... |\n",
      "|  word_count |         001          |   1   |   -7.906440589853358  | ... |\n",
      "|  word_count |        001cm         |   1   |   0.3334804853930616  | ... |\n",
      "|  word_count |         00am         |   1   |   0.6832922895372402  | ... |\n",
      "|  word_count |      00amcreepy      |   1   |   -5.822364509703614  | ... |\n",
      "|  word_count |        00cons        |   1   |  0.19286993638592934  | ... |\n",
      "|  word_count |      00dollars       |   1   |   -3.744732775871801  | ... |\n",
      "|  word_count |         00pm         |   1   |   0.8768232645760213  | ... |\n",
      "|  word_count |          01          |   1   |  -0.49180139152888885 | ... |\n",
      "|  word_count |         01p          |   1   |   -6.345308004824476  | ... |\n",
      "|  word_count | 01wrgftjdd1bxmtbsg76 |   1   |   1.7768071101945195  | ... |\n",
      "|  word_count |          02          |   1   |   0.1534565060236749  | ... |\n",
      "|  word_count |        02000z        |   1   |   3.5149466554374933  | ... |\n",
      "|  word_count |        02060         |   1   |   0.4569293976645493  | ... |\n",
      "|  word_count |        02072         |   1   |  -3.1312986120091835  | ... |\n",
      "|  word_count |        02090         |   1   |  0.22620398530269112  | ... |\n",
      "|  word_count |       020902nd       |   1   |  0.21716113113354907  | ... |\n",
      "|  word_count |        0209a         |   1   |  0.21716113113354907  | ... |\n",
      "|  word_count |        02100         |   1   |   0.4569293976645493  | ... |\n",
      "|  word_count |        02100a        |   1   |  0.21716113113354907  | ... |\n",
      "|  word_count |        0210a         |   1   |  0.21716113113354907  | ... |\n",
      "|  word_count |        02180         |   1   |  -0.6132195597691434  | ... |\n",
      "|  word_count |        02640a        |   1   |   -5.78809014822979   | ... |\n",
      "|  word_count |        02720         |   1   |  0.21716113113354907  | ... |\n",
      "|  word_count |          03          |   1   | -0.027804015099585532 | ... |\n",
      "|  word_count |         030          |   1   |   -2.617603828772527  | ... |\n",
      "|  word_count |       0312258        |   1   |  -2.7569765977978244  | ... |\n",
      "|  word_count |          04          |   1   |  -0.9640797916944072  | ... |\n",
      "|  word_count |         0409         |   1   |   -5.303048355867297  | ... |\n",
      "|  word_count |         0453         |   1   |    8.1190988552401    | ... |\n",
      "|  word_count |       046060us       |   1   |   2.0521633387232505  | ... |\n",
      "|  word_count |          05          |   1   |  -0.9256153988427054  | ... |\n",
      "|  word_count |         05oz         |   1   |   -1.24616534955405   | ... |\n",
      "|  word_count |          06          |   1   |   1.2014298253445648  | ... |\n",
      "|  word_count |          07          |   1   |   0.8438475376516411  | ... |\n",
      "|  word_count |      0752sjthe       |   1   |  -2.9465768588765955  | ... |\n",
      "|  word_count |         07pm         |   1   |   2.2109849128415164  | ... |\n",
      "|  word_count |        07the         |   1   |   1.0726211556795935  | ... |\n",
      "|  word_count |          08          |   1   |  -0.2667668241204006  | ... |\n",
      "|  word_count |        08280         |   1   |   4.329128688076407   | ... |\n",
      "|  word_count |          09          |   1   |   3.5586191240040526  | ... |\n",
      "|  word_count |         093          |   1   |  0.17961325334009395  | ... |\n",
      "|  word_count |        09she         |   1   |   0.2002686066452857  | ... |\n",
      "|  word_count |      0bviously       |   1   |   1.2238067607138896  | ... |\n",
      "|  word_count |        0fast         |   1   |   1.0276720414916347  | ... |\n",
      "|  word_count |         0ghz         |   1   |   2.3961808370059017  | ... |\n",
      "|  word_count |         0ld          |   1   |   1.2814687450044668  | ... |\n",
      "|  word_count |          0m          |   1   |   4.124551964947155   | ... |\n",
      "|  word_count |         0ne          |   1   |   3.5241166418891487  | ... |\n",
      "|  word_count |         0px          |   1   |  -3.2673257044038735  | ... |\n",
      "|  word_count |          0r          |   1   |   0.5323857365178897  | ... |\n",
      "|  word_count |          0s          |   1   |  -1.9795821181862348  | ... |\n",
      "|  word_count |         0ver         |   1   |  -19.800902630154383  | ... |\n",
      "|  word_count |          0z          |   1   |   1.8817668728010228  | ... |\n",
      "|  word_count |          1           |   1   |  -0.3311872158133014  | ... |\n",
      "|  word_count |          10          |   1   |  -0.24319729327456216 | ... |\n",
      "|  word_count |         100          |   1   |  0.23052290171349749  | ... |\n",
      "|  word_count |         1000         |   1   |  -0.18254946245653286 | ... |\n",
      "|  word_count |        10000         |   1   |   -7.38211967171608   | ... |\n",
      "|  word_count |        100000        |   1   |   4.280681694634574   | ... |\n",
      "|  word_count |        1000ma        |   1   |   -5.863107153541944  | ... |\n",
      "|  word_count |        1000x         |   1   |   -6.40878560056473   | ... |\n",
      "|  word_count |        10084         |   1   |   0.9583179217347798  | ... |\n",
      "|  word_count |      100degree       |   1   |   -7.054023277161641  | ... |\n",
      "|  word_count |         100f         |   1   |   -6.183532251309313  | ... |\n",
      "|  word_count |       100feet        |   1   |   0.5916977718862689  | ... |\n",
      "|  word_count |        100ft         |   1   |   2.5238221707991717  | ... |\n",
      "|  word_count |        100lb         |   1   |   -2.590912883470209  | ... |\n",
      "|  word_count |        100lbs        |   1   |   1.7413803390528713  | ... |\n",
      "|  word_count |      100lbswill      |   1   |   3.4817226420631875  | ... |\n",
      "|  word_count |        100mb         |   1   |   -2.75864018010058   | ... |\n",
      "|  word_count |        100ml         |   1   |   1.713075681974298   | ... |\n",
      "|  word_count |       100next        |   1   |   1.707964381556348   | ... |\n",
      "|  word_count |        100oz         |   1   |  -11.612371082325016  | ... |\n",
      "|  word_count |         100s         |   1   |   3.297796712603335   | ... |\n",
      "|  word_count |        100th         |   1   |   0.3376476993582057  | ... |\n",
      "|  word_count |         100x         |   1   |   1.3648585306277712  | ... |\n",
      "|  word_count |         101          |   1   |   -2.576376683768632  | ... |\n",
      "|  word_count |        101cm         |   1   |   5.473136032139777   | ... |\n",
      "|  word_count |         101f         |   1   |   -4.100652391177764  | ... |\n",
      "|  word_count |       101looks       |   1   |  -3.6386571504407166  | ... |\n",
      "|  word_count |         102          |   1   |   -1.977976661744067  | ... |\n",
      "|  word_count |         1027         |   1   |   1.2107786886324854  | ... |\n",
      "|  word_count |         1029         |   1   |  -2.8729649787934335  | ... |\n",
      "|  word_count |         103          |   1   |  -0.7994337010539572  | ... |\n",
      "|  word_count |         1032         |   1   |   0.5916977718862689  | ... |\n",
      "|  word_count |        103in         |   1   |  -1.8841962406603323  | ... |\n",
      "|  word_count |         104          |   1   |  -3.6203517400162144  | ... |\n",
      "|  word_count |         1040         |   1   |  0.03626103848756873  | ... |\n",
      "|  word_count |         1041         |   1   |  0.09065259621892185  | ... |\n",
      "|  word_count |         1042         |   1   |  0.03626103848756873  | ... |\n",
      "|  word_count |         1044         |   1   |  0.27387445016720113  | ... |\n",
      "|  word_count |         1045         |   1   |  0.08401574150211973  | ... |\n",
      "|  word_count |         1046         |   1   |   0.1813051924378437  | ... |\n",
      "|  word_count |         1047         |   1   |   2.0559750378183774  | ... |\n",
      "|  word_count |         1048         |   1   |  0.04532629810946093  | ... |\n",
      "|  word_count |         1049         |   1   |   0.1813051924378437  | ... |\n",
      "|  word_count |         105          |   1   |   0.7098404966165651  | ... |\n",
      "|  word_count |         1050         |   1   |  0.06043506414594791  | ... |\n",
      "|  word_count |         1051         |   1   |  0.09065259621892185  | ... |\n",
      "|  word_count |         1052         |   1   |  0.36193172400624174  | ... |\n",
      "|  word_count |         1053         |   1   |  0.27387445016720113  | ... |\n",
      "|  word_count |         1054         |   1   |  0.030043017866403718 | ... |\n",
      "|  word_count |         1055         |   1   |  0.06043506414594791  | ... |\n",
      "|  word_count |         1056         |   1   |  0.09065259621892185  | ... |\n",
      "|  word_count |         1057         |   1   |  0.04532629810946093  | ... |\n",
      "|  word_count |         1058         |   1   |  0.030217532072973955 | ... |\n",
      "|  word_count |         1059         |   1   |  0.06043506414594791  | ... |\n",
      "|  word_count |        105lbs        |   1   |   0.8438759541991186  | ... |\n",
      "|  word_count |         106          |   1   |  0.39634878393836637  | ... |\n",
      "|  word_count |         1063         |   1   |   0.1813051924378437  | ... |\n",
      "|  word_count |         1064         |   1   |   0.1813051924378437  | ... |\n",
      "|  word_count |         1067         |   1   |  0.09065259621892185  | ... |\n",
      "|  word_count |         1068         |   1   |   0.1813051924378437  | ... |\n",
      "|  word_count |         1069         |   1   |   0.1813051924378437  | ... |\n",
      "|  word_count |         107          |   1   |   2.0571732544921106  | ... |\n",
      "|  word_count |         1071         |   1   |   0.1317704445169288  | ... |\n",
      "|  word_count |         1072         |   1   |  0.011997571158672721 | ... |\n",
      "|  word_count |         1073         |   1   |  0.01044408850635604  | ... |\n",
      "|  word_count |         1074         |   1   |  0.013423623743552467 | ... |\n",
      "|  word_count |         1075         |   1   |  0.08860326609373953  | ... |\n",
      "|  word_count |         1076         |   1   |  0.020224622046262214 | ... |\n",
      "|  word_count |         1077         |   1   |  0.007365488206564905 | ... |\n",
      "|  word_count |         1078         |   1   |  0.05756143838772642  | ... |\n",
      "|  word_count |         1079         |   1   |  0.032860050779719166 | ... |\n",
      "|  word_count |         108          |   1   |  -0.6921149686359702  | ... |\n",
      "|  word_count |         1080         |   1   |  0.008452779954908653 | ... |\n",
      "|  word_count |        1080p         |   1   |   0.3555202585957229  | ... |\n",
      "|  word_count |         1081         |   1   |  0.13899369990771474  | ... |\n",
      "|  word_count |         1082         |   1   |  0.012298899745074749 | ... |\n",
      "|  word_count |         1083         |   1   |  0.012923260492534915 | ... |\n",
      "|  word_count |         1084         |   1   |  0.01963221667792298  | ... |\n",
      "|  word_count |         1085         |   1   |  0.018991471702689635 | ... |\n",
      "|  word_count |         1086         |   1   |  0.007174876449142257 | ... |\n",
      "|  word_count |         1087         |   1   |  0.011010024843927125 | ... |\n",
      "|  word_count |         1088         |   1   |  0.017450268749962753 | ... |\n",
      "|  word_count |         1089         |   1   |  0.01342594817496765  | ... |\n",
      "|  word_count |         109          |   1   |  0.07583627645455142  | ... |\n",
      "|  word_count |         1090         |   1   |  0.014653850141315079 | ... |\n",
      "|  word_count |         1091         |   1   |  0.02117718772245716  | ... |\n",
      "|  word_count |         1093         |   1   |  0.04200787075105986  | ... |\n",
      "|  word_count |         1094         |   1   |   0.1317704445169288  | ... |\n",
      "|  word_count |         1095         |   1   |  0.04552000185978746  | ... |\n",
      "|  word_count |         1096         |   1   |  0.04331400589414815  | ... |\n",
      "|  word_count |         1097         |   1   |  0.21325350639278895  | ... |\n",
      "|  word_count |         1099         |   1   |  0.03523905417617469  | ... |\n",
      "|  word_count |         10am         |   1   |    2.36341300617431   | ... |\n",
      "|  word_count |       10dollar       |   1   |   -7.755843777152231  | ... |\n",
      "|  word_count |         10ft         |   1   |   -5.112936160667305  | ... |\n",
      "|  word_count |         10g          |   1   |   0.4086828508761983  | ... |\n",
      "|  word_count |        10hour        |   1   |   4.156243815291772   | ... |\n",
      "|  word_count |       10hours        |   1   |   1.3383917371351919  | ... |\n",
      "|  word_count |        10hrs         |   1   |  0.27244528983211497  | ... |\n",
      "|  word_count |         10i          |   1   |   19.545193951826093  | ... |\n",
      "|  word_count |         10in         |   1   |  -0.2141861292917876  | ... |\n",
      "|  word_count |       10inches       |   1   |  -13.688313262395067  | ... |\n",
      "|  word_count |        10ish         |   1   |   0.5183358738671296  | ... |\n",
      "|  word_count |         10k          |   1   |   1.4178866200988003  | ... |\n",
      "|  word_count |         10kg         |   1   |  0.23763586452735738  | ... |\n",
      "|  word_count |         10lb         |   1   |   -1.952601227085058  | ... |\n",
      "|  word_count |        10lbs         |   1   |   -4.194609519609455  | ... |\n",
      "|  word_count |         10m          |   1   |   2.5299763191956712  | ... |\n",
      "|  word_count |        10min         |   1   |   0.8408519701547804  | ... |\n",
      "|  word_count |        10mins        |   1   |   1.767115191434438   | ... |\n",
      "|  word_count |      10minutes       |   1   |   -8.807492986623318  | ... |\n",
      "|  word_count |         10mm         |   1   |   1.6264800891607152  | ... |\n",
      "|  word_count |         10mo         |   1   |   5.362652885150434   | ... |\n",
      "|  word_count |       10month        |   1   |   3.417482808461906   | ... |\n",
      "|  word_count |       10months       |   1   |   1.955569586952097   | ... |\n",
      "|  word_count |        10more        |   1   |   3.2912936936106627  | ... |\n",
      "|  word_count |        10mos         |   1   |   2.7749782391079303  | ... |\n",
      "|  word_count |        10mph         |   1   |   -5.08830883118155   | ... |\n",
      "|  word_count |        10mth         |   1   |   1.521513403868737   | ... |\n",
      "|  word_count |        10mths        |   1   |   1.7133700838783736  | ... |\n",
      "|  word_count |         10oz         |   1   |   1.0219017492517979  | ... |\n",
      "|  word_count |         10pc         |   1   |   1.1527869546319232  | ... |\n",
      "|  word_count |        10pcs         |   1   |   8.290658707638787   | ... |\n",
      "|  word_count |         10pm         |   1   |  -0.8436580320808997  | ... |\n",
      "|  word_count |         10s          |   1   |  0.29009930226451464  | ... |\n",
      "|  word_count |        10sec         |   1   |  0.45158630255670135  | ... |\n",
      "|  word_count |         10sq         |   1   |   0.6269033570723322  | ... |\n",
      "|  word_count |         10th         |   1   |   -2.131901290570646  | ... |\n",
      "|  word_count |         10v          |   1   |   1.424573144215824   | ... |\n",
      "|  word_count |        10week        |   1   |   3.014348530679064   | ... |\n",
      "|  word_count |         10wk         |   1   |   -22.36174750478287  | ... |\n",
      "|  word_count |        10wks         |   1   |   1.1832287944029807  | ... |\n",
      "|  word_count |         10x          |   1   |  0.21181632130987854  | ... |\n",
      "|  word_count |        10x10         |   1   |   3.5139251654323522  | ... |\n",
      "|  word_count |        10x12         |   1   |   1.5723410112156406  | ... |\n",
      "|  word_count |         10xs         |   1   |   -4.286526639012955  | ... |\n",
      "|  word_count |         10yo         |   1   |   0.5569073292805682  | ... |\n",
      "|  word_count |         10yr         |   1   |   1.1158410516528892  | ... |\n",
      "|  word_count |        10yrs         |   1   |  0.39199300012409694  | ... |\n",
      "|  word_count |          11          |   1   |  -0.47354271253336283 | ... |\n",
      "|  word_count |         110          |   1   |  0.18897784993027247  | ... |\n",
      "|  word_count |         1100         |   1   |  0.05661337335143418  | ... |\n",
      "|  word_count |       1100mah        |   1   |  0.21716113113354907  | ... |\n",
      "|  word_count |         1101         |   1   |   0.3023384733953375  | ... |\n",
      "|  word_count |         1102         |   1   |   0.2751170828153791  | ... |\n",
      "|  word_count |         1103         |   1   |  0.022548199924123487 | ... |\n",
      "|  word_count |         1105         |   1   |  0.03626103848756873  | ... |\n",
      "|  word_count |         1108         |   1   |   3.9992701030482762  | ... |\n",
      "|  word_count |        11088         |   1   |   0.3901574759817326  | ... |\n",
      "|  word_count |        110lb         |   1   |   -2.187990515250545  | ... |\n",
      "|  word_count |        110lbs        |   1   |   -3.192450847769927  | ... |\n",
      "|  word_count |        110mph        |   1   |   4.5119553110025805  | ... |\n",
      "|  word_count |         110v         |   1   |   -2.913917234086028  | ... |\n",
      "|  word_count |         111          |   1   |   3.3350184781274073  | ... |\n",
      "|  word_count |        11138         |   1   |   0.8704024915501924  | ... |\n",
      "|  word_count |         112          |   1   |   -0.933121221458494  | ... |\n",
      "|  word_count |        112lb         |   1   |   4.388862558229625   | ... |\n",
      "|  word_count |        112lbs        |   1   |   -8.067035639522596  | ... |\n",
      "|  word_count |         113          |   1   |   0.1770568954692901  | ... |\n",
      "|  word_count |         1132         |   1   |   1.0520924320921698  | ... |\n",
      "|  word_count |         114          |   1   |   1.4567163506493537  | ... |\n",
      "|  word_count |        1145am        |   1   |   0.5429237703256713  | ... |\n",
      "|  word_count |         115          |   1   |   1.2341980609460272  | ... |\n",
      "|  word_count |        115lb         |   1   |   1.9253917423511406  | ... |\n",
      "|  word_count |        115lbs        |   1   |   3.558004110821175   | ... |\n",
      "|  word_count |         116          |   1   |   0.8233843125655265  | ... |\n",
      "|  word_count |         117          |   1   |    1.60434031584251   | ... |\n",
      "|  word_count |         118          |   1   |   -8.12948975343064   | ... |\n",
      "|  word_count |         119          |   1   |  -5.0651677188906294  | ... |\n",
      "|  word_count |       11after        |   1   |   -3.689251668424148  | ... |\n",
      "|  word_count |         11am         |   1   |  -0.31701379816368574 | ... |\n",
      "|  word_count |         11b          |   1   |  -2.4855876286881062  | ... |\n",
      "|  word_count |        11edit        |   1   |  0.18151237316863897  | ... |\n",
      "|  word_count |         11g          |   1   |   0.989799911727366   | ... |\n",
      "|  word_count |         11h          |   1   |   0.4267154063745887  | ... |\n",
      "|  word_count |        11hrs         |   1   |   2.2796651281296914  | ... |\n",
      "|  word_count |         11i          |   1   |   0.561756317772864   | ... |\n",
      "|  word_count |        11inch        |   1   |   2.736162354293044   | ... |\n",
      "|  word_count |         11k          |   1   |   -7.076226853080193  | ... |\n",
      "|  word_count |         11l          |   1   |   7.388496191097602   | ... |\n",
      "|  word_count |         11lb         |   1   |   1.318354770105546   | ... |\n",
      "|  word_count |        11lbs         |   1   |   1.1407969534993732  | ... |\n",
      "|  word_count |         11m          |   1   |   2.427557765727922   | ... |\n",
      "|  word_count |         11mo         |   1   |   2.521960874235793   | ... |\n",
      "|  word_count |        11mon         |   1   |   3.426165432129054   | ... |\n",
      "|  word_count |       11month        |   1   |   1.0030391813179462  | ... |\n",
      "|  word_count |       11months       |   1   |   1.7766824142128492  | ... |\n",
      "|  word_count |        11mos         |   1   |   2.6240386208013535  | ... |\n",
      "|  word_count |        11mth         |   1   |  0.26345925953804633  | ... |\n",
      "|  word_count |        11mths        |   1   |  0.30612428236656214  | ... |\n",
      "|  word_count |         11n          |   1   |   0.7370858528907656  | ... |\n",
      "|  word_count |         11oz         |   1   |   1.5153747276746339  | ... |\n",
      "|  word_count |         11pm         |   1   |   5.865927915198328   | ... |\n",
      "|  word_count |       11pounds       |   1   |   6.053634283460377   | ... |\n",
      "|  word_count |         11s          |   1   |   1.4732114549150555  | ... |\n",
      "|  word_count |         11th         |   1   |  -1.1495129101249524  | ... |\n",
      "|  word_count |        11the         |   1   |   -9.54536351055088   | ... |\n",
      "|  word_count |         11we         |   1   |   -3.689251668424148  | ... |\n",
      "|  word_count |        11week        |   1   |   1.4321490397775571  | ... |\n",
      "|  word_count |       11x11x11       |   1   |   1.3885701518869216  | ... |\n",
      "|  word_count |        11x14         |   1   |   2.539664810658311   | ... |\n",
      "|  word_count |        11x24         |   1   |   -3.923730546711497  | ... |\n",
      "|  word_count |         11yr         |   1   |   2.910560992767009   | ... |\n",
      "|  word_count |        11yrs         |   1   |   0.1859191439249755  | ... |\n",
      "|  word_count |          12          |   1   |  -0.08295002025409859 | ... |\n",
      "|  word_count |         120          |   1   |  -0.2914278361356995  | ... |\n",
      "|  word_count |         1200         |   1   |   -1.92447293399711   | ... |\n",
      "|  word_count |        1200sq        |   1   |  0.21819570355091958  | ... |\n",
      "|  word_count |        120100        |   1   |  -2.9541106809850115  | ... |\n",
      "|  word_count |         120f         |   1   |  0.21779491188748404  | ... |\n",
      "|  word_count |        120ish        |   1   |  -20.043747329453144  | ... |\n",
      "|  word_count |        120lb         |   1   |   2.230726285591156   | ... |\n",
      "|  word_count |        120lbs        |   1   |  -0.6468750051381964  | ... |\n",
      "|  word_count |        120ml         |   1   |   0.394695510756251   | ... |\n",
      "|  word_count |        120us         |   1   |   0.2632850850676503  | ... |\n",
      "|  word_count |         120v         |   1   |   -4.013032979753255  | ... |\n",
      "|  word_count |         1219         |   1   |   0.1778048429437218  | ... |\n",
      "|  word_count |         1220         |   1   |   0.1778048429437218  | ... |\n",
      "|  word_count |         1227         |   1   |  -2.6029056461250315  | ... |\n",
      "|  word_count |        12288         |   1   |   3.955806228933421   | ... |\n",
      "|  word_count |        12289         |   1   |   2.889394934405269   | ... |\n",
      "|  word_count |        12290         |   1   |   0.8469533383492028  | ... |\n",
      "|  word_count |       122inch        |   1   |  0.44657360625943054  | ... |\n",
      "|  word_count |        122lb         |   1   |   1.001839122108158   | ... |\n",
      "|  word_count |         123          |   1   |   2.013822316718904   | ... |\n",
      "|  word_count |         1230         |   1   |   0.8510857963691967  | ... |\n",
      "|  word_count |         1231         |   1   |  -2.6029056461250315  | ... |\n",
      "|  word_count |         123s         |   1   |   2.347033062937606   | ... |\n",
      "|  word_count |         124          |   1   |   2.2109849128415164  | ... |\n",
      "|  word_count |      1246131975      |   1   |  -11.020150745261011  | ... |\n",
      "|  word_count |         125          |   1   |   -2.757878198745626  | ... |\n",
      "|  word_count |         1250         |   1   |    3.31854262621021   | ... |\n",
      "|  word_count |        125cc         |   1   |   3.1177848065105023  | ... |\n",
      "|  word_count |         125f         |   1   |   2.2109849128415164  | ... |\n",
      "|  word_count |      125mhz2444      |   1   |   1.297070358489167   | ... |\n",
      "|  word_count |      125mhz2462      |   1   |   1.297070358489167   | ... |\n",
      "|  word_count |         126          |   1   |   4.929550266920374   | ... |\n",
      "|  word_count |         127          |   1   |  0.22879196952404596  | ... |\n",
      "|  word_count |         1270         |   1   |  -2.6029056461250315  | ... |\n",
      "|  word_count |         1273         |   1   |  -2.6029056461250315  | ... |\n",
      "|  word_count |        127lbs        |   1   |   0.5843804669494771  | ... |\n",
      "|  word_count |         127v         |   1   |    2.74819618175327   | ... |\n",
      "|  word_count |      1280306464      |   1   |  0.18176937509615007  | ... |\n",
      "|  word_count |        128076        |   1   |   2.7439965243459303  | ... |\n",
      "|  word_count |        128077        |   1   |   1.8471891391858042  | ... |\n",
      "|  word_count |        128079        |   1   |  -1.1855783318687096  | ... |\n",
      "|  word_count |        128512        |   1   |   3.5538699274854766  | ... |\n",
      "|  word_count |        128514        |   1   |   2.2004117154135465  | ... |\n",
      "|  word_count |        128515        |   1   |   2.1327341945611895  | ... |\n",
      "|  word_count |        128522        |   1   |   2.922712771547642   | ... |\n",
      "|  word_count |        128525        |   1   |   0.5501029288533866  | ... |\n",
      "|  word_count |        128548        |   1   |   5.137270670138916   | ... |\n",
      "|  word_count |        128575        |   1   |   5.137270670138916   | ... |\n",
      "|  word_count |         129          |   1   |  -0.03678968296855856 | ... |\n",
      "|  word_count |       129020lv       |   1   |  0.18278234264282311  | ... |\n",
      "|  word_count |      1291773849      |   1   |   -3.338226505655494  | ... |\n",
      "|  word_count |      1291774118      |   1   |   -3.338226505655494  | ... |\n",
      "|  word_count |         12am         |   1   |   0.5933516054342097  | ... |\n",
      "|  word_count |        12ball        |   1   |  -12.516019203634555  | ... |\n",
      "|  word_count |         12bs         |   1   |  0.17708519179657692  | ... |\n",
      "|  word_count |         12ft         |   1   |  0.28991530874091076  | ... |\n",
      "|  word_count |         12h          |   1   |   0.5107044146458041  | ... |\n",
      "|  word_count |        12hour        |   1   |  0.36524030570468524  | ... |\n",
      "|  word_count |         12hr         |   1   |   -5.945142905230311  | ... |\n",
      "|  word_count |         12i          |   1   |  -11.184507181520258  | ... |\n",
      "|  word_count |       12inches       |   1   |    8.24608898036558   | ... |\n",
      "|  word_count |         12lb         |   1   |  -0.5289733777430647  | ... |\n",
      "|  word_count |        12lbs         |   1   |   1.4981314374863632  | ... |\n",
      "|  word_count |         12m          |   1   |  0.38178583804082866  | ... |\n",
      "|  word_count |         12mo         |   1   |   2.126032092534923   | ... |\n",
      "|  word_count |       12month        |   1   |   0.3187848906939773  | ... |\n",
      "|  word_count |       12months       |   1   |   1.221494840641858   | ... |\n",
      "|  word_count |        12mos         |   1   |   1.3812864438800316  | ... |\n",
      "|  word_count |        12mths        |   1   |   0.7267434710221762  | ... |\n",
      "|  word_count |         12my         |   1   |   0.543689732582039   | ... |\n",
      "|  word_count |         12o          |   1   |  0.17732342726642206  | ... |\n",
      "|  word_count |         12oz         |   1   |  -2.8879521933363437  | ... |\n",
      "|  word_count |        12pack        |   1   |  -4.0681452609158555  | ... |\n",
      "|  word_count |         12th         |   1   |  0.05903303017373957  | ... |\n",
      "|  word_count |      12updated       |   1   |    1.30377479758908   | ... |\n",
      "|  word_count |         12v          |   1   |  -0.4118958881622435  | ... |\n",
      "|  word_count |        12vdc         |   1   |  0.17071246308856722  | ... |\n",
      "|  word_count |        12volt        |   1   |   3.1435950445964194  | ... |\n",
      "|  word_count |       12volts        |   1   |   5.482003537096167   | ... |\n",
      "|  word_count |       12weeks        |   1   |   3.6643019640565493  | ... |\n",
      "|  word_count |         12wk         |   1   |   2.058312886199633   | ... |\n",
      "|  word_count |        12wks         |   1   |   0.2757990063511917  | ... |\n",
      "|  word_count |        12x10         |   1   |   4.837453714037242   | ... |\n",
      "|  word_count |        12x12         |   1   |   1.8233357672758914  | ... |\n",
      "|  word_count |        12x48         |   1   |   -5.326831539825486  | ... |\n",
      "|  word_count |        12yrs         |   1   |  0.39199300012409694  | ... |\n",
      "|  word_count |          13          |   1   |  0.09204194309898006  | ... |\n",
      "|  word_count |         130          |   1   |   0.8226352922069603  | ... |\n",
      "|  word_count |         1300         |   1   |   3.020473640551036   | ... |\n",
      "|  word_count |      1303583995      |   1   |  -3.1495649013149087  | ... |\n",
      "|  word_count |         130f         |   1   |   2.2109849128415164  | ... |\n",
      "|  word_count |        130lb         |   1   |   1.3525942686057677  | ... |\n",
      "|  word_count |        130lbs        |   1   |  -0.7024966965522743  | ... |\n",
      "|  word_count |         1317         |   1   |   0.6405954051369819  | ... |\n",
      "|  word_count |         132          |   1   |  0.06608113364531319  | ... |\n",
      "|  word_count |      1326473230      |   1   |   2.5586946248231213  | ... |\n",
      "|  word_count |         133          |   1   |   -3.057121658133157  | ... |\n",
      "|  word_count |      1332983943      |   1   |   1.683968720130303   | ... |\n",
      "|  word_count |      1337219171      |   1   |   -4.430994356695597  | ... |\n",
      "|  word_count |      1339620189      |   1   |   1.1597364806580284  | ... |\n",
      "|  word_count |      1339678162      |   1   |  0.40503177246997507  | ... |\n",
      "|  word_count |         134          |   1   |   -6.056160110722397  | ... |\n",
      "|  word_count |         1341         |   1   |  0.27936455028977836  | ... |\n",
      "|  word_count |      1343084111      |   1   |  0.42839594294189287  | ... |\n",
      "|  word_count |      1348806657      |   1   |   0.6733339668965493  | ... |\n",
      "|  word_count |         135          |   1   |   2.819719397888568   | ... |\n",
      "|  word_count |      1355248679      |   1   |   7.7395082554472205  | ... |\n",
      "|  word_count |      1356056053      |   1   |   1.812069206550011   | ... |\n",
      "|  word_count |      1357838224      |   1   |   -7.288154084126511  | ... |\n",
      "|  word_count |      1358790060      |   1   |   -3.901323389381164  | ... |\n",
      "|  word_count |         136          |   1   |  -0.34347186459615386 | ... |\n",
      "|  word_count |       1360350        |   1   |   0.341600902088625   | ... |\n",
      "|  word_count |      1361203641      |   1   |  -3.2496085600158215  | ... |\n",
      "|  word_count |      1362030292      |   1   |   -5.344630645448411  | ... |\n",
      "|  word_count |      1362660640      |   1   |   1.1282712950616773  | ... |\n",
      "|  word_count |      1362660801      |   1   |   1.1282712950616773  | ... |\n",
      "|  word_count |      1363012209      |   1   |   -5.547086107782358  | ... |\n",
      "|  word_count |      1363819860      |   1   |   -9.710472125152146  | ... |\n",
      "|  word_count |      1367510554      |   1   |  0.24362958778522673  | ... |\n",
      "|  word_count |         137          |   1   |   0.2109939222706988  | ... |\n",
      "|  word_count |      1370027586      |   1   |   3.2119265788374594  | ... |\n",
      "|  word_count |      1370479569      |   1   |   -6.340612350900479  | ... |\n",
      "|  word_count |      1371446810      |   1   |   -3.839235969882036  | ... |\n",
      "|  word_count |      1371660713      |   1   |  -3.1473994493173008  | ... |\n",
      "|  word_count |      1371660739      |   1   |  -3.1473994493173008  | ... |\n",
      "|  word_count |      1372124283      |   1   |   2.061439873421596   | ... |\n",
      "|  word_count |         138          |   1   |   -5.212923710915451  | ... |\n",
      "|  word_count |      1380243177      |   1   |  0.35100784706576754  | ... |\n",
      "|  word_count |        138lbs        |   1   |  -10.364449102469894  | ... |\n",
      "|  word_count |         139          |   1   |   3.3848203500462484  | ... |\n",
      "|  word_count |      1390183256      |   1   |   0.734214498164369   | ... |\n",
      "|  word_count |      1393526392      |   1   |   1.2648483319310255  | ... |\n",
      "|  word_count |      1394068905      |   1   |   2.8165641090650353  | ... |\n",
      "|  word_count |      1395934717      |   1   |  0.17743781601466474  | ... |\n",
      "|  word_count |         1398         |   1   |  -3.4443094815693156  | ... |\n",
      "|  word_count |        13baby        |   1   |  0.24408939205805422  | ... |\n",
      "|  word_count |         13do         |   1   |   -5.585709121980762  | ... |\n",
      "|  word_count |         13g          |   1   |   3.158422380017807   | ... |\n",
      "|  word_count |       13gallon       |   1   |   2.612545905301189   | ... |\n",
      "|  word_count |         13i          |   1   |   5.115897958519998   | ... |\n",
      "|  word_count |         13in         |   1   |  -10.602528034563957  | ... |\n",
      "|  word_count |        13ish         |   1   |  0.17825097934009917  | ... |\n",
      "|  word_count |         13kg         |   1   |   3.6061549231491914  | ... |\n",
      "|  word_count |         13lb         |   1   |   0.9775579952170105  | ... |\n",
      "|  word_count |        13lbs         |   1   |   1.079354528028691   | ... |\n",
      "|  word_count |         13m          |   1   |   0.604578156532113   | ... |\n",
      "|  word_count |         13mm         |   1   |   0.266537402197795   | ... |\n",
      "|  word_count |         13mo         |   1   |   -2.466976490306647  | ... |\n",
      "|  word_count |       13month        |   1   |   3.5636459871581336  | ... |\n",
      "|  word_count |        13mth         |   1   |   1.5005980444710263  | ... |\n",
      "|  word_count |        13mths        |   1   |   0.5461176738369606  | ... |\n",
      "|  word_count |         13my         |   1   |   0.6105003001463641  | ... |\n",
      "|  word_count |         13oz         |   1   |   4.336924352816366   | ... |\n",
      "|  word_count |         13pc         |   1   |   1.4307168125109424  | ... |\n",
      "|  word_count |        13pcs         |   1   |   3.655111626547232   | ... |\n",
      "|  word_count |         13th         |   1   |   1.602246262023648   | ... |\n",
      "|  word_count |         13w          |   1   |   -7.780006097296888  | ... |\n",
      "|  word_count |         13we         |   1   |  -2.2612732427527433  | ... |\n",
      "|  word_count |        13x18         |   1   |  0.34608346463842676  | ... |\n",
      "|  word_count |         13yr         |   1   |   1.9978295948347933  | ... |\n",
      "|  word_count |          14          |   1   |  -0.17353931553614785 | ... |\n",
      "|  word_count |         140          |   1   |   -0.838400141500434  | ... |\n",
      "|  word_count |         1400         |   1   |   -2.724464600728422  | ... |\n",
      "|  word_count |      1400550753      |   1   |   0.9256711903601379  | ... |\n",
      "|  word_count |      1403388276      |   1   |  -3.7857284317757047  | ... |\n",
      "|  word_count |      1403672820      |   1   |   0.2127755240025866  | ... |\n",
      "|  word_count |      1403672910      |   1   |   0.2127755240025866  | ... |\n",
      "|  word_count |      1403672986      |   1   |   0.2127755240025866  | ... |\n",
      "|  word_count |      1404007570      |   1   |  0.18234090990673538  | ... |\n",
      "|  word_count |         140f         |   1   |   -6.051984214105053  | ... |\n",
      "|  word_count |        140lb         |   1   |  0.17705308585501336  | ... |\n",
      "|  word_count |        140lbs        |   1   |   1.4843038196819676  | ... |\n",
      "|  word_count |         141          |   1   |   -3.979267608725357  | ... |\n",
      "|  word_count |         1410         |   1   |   0.4459225113021172  | ... |\n",
      "|  word_count |         1412         |   1   |   -5.303048355867297  | ... |\n",
      "|  word_count |         143          |   1   |   -10.2911774223372   | ... |\n",
      "|  word_count |         144          |   1   |   -3.148627900940528  | ... |\n",
      "|  word_count |         145          |   1   |   1.093605779361261   | ... |\n",
      "|  word_count |         1450         |   1   |   6.525437103006861   | ... |\n",
      "|  word_count |        145lbs        |   1   |   1.5719692168060364  | ... |\n",
      "|  word_count |         146          |   1   |  0.13068429677995572  | ... |\n",
      "|  word_count |         1460         |   1   |   0.7218677924728716  | ... |\n",
      "|  word_count |         1470         |   1   |   -6.867142779901909  | ... |\n",
      "|  word_count |         148          |   1   |  -1.0683718307150825  | ... |\n",
      "|  word_count |      148weight       |   1   |  -3.9725344641962237  | ... |\n",
      "|  word_count |         149          |   1   |  -3.3599381783719293  | ... |\n",
      "|  word_count |        149lbs        |   1   |   0.5329161071910705  | ... |\n",
      "|  word_count |        14cfr         |   1   |   -2.671793466208191  | ... |\n",
      "|  word_count |         14lb         |   1   |   0.6685781006700782  | ... |\n",
      "|  word_count |        14lbs         |   1   |  -1.7360407432895975  | ... |\n",
      "|  word_count |         14m          |   1   |  -1.1424735518505043  | ... |\n",
      "|  word_count |         14mo         |   1   |   2.946552085140326   | ... |\n",
      "|  word_count |       14month        |   1   |  -0.4309078832961533  | ... |\n",
      "|  word_count |       14months       |   1   |   0.8256703534541852  | ... |\n",
      "|  word_count |        14mos         |   1   |   1.7299676366311718  | ... |\n",
      "|  word_count |        14mths        |   1   |   1.155055439602697   | ... |\n",
      "|  word_count |         14oz         |   1   |   1.7836862107258267  | ... |\n",
      "|  word_count |         14th         |   1   |   -2.888973153212731  | ... |\n",
      "|  word_count |         14x          |   1   |   1.1603390549427097  | ... |\n",
      "|  word_count |        14x14         |   1   |   1.4860592097286203  | ... |\n",
      "|  word_count |        14x18         |   1   |   1.9497477078157124  | ... |\n",
      "|  word_count |        14x20         |   1   |   -2.865044637047696  | ... |\n",
      "|  word_count |         14x9         |   1   |   -8.441625699410968  | ... |\n",
      "|  word_count |        14year        |   1   |   3.372837887433422   | ... |\n",
      "|  word_count |         14yr         |   1   |   1.167041659372397   | ... |\n",
      "|  word_count |        14yrs         |   1   |    3.08119968862572   | ... |\n",
      "|  word_count |          15          |   1   |  -0.21578265742548122 | ... |\n",
      "|  word_count |         150          |   1   |   -0.367806965032591  | ... |\n",
      "|  word_count |         1500         |   1   |   -3.980164458604472  | ... |\n",
      "|  word_count |        15000         |   1   |   2.9629616051393928  | ... |\n",
      "|  word_count |        1500ma        |   1   |   2.3419958796553537  | ... |\n",
      "|  word_count |        1500sq        |   1   |   3.5135270161412704  | ... |\n",
      "|  word_count |        150ft         |   1   |   4.184563317948164   | ... |\n",
      "|  word_count |        150lbs        |   1   |  -1.0595063651361167  | ... |\n",
      "|  word_count |        150ml         |   1   |   2.0369584976621473  | ... |\n",
      "|  word_count |       150mland       |   1   |   1.2489933499953898  | ... |\n",
      "|  word_count |       150mlfor       |   1   |   0.3226111445317988  | ... |\n",
      "|  word_count |      150shipped      |   1   |   1.9307649634146364  | ... |\n",
      "|  word_count |         151          |   1   |   0.689422868348687   | ... |\n",
      "|  word_count |         154          |   1   |   -6.481854878435829  | ... |\n",
      "|  word_count |         155          |   1   |   1.7430518490566693  | ... |\n",
      "|  word_count |         156          |   1   |   1.993449199206367   | ... |\n",
      "|  word_count |         157          |   1   |  -6.9790158751032765  | ... |\n",
      "|  word_count |         158          |   1   |   -7.271263850481614  | ... |\n",
      "|  word_count |        158lbs        |   1   |   0.1814943792280383  | ... |\n",
      "|  word_count |         159          |   1   |  -2.3487611215819753  | ... |\n",
      "|  word_count |         1590         |   1   |   -8.107019436766787  | ... |\n",
      "|  word_count |         15a          |   1   |   1.424573144215824   | ... |\n",
      "|  word_count |         15am         |   1   |   1.9281818077262813  | ... |\n",
      "|  word_count |        15days        |   1   |   3.021776195070836   | ... |\n",
      "|  word_count |         15ft         |   1   |  0.10853810492932947  | ... |\n",
      "|  word_count |        15ish         |   1   |   2.085886649262328   | ... |\n",
      "|  word_count |         15kg         |   1   |  0.23763586452735738  | ... |\n",
      "|  word_count |         15lb         |   1   |  -1.0009487084438378  | ... |\n",
      "|  word_count |       15lb1oz        |   1   |   2.1330384176527426  | ... |\n",
      "|  word_count |        15lbs         |   1   |   1.9028580415851366  | ... |\n",
      "|  word_count |         15m          |   1   |   -3.578341223016737  | ... |\n",
      "|  word_count |        15min         |   1   |  -3.6776852395977415  | ... |\n",
      "|  word_count |        15mins        |   1   |   -5.902767483770632  | ... |\n",
      "|  word_count |      15minutes       |   1   |   0.528548716874448   | ... |\n",
      "|  word_count |         15mo         |   1   |   1.5893014946618225  | ... |\n",
      "|  word_count |       15month        |   1   |   0.577056290986763   | ... |\n",
      "|  word_count |       15months       |   1   |  -1.8167301889183614  | ... |\n",
      "|  word_count |        15mos         |   1   |  -0.5148769445547745  | ... |\n",
      "|  word_count |        15mth         |   1   |  0.17734584907210318  | ... |\n",
      "|  word_count |        15mths        |   1   |   1.5833053114003388  | ... |\n",
      "|  word_count |         15oz         |   1   |   1.4819846634228073  | ... |\n",
      "|  word_count |         15pm         |   1   |  0.31414002463590507  | ... |\n",
      "|  word_count |        15psi         |   1   |  -1.3513014478752094  | ... |\n",
      "|  word_count |         15th         |   1   |  -1.0945618092746712  | ... |\n",
      "|  word_count |         15x          |   1   |   1.2263771274207194  | ... |\n",
      "|  word_count |        15x33         |   1   |   3.3498446621997657  | ... |\n",
      "|  word_count |        15yrs         |   1   |   1.002364735555129   | ... |\n",
      "|  word_count |          16          |   1   |  -0.3087862504921075  | ... |\n",
      "|  word_count |         160          |   1   |  -3.6012983233997984  | ... |\n",
      "|  word_count |         1600         |   1   |   1.7271294382356643  | ... |\n",
      "|  word_count |        1600ft        |   1   |  0.17071246308856722  | ... |\n",
      "|  word_count |        160cm         |   1   |   2.720340572040914   | ... |\n",
      "|  word_count |        160lbs        |   1   |   5.253410284971627   | ... |\n",
      "|  word_count |        160ml         |   1   |  0.48897000348045677  | ... |\n",
      "|  word_count |         162          |   1   |   1.091534121537072   | ... |\n",
      "|  word_count |        162cm         |   1   |   0.689422868348687   | ... |\n",
      "|  word_count |         164          |   1   |   0.4993391096641696  | ... |\n",
      "|  word_count |         165          |   1   |   -2.280367417684085  | ... |\n",
      "|  word_count |         168          |   1   |   2.5035781289541488  | ... |\n",
      "|  word_count |         169          |   1   |   -3.855919881539785  | ... |\n",
      "|  word_count |         16d          |   1   |   0.4267154063745887  | ... |\n",
      "|  word_count |         16in         |   1   |   0.5508982088221936  | ... |\n",
      "|  word_count |       16inches       |   1   |   1.1657384603437793  | ... |\n",
      "|  word_count |         16lb         |   1   |   1.799506319720946   | ... |\n",
      "|  word_count |        16lbs         |   1   |  -1.0165180175107111  | ... |\n",
      "|  word_count |         16m          |   1   |   0.8475015591140771  | ... |\n",
      "|  word_count |         16mo         |   1   |   0.7495900665064632  | ... |\n",
      "|  word_count |       16month        |   1   |   1.9680636815451433  | ... |\n",
      "|  word_count |       16months       |   1   |   1.5823515494563465  | ... |\n",
      "|  word_count |         16mt         |   1   |   2.7223889908399737  | ... |\n",
      "|  word_count |        16mth         |   1   |   3.230952863500282   | ... |\n",
      "|  word_count |        16mths        |   1   |   2.440026770215629   | ... |\n",
      "|  word_count |         16oz         |   1   |  0.10008483357947404  | ... |\n",
      "|  word_count |       16pounds       |   1   |   2.160466288112453   | ... |\n",
      "|  word_count |         16th         |   1   |  -3.6779870311218916  | ... |\n",
      "|  word_count |         16w          |   1   |   0.4267154063745887  | ... |\n",
      "|  word_count |        16wks         |   1   |   6.112773807695559   | ... |\n",
      "|  word_count |        16x32         |   1   |   0.2780499438497582  | ... |\n",
      "|  word_count |          17          |   1   |  0.010569766209529218 | ... |\n",
      "|  word_count |         170          |   1   |  -1.3582137887564434  | ... |\n",
      "|  word_count |         1700         |   1   |  -2.8391047416901958  | ... |\n",
      "|  word_count |        170ish        |   1   |   1.1594073598263774  | ... |\n",
      "|  word_count |        170lb         |   1   |  0.32659391988482467  | ... |\n",
      "|  word_count |        170lbs        |   1   |   1.1586346407848334  | ... |\n",
      "|  word_count |         172          |   1   |  -10.750730369787824  | ... |\n",
      "|  word_count |         175          |   1   |  -0.42114166711385026 | ... |\n",
      "|  word_count |         176          |   1   |   1.0350762244311804  | ... |\n",
      "|  word_count |         178          |   1   |   0.7779568711772076  | ... |\n",
      "|  word_count |         1789         |   1   |   0.7878600090431173  | ... |\n",
      "|  word_count |         179          |   1   |  -1.1214247207441543  | ... |\n",
      "|  word_count |        17ibs         |   1   |   1.2804057354379668  | ... |\n",
      "|  word_count |       17inches       |   1   |   -22.50904826345246  | ... |\n",
      "|  word_count |         17lb         |   1   |   13.073334349911983  | ... |\n",
      "|  word_count |        17lbs         |   1   |  -1.5692428969095285  | ... |\n",
      "|  word_count |         17m          |   1   |   1.818233507568147   | ... |\n",
      "|  word_count |         17mo         |   1   |   4.355155418655621   | ... |\n",
      "|  word_count |       17month        |   1   |   2.5561187339713194  | ... |\n",
      "|  word_count |       17months       |   1   |  -2.6225347059106467  | ... |\n",
      "|  word_count |         17th         |   1   |   0.8002474316421129  | ... |\n",
      "|  word_count |         17w          |   1   |   2.905465984992807   | ... |\n",
      "|  word_count |       17weeks        |   1   |   1.310575485862031   | ... |\n",
      "|  word_count |        17wks         |   1   |   -7.135183726889518  | ... |\n",
      "|  word_count |        17x24         |   1   |  0.27936455028977836  | ... |\n",
      "|  word_count |        17x35         |   1   |   1.2156779392477066  | ... |\n",
      "|  word_count |          18          |   1   | -0.010917442120421873 | ... |\n",
      "|  word_count |         180          |   1   |   0.890292819805301   | ... |\n",
      "|  word_count |         1800         |   1   |    2.95767937232623   | ... |\n",
      "|  word_count |       1800mah        |   1   |   1.6195409247362555  | ... |\n",
      "|  word_count |        180lb         |   1   |   1.3525942686057677  | ... |\n",
      "|  word_count |        180lbs        |   1   |   1.6984575980328767  | ... |\n",
      "|  word_count |        180ml         |   1   |  0.44911403278739115  | ... |\n",
      "|  word_count |         182          |   1   |  -3.6311110025439164  | ... |\n",
      "|  word_count |         184          |   1   |   0.1779418591968882  | ... |\n",
      "|  word_count |         185          |   1   |   1.860423934188849   | ... |\n",
      "|  word_count |       1850sqft       |   1   |   -7.468753902397684  | ... |\n",
      "|  word_count |        185lb         |   1   |   0.2519034380071515  | ... |\n",
      "|  word_count |        185lbs        |   1   |   2.1691537785485715  | ... |\n",
      "|  word_count |         1860         |   1   |   -6.856295498371297  | ... |\n",
      "|  word_count |        18650         |   1   |   0.2870829529339154  | ... |\n",
      "|  word_count |         189          |   1   |   2.2484125169391453  | ... |\n",
      "|  word_count |         1899         |   1   |   0.2980514352219058  | ... |\n",
      "|  word_count |         18b          |   1   |   2.527497166780798   | ... |\n",
      "|  word_count |        18hrs         |   1   |   -5.244017850664758  | ... |\n",
      "|  word_count |         18in         |   1   |   0.965507183999428   | ... |\n",
      "|  word_count |       18inches       |   1   |   4.629980240467323   | ... |\n",
      "|  word_count |       18inchs        |   1   |  0.44657360625943054  | ... |\n",
      "|  word_count |         18kg         |   1   |   1.7349495891738034  | ... |\n",
      "|  word_count |         18lb         |   1   |   -5.294298374279943  | ... |\n",
      "|  word_count |        18lbs         |   1   |   3.3295427146361423  | ... |\n",
      "|  word_count |         18m          |   1   |  -0.8198464166006035  | ... |\n",
      "|  word_count |        18mins        |   1   |   0.8286338441232018  | ... |\n",
      "|  word_count |         18mo         |   1   |   2.4880181042825673  | ... |\n",
      "|  word_count |       18month        |   1   |   -0.584140399229484  | ... |\n",
      "|  word_count |       18months       |   1   |   2.408062461498157   | ... |\n",
      "|  word_count |        18mos         |   1   |   1.695495807657321   | ... |\n",
      "|  word_count |        18mth         |   1   |   -9.784221994805101  | ... |\n",
      "|  word_count |        18mths        |   1   |   2.6670959937557823  | ... |\n",
      "|  word_count |         18th         |   1   |  0.24153805639917528  | ... |\n",
      "|  word_count |        18ths         |   1   |   3.5172266463644912  | ... |\n",
      "|  word_count |         18wk         |   1   |   2.7038199440073996  | ... |\n",
      "|  word_count |        18x27         |   1   |   0.9261741404754591  | ... |\n",
      "|  word_count |        18x30         |   1   |   0.7528223229013008  | ... |\n",
      "|  word_count |        18x31         |   1   |   0.2780499438497582  | ... |\n",
      "|  word_count |        18x36         |   1   |   -9.003478874995416  | ... |\n",
      "|  word_count |          19          |   1   |  -0.15870184528540474 | ... |\n",
      "|  word_count |         190          |   1   |  -0.21714883617202516 | ... |\n",
      "|  word_count |         1900         |   1   |   -9.250003887313746  | ... |\n",
      "|  word_count |         1905         |   1   |   -8.791213956389653  | ... |\n",
      "|  word_count |      190degree       |   1   |   3.061379947774387   | ... |\n",
      "|  word_count |        190lbs        |   1   |   0.1813899123156089  | ... |\n",
      "|  word_count |         1912         |   1   |  -3.5352350033007016  | ... |\n",
      "|  word_count |         1916         |   1   |   3.053151170052457   | ... |\n",
      "|  word_count |         192          |   1   |   1.7708457029154097  | ... |\n",
      "|  word_count |         1920         |   1   |   5.975831401268937   | ... |\n",
      "|  word_count |        1920s         |   1   |   3.7442576267370677  | ... |\n",
      "|  word_count |         1926         |   1   |   1.313134746903486   | ... |\n",
      "|  word_count |        1930s         |   1   |   1.7781205973864302  | ... |\n",
      "|  word_count |         1932         |   1   |  0.21551270896097038  | ... |\n",
      "|  word_count |         1939         |   1   |   0.536445096304244   | ... |\n",
      "|  word_count |         1942         |   1   |  0.31335801735379315  | ... |\n",
      "|  word_count |         1945         |   1   |   1.4047228036071793  | ... |\n",
      "|  word_count |         1950         |   1   |  0.29310788474005045  | ... |\n",
      "|  word_count |        1950s         |   1   |   1.0410899796422755  | ... |\n",
      "|  word_count |         1953         |   1   |   2.829744223560787   | ... |\n",
      "|  word_count |         1956         |   1   |   0.7446409768104816  | ... |\n",
      "|  word_count |         1960         |   1   |   3.0560679610213346  | ... |\n",
      "|  word_count |        1960s         |   1   |   0.8667661714344251  | ... |\n",
      "|  word_count |         1961         |   1   |   0.6523056793269056  | ... |\n",
      "|  word_count |         1966         |   1   |   2.217476773485667   | ... |\n",
      "|  word_count |         1967         |   1   |   2.342152011532722   | ... |\n",
      "|  word_count |         1968         |   1   |   4.486429594493828   | ... |\n",
      "|  word_count |         1969         |   1   |   1.301039966529711   | ... |\n",
      "|  word_count |         1970         |   1   |   -3.216392577235897  | ... |\n",
      "|  word_count |        1970s         |   1   |   1.1865558652371213  | ... |\n",
      "|  word_count |         1971         |   1   |   3.4352797441300527  | ... |\n",
      "|  word_count |         1972         |   1   |   0.5996308792260072  | ... |\n",
      "|  word_count |         1973         |   1   |   3.888029956341008   | ... |\n",
      "|  word_count |         1975         |   1   |   1.6281161118952927  | ... |\n",
      "|  word_count |         1977         |   1   |   0.5132822577159002  | ... |\n",
      "|  word_count |         1979         |   1   |   2.154970131719285   | ... |\n",
      "|  word_count |         198          |   1   |   0.5843804669494771  | ... |\n",
      "|  word_count |         1980         |   1   |  -1.7374520022779651  | ... |\n",
      "|  word_count |       1980ies        |   1   |  -10.383847331158735  | ... |\n",
      "|  word_count |        1980s         |   1   |  -3.3044578700917246  | ... |\n",
      "|  word_count |         1981         |   1   |  -0.8994183147527954  | ... |\n",
      "|  word_count |         1983         |   1   |   1.5074836849904376  | ... |\n",
      "|  word_count |      1983after       |   1   |   2.419748031360664   | ... |\n",
      "|  word_count |         1985         |   1   |  -0.9937325510158765  | ... |\n",
      "|  word_count |         1986         |   1   |  -2.6064655397648564  | ... |\n",
      "|  word_count |         1987         |   1   |  0.25148488957035947  | ... |\n",
      "|  word_count |         1988         |   1   |   -1.044345520058871  | ... |\n",
      "|  word_count |         1989         |   1   |  -0.26977637834931806 | ... |\n",
      "|  word_count |         199          |   1   |  -0.14680703218511537 | ... |\n",
      "|  word_count |         1990         |   1   |   -3.397813228198166  | ... |\n",
      "|  word_count |        1990s         |   1   |  -2.7323684140007845  | ... |\n",
      "|  word_count |         1991         |   1   |   6.000181469227731   | ... |\n",
      "|  word_count |         1992         |   1   |   2.4010176315250145  | ... |\n",
      "|  word_count |         1993         |   1   |   1.0727946691679133  | ... |\n",
      "|  word_count |         1994         |   1   |  -0.9989207279495307  | ... |\n",
      "|  word_count |         1995         |   1   |   -2.82624368702273   | ... |\n",
      "|  word_count |         1996         |   1   |  0.15717693233341917  | ... |\n",
      "|  word_count |        19968         |   1   |  0.23439469927964252  | ... |\n",
      "|  word_count |         1997         |   1   |  -0.28358752173068136 | ... |\n",
      "|  word_count |        19979         |   1   |   0.2397505113478214  | ... |\n",
      "|  word_count |         1998         |   1   |   0.5880494821421531  | ... |\n",
      "|  word_count |        19981         |   1   |  0.13916645763227098  | ... |\n",
      "|  word_count |         1999         |   1   |  0.46754587276101967  | ... |\n",
      "|  word_count |        19996         |   1   |  0.22804088839113743  | ... |\n",
      "|  word_count |         19am         |   1   |   3.910298272091123   | ... |\n",
      "|  word_count |        19buy         |   1   |   3.7587846589320035  | ... |\n",
      "|  word_count |         19lb         |   1   |   1.4170794885998088  | ... |\n",
      "|  word_count |        19lbs         |   1   |   0.9883742570106983  | ... |\n",
      "|  word_count |         19m          |   1   |   1.275933309060242   | ... |\n",
      "|  word_count |        19mbps        |   1   |   1.116965089720578   | ... |\n",
      "|  word_count |         19mm         |   1   |   2.723762064826311   | ... |\n",
      "|  word_count |         19mo         |   1   |   1.9206312053170953  | ... |\n",
      "|  word_count |       19month        |   1   |  0.37239482251494677  | ... |\n",
      "|  word_count |       19months       |   1   |  -0.5951984431542668  | ... |\n",
      "|  word_count |        19mos         |   1   |   1.6884350799393428  | ... |\n",
      "|  word_count |         19pm         |   1   |   -5.716432017883618  | ... |\n",
      "|  word_count |         19sq         |   1   |   0.6269033570723322  | ... |\n",
      "|  word_count |        19sqft        |   1   |   4.290719326392466   | ... |\n",
      "|  word_count |         19th         |   1   |  -2.1333341906401495  | ... |\n",
      "|  word_count |         19x          |   1   |   6.406492875453345   | ... |\n",
      "|  word_count |        19x30         |   1   |   0.2780499438497582  | ... |\n",
      "|  word_count |          1a          |   1   |   -5.863107153541944  | ... |\n",
      "|  word_count |         1am          |   1   |  -4.9595680840993985  | ... |\n",
      "|  word_count |         1bs          |   1   |  -14.274774763730958  | ... |\n",
      "|  word_count |         1cm          |   1   |  0.38495849737866533  | ... |\n",
      "|  word_count |       1cmx2cm        |   1   |  0.19844445899500288  | ... |\n",
      "|  word_count |         1cup         |   1   |   0.6614759180284403  | ... |\n",
      "|  word_count |          1d          |   1   |   1.6407234931964223  | ... |\n",
      "|  word_count |          1f          |   1   |   0.7369949709471723  | ... |\n",
      "|  word_count |        1first        |   1   |  0.19448931481578857  | ... |\n",
      "|  word_count |         1ft          |   1   |   2.500243367915272   | ... |\n",
      "|  word_count |          1h          |   1   |   2.1526198722579557  | ... |\n",
      "|  word_count |         1he          |   1   |   2.0078444713413464  | ... |\n",
      "|  word_count | 1hnbh6g05zmf34xezf2v |   1   |   1.8264460926013673  | ... |\n",
      "|  word_count |        1hour         |   1   |   1.3865177464913547  | ... |\n",
      "|  word_count |         1hr          |   1   |   0.9253259000041612  | ... |\n",
      "|  word_count |         1hrs         |   1   |   3.4303886279872717  | ... |\n",
      "|  word_count |          1i          |   1   |   1.1017219492540473  | ... |\n",
      "|  word_count |         1in          |   1   |    1.9109709113427    | ... |\n",
      "|  word_count |        1inch         |   1   |   4.870100821544301   | ... |\n",
      "|  word_count |         1it          |   1   |   2.130540701305436   | ... |\n",
      "|  word_count |          1k          |   1   |  -0.04060524482395074 | ... |\n",
      "|  word_count |          1l          |   1   |   3.9375904968636384  | ... |\n",
      "|  word_count |         1lbs         |   1   |   1.1385722805405962  | ... |\n",
      "|  word_count |          1m          |   1   |    3.30584687886148   | ... |\n",
      "|  word_count |         1min         |   1   |   -5.103367198704227  | ... |\n",
      "|  word_count |         1ml          |   1   |   2.9413815742768894  | ... |\n",
      "|  word_count |         1mm          |   1   |  -10.829647996035947  | ... |\n",
      "|  word_count |         1mo          |   1   |  0.25128214280514444  | ... |\n",
      "|  word_count |        1month        |   1   |   3.5981935360331514  | ... |\n",
      "|  word_count |          1n          |   1   |   2.7796767819091635  | ... |\n",
      "|  word_count |         1or          |   1   |   5.2825530262772755  | ... |\n",
      "|  word_count |         1or2         |   1   |  0.25508270052517007  | ... |\n",
      "|  word_count |         1oz          |   1   |   -1.99576004798324   | ... |\n",
      "|  word_count |          1p          |   1   |   1.525293416961595   | ... |\n",
      "|  word_count |        1pack         |   1   |   -5.055980250470744  | ... |\n",
      "|  word_count |         1pk          |   1   |  -3.6612545923042665  | ... |\n",
      "|  word_count |         1pm          |   1   |   1.9050917028645529  | ... |\n",
      "|  word_count |          1s          |   1   | -0.026846505576692405 | ... |\n",
      "|  word_count |         1st          |   1   |  -0.16143329345962915 | ... |\n",
      "|  word_count |        1star         |   1   |  -0.49540872300239114 | ... |\n",
      "|  word_count |       1stgrand       |   1   |   3.0431798858584465  | ... |\n",
      "|  word_count |          1t          |   1   |   0.3540332519708652  | ... |\n",
      "|  word_count |         1the         |   1   |  -10.527525587076891  | ... |\n",
      "|  word_count |         1tr          |   1   |   2.703543175609583   | ... |\n",
      "|  word_count |         1tsp         |   1   |   1.188107442883254   | ... |\n",
      "|  word_count |          1w          |   1   |   1.6570497139793279  | ... |\n",
      "|  word_count |        1week         |   1   |   8.406297727830864   | ... |\n",
      "|  word_count |         1wk          |   1   |   0.6540579215662732  | ... |\n",
      "|  word_count |          1x          |   1   |   -1.181517582829662  | ... |\n",
      "|  word_count |         1x1          |   1   |   1.6189855756485882  | ... |\n",
      "|  word_count |        1x1in         |   1   |   0.297262698992495   | ... |\n",
      "|  word_count |         1x2          |   1   |   -4.890602109607948  | ... |\n",
      "|  word_count |         1x3          |   1   |   1.9847515269362304  | ... |\n",
      "|  word_count |         1x4          |   1   |   1.2549515669227458  | ... |\n",
      "|  word_count |          1y          |   1   |   -9.256610102440984  | ... |\n",
      "|  word_count |         1yea         |   1   |    1.64198535607847   | ... |\n",
      "|  word_count |        1year         |   1   |  -1.8194508820858826  | ... |\n",
      "|  word_count |         1yo          |   1   |   -2.293696499889905  | ... |\n",
      "|  word_count |         1yr          |   1   |  -0.5461382955299494  | ... |\n",
      "|  word_count |         1yro         |   1   |   0.280367546579234   | ... |\n",
      "|  word_count |         1yrs         |   1   |   3.0199402469315637  | ... |\n",
      "|  word_count |          1z          |   1   |  -6.3035941390872825  | ... |\n",
      "|  word_count |          2           |   1   |  -0.22605449680719691 | ... |\n",
      "|  word_count |          20          |   1   |  -0.10717934666085834 | ... |\n",
      "|  word_count |         200          |   1   |  -1.0554259899207792  | ... |\n",
      "|  word_count |         2000         |   1   |  -1.1958943666243678  | ... |\n",
      "|  word_count |        2000ft        |   1   |  -1.6445046247478297  | ... |\n",
      "|  word_count |        2000km        |   1   |   0.5156916077930414  | ... |\n",
      "|  word_count |        2000sf        |   1   |  0.48237394003904804  | ... |\n",
      "|  word_count |        2000sq        |   1   |   3.955723627465321   | ... |\n",
      "|  word_count |         2001         |   1   |  0.40676484197293955  | ... |\n",
      "|  word_count |        20010         |   1   |   0.6940005276495018  | ... |\n",
      "|  word_count |        20013         |   1   |  0.23049149162697605  | ... |\n",
      "|  word_count |       2001485        |   1   |   3.522258795880673   | ... |\n",
      "|  word_count |         2002         |   1   |  -2.2693560735731255  | ... |\n",
      "|  word_count |        20026         |   1   |  0.22804088839113743  | ... |\n",
      "|  word_count |         2003         |   1   |  -0.7787483897811783  | ... |\n",
      "|  word_count |        20037         |   1   |   0.2397505113478214  | ... |\n",
      "|  word_count |         2004         |   1   |  0.19607944000794517  | ... |\n",
      "|  word_count |        20040         |   1   |  0.22804088839113743  | ... |\n",
      "|  word_count |         2005         |   1   |  -0.5981356587244994  | ... |\n",
      "|  word_count |      2005added       |   1   |  0.22121004636168473  | ... |\n",
      "|  word_count |         2006         |   1   |  0.20719609950115503  | ... |\n",
      "|  word_count |        20063         |   1   |  0.08916622354034547  | ... |\n",
      "|  word_count |      2006bryce       |   1   |  0.22816555912488895  | ... |\n",
      "|  word_count |        2006my        |   1   |  0.22121004636168473  | ... |\n",
      "|  word_count |         2007         |   1   |  0.34954542831193647  | ... |\n",
      "|  word_count |    2007regarding     |   1   |  0.22816555912488895  | ... |\n",
      "|  word_count |         2008         |   1   |  -0.45988612744074153 | ... |\n",
      "|  word_count |      2008still       |   1   |  0.17704313336323818  | ... |\n",
      "|  word_count |         2009         |   1   |   -1.175688293294269  | ... |\n",
      "|  word_count |       2009this       |   1   |   2.441831447816403   | ... |\n",
      "|  word_count |         200a         |   1   |   0.3652820086211754  | ... |\n",
      "|  word_count |        200ft         |   1   |   4.115141224307729   | ... |\n",
      "|  word_count |        200lb         |   1   |   -6.256522981667008  | ... |\n",
      "|  word_count |        200lbs        |   1   |  -0.5655592432557013  | ... |\n",
      "|  word_count |        200ml         |   1   |   1.2082957169671642  | ... |\n",
      "|  word_count |     200someting      |   1   |   -7.856126000995528  | ... |\n",
      "|  word_count |        200sq         |   1   |   4.383453908128768   | ... |\n",
      "|  word_count |         200z         |   1   |   4.2571224576920565  | ... |\n",
      "|  word_count |         2010         |   1   |  -0.2769257282152689  | ... |\n",
      "|  word_count |        20102         |   1   |  0.07037771192669064  | ... |\n",
      "|  word_count |        2010i         |   1   |  0.20176373772526504  | ... |\n",
      "|  word_count |       2010one        |   1   |   0.3411092728288957  | ... |\n",
      "|  word_count |         2011         |   1   |  0.29550108135770037  | ... |\n",
      "|  word_count |        20114         |   1   |   1.1599601668299255  | ... |\n",
      "|  word_count |      2011after       |   1   |   0.6891365627678686  | ... |\n",
      "|  word_count |       2011just       |   1   |   0.574985514208488   | ... |\n",
      "|  word_count |        2011we        |   1   |   0.778311548246866   | ... |\n",
      "|  word_count |       2011went       |   1   |   -9.260627565639265  | ... |\n",
      "|  word_count |         2012         |   1   |  0.43637464765470696  | ... |\n",
      "|  word_count |        201207        |   1   |  0.31381590418478766  | ... |\n",
      "|  word_count |        20126         |   1   |  0.17833244708069093  | ... |\n",
      "|  word_count |        2012a         |   1   |  0.25302130095683384  | ... |\n",
      "|  word_count |      2012after       |   1   |  0.33500599455474733  | ... |\n",
      "|  word_count |        2012i         |   1   |  -0.9263833470642053  | ... |\n",
      "|  word_count |      2012kudos       |   1   |   -6.759910341355146  | ... |\n",
      "|  word_count |      2012looks       |   1   |   1.0966933502307494  | ... |\n",
      "|  word_count |        2012my        |   1   |   0.4686415333846873  | ... |\n",
      "|  word_count |       2012the        |   1   |   0.7822107377570664  | ... |\n",
      "|  word_count |       2012this       |   1   |   0.3088673488505714  | ... |\n",
      "|  word_count |        2012we        |   1   |   1.0190419053553519  | ... |\n",
      "|  word_count |         2013         |   1   |  -0.2569157547069417  | ... |\n",
      "|  word_count |        20132         |   1   |  0.22364362688669126  | ... |\n",
      "|  word_count |      2013after       |   1   |  0.18454277956266868  | ... |\n",
      "|  word_count |       2013and        |   1   |  0.20395474000933383  | ... |\n",
      "|  word_count |        2013as        |   1   |   0.9837914445550193  | ... |\n",
      "|  word_count |        2013i         |   1   |   0.8820366167676359  | ... |\n",
      "|  word_count |        2013my        |   1   |   -6.779964304514956  | ... |\n",
      "|  word_count |       2013our        |   1   |  -2.5559501905541837  | ... |\n",
      "|  word_count |      2013since       |   1   |  0.24362958778522673  | ... |\n",
      "|  word_count |        2013so        |   1   |   -10.77270505984244  | ... |\n",
      "|  word_count |      2013still       |   1   |  0.22216106619089335  | ... |\n",
      "|  word_count |       2013was        |   1   |  0.22164257755709008  | ... |\n",
      "|  word_count |         2014         |   1   |   0.8541623822240667  | ... |\n",
      "|  word_count |        20142         |   1   |  0.28510113933144304  | ... |\n",
      "|  word_count |      2014after       |   1   |   0.2773554000569131  | ... |\n",
      "|  word_count |        2014i         |   1   |  0.17900400180554704  | ... |\n",
      "|  word_count |       2014less       |   1   |   1.2976509191241568  | ... |\n",
      "|  word_count |       2014our        |   1   |   1.017097020137821   | ... |\n",
      "|  word_count |        2014so        |   1   |   0.6995628695663305  | ... |\n",
      "|  word_count |      2014still       |   1   |  0.19463082648413083  | ... |\n",
      "|  word_count |       2014this       |   1   |   7.663382361050408   | ... |\n",
      "|  word_count |      2014while       |   1   |   -9.935217000125474  | ... |\n",
      "|  word_count |         2015         |   1   |   1.293719298302788   | ... |\n",
      "|  word_count |        20154         |   1   |  0.17833244708069093  | ... |\n",
      "|  word_count |        20160         |   1   |  0.22804088839113743  | ... |\n",
      "|  word_count |         2017         |   1   |   2.368468480420025   | ... |\n",
      "|  word_count |        20197         |   1   |   0.5221111674925544  | ... |\n",
      "|  word_count |        20358         |   1   |  0.08916622354034547  | ... |\n",
      "|  word_count |        20415         |   1   |  0.17833244708069093  | ... |\n",
      "|  word_count |        20435         |   1   |   0.5072316731859263  | ... |\n",
      "|  word_count |        20445         |   1   |  0.17833244708069093  | ... |\n",
      "|  word_count |        20491         |   1   |  0.08916622354034547  | ... |\n",
      "|  word_count |         205          |   1   |   -4.762067096796199  | ... |\n",
      "|  word_count |         2053         |   1   |   0.5916977718862689  | ... |\n",
      "|  word_count |     2053nuclear      |   1   |   0.5916977718862689  | ... |\n",
      "|  word_count |         206          |   1   |  0.28677735163409646  | ... |\n",
      "|  word_count |         208          |   1   |   3.412745916583021   | ... |\n",
      "|  word_count |        20818         |   1   |  0.17833244708069093  | ... |\n",
      "|  word_count |        20877         |   1   |   0.2397505113478214  | ... |\n",
      "|  word_count |         209          |   1   |   -7.809320113781909  | ... |\n",
      "|  word_count |       20babies       |   1   |   3.8037858594589036  | ... |\n",
      "|  word_count |       20bucks        |   1   |   -5.632637830216843  | ... |\n",
      "|  word_count |         20ft         |   1   |   3.188300072606158   | ... |\n",
      "|  word_count |        20hrs         |   1   |   2.710559474864715   | ... |\n",
      "|  word_count |        20ibs         |   1   |   -5.766865957750004  | ... |\n",
      "|  word_count |         20in         |   1   |   1.7219761768412256  | ... |\n",
      "|  word_count |        20ish         |   1   |   3.436897133848681   | ... |\n",
      "|  word_count |         20lb         |   1   |   0.3665983166785547  | ... |\n",
      "|  word_count |        20lbs         |   1   |  -0.7812916946599751  | ... |\n",
      "|  word_count |        20lbsi        |   1   |  0.18539953847366297  | ... |\n",
      "|  word_count |      20lbsmake       |   1   |   2.352479302511049   | ... |\n",
      "|  word_count |         20m          |   1   |   -5.012923999446439  | ... |\n",
      "|  word_count |        20min         |   1   |  -0.6248314649411434  | ... |\n",
      "|  word_count |        20mins        |   1   |   2.2771212415972797  | ... |\n",
      "|  word_count |      20minutes       |   1   |   -1.486208192031877  | ... |\n",
      "|  word_count |         20ml         |   1   |   -6.167394125781098  | ... |\n",
      "|  word_count |         20mm         |   1   |  -2.8856763166550996  | ... |\n",
      "|  word_count |         20mo         |   1   |   2.2330835806127016  | ... |\n",
      "|  word_count |        20mon         |   1   |   -6.961972980933751  | ... |\n",
      "|  word_count |       20month        |   1   |  -5.0164994912808645  | ... |\n",
      "|  word_count |       20months       |   1   |   3.673892200845242   | ... |\n",
      "|  word_count |        20mos         |   1   |   1.6933791601346089  | ... |\n",
      "|  word_count |        20mth         |   1   |   3.493538400767738   | ... |\n",
      "|  word_count |        20mths        |   1   |   0.5453821025185736  | ... |\n",
      "|  word_count |         20oz         |   1   |  -1.0965657680392646  | ... |\n",
      "|  word_count |         20pc         |   1   |   2.123149058150649   | ... |\n",
      "|  word_count |         20s          |   1   |   1.320668130405797   | ... |\n",
      "|  word_count |        20sec         |   1   |   -7.233555017860582  | ... |\n",
      "|  word_count |         20th         |   1   |  -2.3414656111159307  | ... |\n",
      "|  word_count |        20then        |   1   |   1.065915316110033   | ... |\n",
      "|  word_count |         20w          |   1   |   -14.67478776166467  | ... |\n",
      "|  word_count |        20word        |   1   |   3.622125410914049   | ... |\n",
      "|  word_count |         20x          |   1   |   0.1770783724265703  | ... |\n",
      "|  word_count |        20x15         |   1   |   0.2111400929010463  | ... |\n",
      "|  word_count |        20x20         |   1   |   -9.364268971894143  | ... |\n",
      "|  word_count |         20z          |   1   |   4.715292536352067   | ... |\n",
      "|  word_count |          21          |   1   |  0.18346497929044395  | ... |\n",
      "|  word_count |         210          |   1   |  -2.3396032869369634  | ... |\n",
      "|  word_count |         2100         |   1   |   0.5021118602584764  | ... |\n",
      "|  word_count |        21040         |   1   |  0.17833244708069093  | ... |\n",
      "|  word_count |        210lb         |   1   |   0.7521683632485117  | ... |\n",
      "|  word_count |        210lbs        |   1   |   1.7182625971700165  | ... |\n",
      "|  word_count |        21153         |   1   |  0.28510113933144304  | ... |\n",
      "|  word_count |         212          |   1   |  -0.7421495956904437  | ... |\n",
      "|  word_count |        21253         |   1   |  0.22804088839113743  | ... |\n",
      "|  word_count |         213          |   1   |  -1.7594315109845153  | ... |\n",
      "|  word_count |       2133020        |   1   |   -2.848086216266968  | ... |\n",
      "|  word_count |        21333         |   1   |  0.22804088839113743  | ... |\n",
      "|  word_count |        213733        |   1   |   0.7851310173057987  | ... |\n",
      "|  word_count |         214          |   1   |   -3.794370664811426  | ... |\n",
      "|  word_count |        21451         |   1   |  0.17833244708069093  | ... |\n",
      "|  word_count |        21457         |   1   |  0.28510113933144304  | ... |\n",
      "|  word_count |        21487         |   1   |   0.5221111674925544  | ... |\n",
      "|  word_count |         215          |   1   |   0.5349720204209771  | ... |\n",
      "|  word_count |        21543         |   1   |  0.17833244708069093  | ... |\n",
      "|  word_count |        215lbs        |   1   |   -5.311928888216051  | ... |\n",
      "|  word_count |        21602         |   1   |   0.2338956998826134  | ... |\n",
      "|  word_count |        21619         |   1   |   0.2397505113478214  | ... |\n",
      "|  word_count |         217          |   1   |  -2.6029056461250315  | ... |\n",
      "|  word_count |         219          |   1   |   0.3948050579611569  | ... |\n",
      "|  word_count |        21916         |   1   |   0.1192830811071992  | ... |\n",
      "|  word_count |        21917         |   1   |  0.17833244708069093  | ... |\n",
      "|  word_count |         2199         |   1   |  -2.6029056461250315  | ... |\n",
      "|  word_count |       21amjust       |   1   |   3.111557214681371   | ... |\n",
      "|  word_count |         21lb         |   1   |   1.9026750107606618  | ... |\n",
      "|  word_count |        21lbs         |   1   |   0.271143783404584   | ... |\n",
      "|  word_count |         21m          |   1   |   8.845625787213942   | ... |\n",
      "|  word_count |         21mm         |   1   |  -1.1309426024658302  | ... |\n",
      "|  word_count |         21mo         |   1   |   1.7821499579341449  | ... |\n",
      "|  word_count |       21month        |   1   |   1.604806113343508   | ... |\n",
      "|  word_count |       21months       |   1   |   1.0861365879084381  | ... |\n",
      "|  word_count |        21mth         |   1   |   0.0631264871490196  | ... |\n",
      "|  word_count |         21st         |   1   |   -0.544782633376715  | ... |\n",
      "|  word_count |          22          |   1   |  -0.14436314328030914 | ... |\n",
      "|  word_count |         220          |   1   |   1.9868063356764414  | ... |\n",
      "|  word_count |         2200         |   1   |   2.0869331581364077  | ... |\n",
      "|  word_count |        22068         |   1   |   1.1599601668299255  | ... |\n",
      "|  word_count |         2207         |   1   |  -2.6029056461250315  | ... |\n",
      "|  word_count |        220lbs        |   1   |   1.427563115498653   | ... |\n",
      "|  word_count |         220v         |   1   |   0.8166575813604734  | ... |\n",
      "|  word_count |         221          |   1   |  -3.8385651481959506  | ... |\n",
      "|  word_count |         222          |   1   |   5.594595095116161   | ... |\n",
      "|  word_count |        22238         |   1   |  0.08916622354034547  | ... |\n",
      "|  word_count |        22283         |   1   |  0.17833244708069093  | ... |\n",
      "|  word_count |        22312         |   1   |  0.08916622354034547  | ... |\n",
      "|  word_count |         2245         |   1   |  -5.5561477149361505  | ... |\n",
      "|  word_count |         225          |   1   |   -1.619163267598739  | ... |\n",
      "|  word_count |        225th         |   1   |   1.880520068427863   | ... |\n",
      "|  word_count |         226          |   1   |  -3.4443094815693156  | ... |\n",
      "|  word_count |        22810         |   1   |  0.22804088839113743  | ... |\n",
      "|  word_count |        22823         |   1   |  0.15964863341797644  | ... |\n",
      "|  word_count |        22825         |   1   |  0.17833244708069093  | ... |\n",
      "|  word_count |        22826         |   1   |   0.2090414792259946  | ... |\n",
      "|  word_count |        22871         |   1   |  0.17833244708069093  | ... |\n",
      "|  word_count |        22899         |   1   |  0.17833244708069093  | ... |\n",
      "|  word_count |         229          |   1   |  -3.2685077563888036  | ... |\n",
      "|  word_count |        22909         |   1   |   0.3278922379198435  | ... |\n",
      "|  word_count |        22914         |   1   |   0.2397505113478214  | ... |\n",
      "|  word_count |        22ibs         |   1   |   1.1857948601436321  | ... |\n",
      "|  word_count |         22in         |   1   |   1.4184008792831082  | ... |\n",
      "|  word_count |        22ish         |   1   |   3.785311742935562   | ... |\n",
      "|  word_count |         22lb         |   1   |  -0.5986717347957241  | ... |\n",
      "|  word_count |        22lbs         |   1   |  0.01240988586452084  | ... |\n",
      "|  word_count |         22m          |   1   |   0.8097144063349072  | ... |\n",
      "|  word_count |         22mo         |   1   |   1.6559183197872775  | ... |\n",
      "|  word_count |       22month        |   1   |   5.472584458051518   | ... |\n",
      "|  word_count |       22months       |   1   |   -7.790548904948742  | ... |\n",
      "|  word_count |         22nd         |   1   |   -7.365075210915403  | ... |\n",
      "|  word_count |        22now         |   1   |   2.9510187934793244  | ... |\n",
      "|  word_count |         22oz         |   1   |   2.4092935340169483  | ... |\n",
      "|  word_count |       22pounds       |   1   |   1.0138715000490903  | ... |\n",
      "|  word_count |          23          |   1   |  -0.21929432550938469 | ... |\n",
      "|  word_count |         230          |   1   |  -0.32116514836924415 | ... |\n",
      "|  word_count |         2300         |   1   |   3.1928942379338885  | ... |\n",
      "|  word_count |        230lbs        |   1   |  -2.6173590712491137  | ... |\n",
      "|  word_count |         231          |   1   |   0.1770357606378017  | ... |\n",
      "|  word_count |         2327         |   1   |   2.4792772238679923  | ... |\n",
      "|  word_count |        23376         |   1   |  0.11694115651575715  | ... |\n",
      "|  word_count |        23450         |   1   |   0.2397505113478214  | ... |\n",
      "|  word_count |        23453         |   1   |   0.1198752556739107  | ... |\n",
      "|  word_count |         235          |   1   |   1.0964329317663826  | ... |\n",
      "|  word_count |        23526         |   1   |  0.17833244708069093  | ... |\n",
      "|  word_count |        23531         |   1   |  0.17833244708069093  | ... |\n",
      "|  word_count |        23567         |   1   |  0.28510113933144304  | ... |\n",
      "|  word_count |        23601         |   1   |   0.5616039392328015  | ... |\n",
      "|  word_count |        23610         |   1   |  0.28510113933144304  | ... |\n",
      "|  word_count |         239          |   1   |  -0.4226983101239433  | ... |\n",
      "|  word_count |        23hrs         |   1   |   1.5489929505460736  | ... |\n",
      "|  word_count |         23in         |   1   |   0.965507183999428   | ... |\n",
      "|  word_count |       23inches       |   1   |   1.5641911644328654  | ... |\n",
      "|  word_count |         23lb         |   1   |  -1.5189906477216475  | ... |\n",
      "|  word_count |        23lbs         |   1   |  0.005391136873532008 | ... |\n",
      "|  word_count |         23m          |   1   |   1.3706415981067752  | ... |\n",
      "|  word_count |         23mo         |   1   |   2.0961068039201773  | ... |\n",
      "|  word_count |       23months       |   1   |   -9.504352653224291  | ... |\n",
      "|  word_count |         23oz         |   1   |   -10.13470824190756  | ... |\n",
      "|  word_count |         23rd         |   1   |   -4.669695325790999  | ... |\n",
      "|  word_count |          24          |   1   |  -0.7099553497221759  | ... |\n",
      "|  word_count |         240          |   1   |   0.0792698816865915  | ... |\n",
      "|  word_count |         2400         |   1   |   -2.273947215658397  | ... |\n",
      "|  word_count |        2400mz        |   1   |   -4.880186731305487  | ... |\n",
      "|  word_count |         2408         |   1   |   1.297070358489167   | ... |\n",
      "|  word_count |        240lbs        |   1   |   0.7180624202177684  | ... |\n",
      "+-------------+----------------------+-------+-----------------------+-----+\n",
      "[57357 rows x 5 columns]\n",
      "\n"
     ]
    }
   ],
   "source": [
    "sentiment_model.coefficients.sort('index').print_rows(num_rows=1000, num_columns=4)\n",
    "##sentiment_model.coefficients.print_rows(num_rows=1000, num_columns=4)"
   ]
  },
  {
   "cell_type": "markdown",
   "metadata": {},
   "source": [
    "# Question 3"
   ]
  },
  {
   "cell_type": "code",
   "execution_count": 118,
   "metadata": {},
   "outputs": [
    {
     "data": {
      "text/html": [
       "<div style=\"max-height:1000px;max-width:1500px;overflow:auto;\"><table frame=\"box\" rules=\"cols\">\n",
       "    <tr>\n",
       "        <th style=\"padding-left: 1em; padding-right: 1em; text-align: center\">name</th>\n",
       "        <th style=\"padding-left: 1em; padding-right: 1em; text-align: center\">index</th>\n",
       "        <th style=\"padding-left: 1em; padding-right: 1em; text-align: center\">class</th>\n",
       "        <th style=\"padding-left: 1em; padding-right: 1em; text-align: center\">value</th>\n",
       "        <th style=\"padding-left: 1em; padding-right: 1em; text-align: center\">stderr</th>\n",
       "    </tr>\n",
       "    <tr>\n",
       "        <td style=\"padding-left: 1em; padding-right: 1em; text-align: center; vertical-align: top\">love</td>\n",
       "        <td style=\"padding-left: 1em; padding-right: 1em; text-align: center; vertical-align: top\">None</td>\n",
       "        <td style=\"padding-left: 1em; padding-right: 1em; text-align: center; vertical-align: top\">1</td>\n",
       "        <td style=\"padding-left: 1em; padding-right: 1em; text-align: center; vertical-align: top\">1.3592688669224757</td>\n",
       "        <td style=\"padding-left: 1em; padding-right: 1em; text-align: center; vertical-align: top\">0.028068300152099997</td>\n",
       "    </tr>\n",
       "    <tr>\n",
       "        <td style=\"padding-left: 1em; padding-right: 1em; text-align: center; vertical-align: top\">(intercept)</td>\n",
       "        <td style=\"padding-left: 1em; padding-right: 1em; text-align: center; vertical-align: top\">None</td>\n",
       "        <td style=\"padding-left: 1em; padding-right: 1em; text-align: center; vertical-align: top\">1</td>\n",
       "        <td style=\"padding-left: 1em; padding-right: 1em; text-align: center; vertical-align: top\">1.3365913848878148</td>\n",
       "        <td style=\"padding-left: 1em; padding-right: 1em; text-align: center; vertical-align: top\">0.008929969787657532</td>\n",
       "    </tr>\n",
       "    <tr>\n",
       "        <td style=\"padding-left: 1em; padding-right: 1em; text-align: center; vertical-align: top\">awesome</td>\n",
       "        <td style=\"padding-left: 1em; padding-right: 1em; text-align: center; vertical-align: top\">None</td>\n",
       "        <td style=\"padding-left: 1em; padding-right: 1em; text-align: center; vertical-align: top\">1</td>\n",
       "        <td style=\"padding-left: 1em; padding-right: 1em; text-align: center; vertical-align: top\">1.1335346660341103</td>\n",
       "        <td style=\"padding-left: 1em; padding-right: 1em; text-align: center; vertical-align: top\">0.08399643983187567</td>\n",
       "    </tr>\n",
       "    <tr>\n",
       "        <td style=\"padding-left: 1em; padding-right: 1em; text-align: center; vertical-align: top\">amazing</td>\n",
       "        <td style=\"padding-left: 1em; padding-right: 1em; text-align: center; vertical-align: top\">None</td>\n",
       "        <td style=\"padding-left: 1em; padding-right: 1em; text-align: center; vertical-align: top\">1</td>\n",
       "        <td style=\"padding-left: 1em; padding-right: 1em; text-align: center; vertical-align: top\">1.1000933113659914</td>\n",
       "        <td style=\"padding-left: 1em; padding-right: 1em; text-align: center; vertical-align: top\">0.09954776260465965</td>\n",
       "    </tr>\n",
       "    <tr>\n",
       "        <td style=\"padding-left: 1em; padding-right: 1em; text-align: center; vertical-align: top\">fantastic</td>\n",
       "        <td style=\"padding-left: 1em; padding-right: 1em; text-align: center; vertical-align: top\">None</td>\n",
       "        <td style=\"padding-left: 1em; padding-right: 1em; text-align: center; vertical-align: top\">1</td>\n",
       "        <td style=\"padding-left: 1em; padding-right: 1em; text-align: center; vertical-align: top\">0.8858047568813963</td>\n",
       "        <td style=\"padding-left: 1em; padding-right: 1em; text-align: center; vertical-align: top\">0.11167591293399713</td>\n",
       "    </tr>\n",
       "    <tr>\n",
       "        <td style=\"padding-left: 1em; padding-right: 1em; text-align: center; vertical-align: top\">great</td>\n",
       "        <td style=\"padding-left: 1em; padding-right: 1em; text-align: center; vertical-align: top\">None</td>\n",
       "        <td style=\"padding-left: 1em; padding-right: 1em; text-align: center; vertical-align: top\">1</td>\n",
       "        <td style=\"padding-left: 1em; padding-right: 1em; text-align: center; vertical-align: top\">0.8630655001195999</td>\n",
       "        <td style=\"padding-left: 1em; padding-right: 1em; text-align: center; vertical-align: top\">0.018955052444380473</td>\n",
       "    </tr>\n",
       "    <tr>\n",
       "        <td style=\"padding-left: 1em; padding-right: 1em; text-align: center; vertical-align: top\">wow</td>\n",
       "        <td style=\"padding-left: 1em; padding-right: 1em; text-align: center; vertical-align: top\">None</td>\n",
       "        <td style=\"padding-left: 1em; padding-right: 1em; text-align: center; vertical-align: top\">1</td>\n",
       "        <td style=\"padding-left: 1em; padding-right: 1em; text-align: center; vertical-align: top\">-0.00953823606771224</td>\n",
       "        <td style=\"padding-left: 1em; padding-right: 1em; text-align: center; vertical-align: top\">0.1604641122471162</td>\n",
       "    </tr>\n",
       "    <tr>\n",
       "        <td style=\"padding-left: 1em; padding-right: 1em; text-align: center; vertical-align: top\">bad</td>\n",
       "        <td style=\"padding-left: 1em; padding-right: 1em; text-align: center; vertical-align: top\">None</td>\n",
       "        <td style=\"padding-left: 1em; padding-right: 1em; text-align: center; vertical-align: top\">1</td>\n",
       "        <td style=\"padding-left: 1em; padding-right: 1em; text-align: center; vertical-align: top\">-0.9914778800650894</td>\n",
       "        <td style=\"padding-left: 1em; padding-right: 1em; text-align: center; vertical-align: top\">0.03848428664699065</td>\n",
       "    </tr>\n",
       "    <tr>\n",
       "        <td style=\"padding-left: 1em; padding-right: 1em; text-align: center; vertical-align: top\">hate</td>\n",
       "        <td style=\"padding-left: 1em; padding-right: 1em; text-align: center; vertical-align: top\">None</td>\n",
       "        <td style=\"padding-left: 1em; padding-right: 1em; text-align: center; vertical-align: top\">1</td>\n",
       "        <td style=\"padding-left: 1em; padding-right: 1em; text-align: center; vertical-align: top\">-1.3484407222463402</td>\n",
       "        <td style=\"padding-left: 1em; padding-right: 1em; text-align: center; vertical-align: top\">0.07715698604297318</td>\n",
       "    </tr>\n",
       "    <tr>\n",
       "        <td style=\"padding-left: 1em; padding-right: 1em; text-align: center; vertical-align: top\">awful</td>\n",
       "        <td style=\"padding-left: 1em; padding-right: 1em; text-align: center; vertical-align: top\">None</td>\n",
       "        <td style=\"padding-left: 1em; padding-right: 1em; text-align: center; vertical-align: top\">1</td>\n",
       "        <td style=\"padding-left: 1em; padding-right: 1em; text-align: center; vertical-align: top\">-2.05290820403138</td>\n",
       "        <td style=\"padding-left: 1em; padding-right: 1em; text-align: center; vertical-align: top\">0.1009973543525922</td>\n",
       "    </tr>\n",
       "</table>\n",
       "[12 rows x 5 columns]<br/>Note: Only the head of the SFrame is printed.<br/>You can use print_rows(num_rows=m, num_columns=n) to print more rows and columns.\n",
       "</div>"
      ],
      "text/plain": [
       "Columns:\n",
       "\tname\tstr\n",
       "\tindex\tstr\n",
       "\tclass\tint\n",
       "\tvalue\tfloat\n",
       "\tstderr\tfloat\n",
       "\n",
       "Rows: 12\n",
       "\n",
       "Data:\n",
       "+-------------+-------+-------+----------------------+----------------------+\n",
       "|     name    | index | class |        value         |        stderr        |\n",
       "+-------------+-------+-------+----------------------+----------------------+\n",
       "|     love    |  None |   1   |  1.3592688669224757  | 0.028068300152099997 |\n",
       "| (intercept) |  None |   1   |  1.3365913848878148  | 0.008929969787657532 |\n",
       "|   awesome   |  None |   1   |  1.1335346660341103  | 0.08399643983187567  |\n",
       "|   amazing   |  None |   1   |  1.1000933113659914  | 0.09954776260465965  |\n",
       "|  fantastic  |  None |   1   |  0.8858047568813963  | 0.11167591293399713  |\n",
       "|    great    |  None |   1   |  0.8630655001195999  | 0.018955052444380473 |\n",
       "|     wow     |  None |   1   | -0.00953823606771224 |  0.1604641122471162  |\n",
       "|     bad     |  None |   1   | -0.9914778800650894  | 0.03848428664699065  |\n",
       "|     hate    |  None |   1   | -1.3484407222463402  | 0.07715698604297318  |\n",
       "|    awful    |  None |   1   |  -2.05290820403138   |  0.1009973543525922  |\n",
       "+-------------+-------+-------+----------------------+----------------------+\n",
       "[12 rows x 5 columns]\n",
       "Note: Only the head of the SFrame is printed.\n",
       "You can use print_rows(num_rows=m, num_columns=n) to print more rows and columns."
      ]
     },
     "execution_count": 118,
     "metadata": {},
     "output_type": "execute_result"
    }
   ],
   "source": [
    "selected_words_model.coefficients.sort('value' , ascending= False)"
   ]
  },
  {
   "cell_type": "code",
   "execution_count": 92,
   "metadata": {},
   "outputs": [
    {
     "data": {
      "text/plain": [
       "{'accuracy': 0.8463848186404036,\n",
       " 'auc': 0.6936022046674926,\n",
       " 'confusion_matrix': Columns:\n",
       " \ttarget_label\tint\n",
       " \tpredicted_label\tint\n",
       " \tcount\tint\n",
       " \n",
       " Rows: 4\n",
       " \n",
       " Data:\n",
       " +--------------+-----------------+-------+\n",
       " | target_label | predicted_label | count |\n",
       " +--------------+-----------------+-------+\n",
       " |      1       |        0        |  159  |\n",
       " |      0       |        0        |  371  |\n",
       " |      0       |        1        |  4957 |\n",
       " |      1       |        1        | 27817 |\n",
       " +--------------+-----------------+-------+\n",
       " [4 rows x 3 columns],\n",
       " 'f1_score': 0.9157860082304526,\n",
       " 'log_loss': 0.3962265467087835,\n",
       " 'precision': 0.8487520595594068,\n",
       " 'recall': 0.9943165570488991,\n",
       " 'roc_curve': Columns:\n",
       " \tthreshold\tfloat\n",
       " \tfpr\tfloat\n",
       " \ttpr\tfloat\n",
       " \tp\tint\n",
       " \tn\tint\n",
       " \n",
       " Rows: 100001\n",
       " \n",
       " Data:\n",
       " +-----------+--------------------+-----+-------+------+\n",
       " | threshold |        fpr         | tpr |   p   |  n   |\n",
       " +-----------+--------------------+-----+-------+------+\n",
       " |    0.0    |        1.0         | 1.0 | 27976 | 5328 |\n",
       " |   1e-05   |        1.0         | 1.0 | 27976 | 5328 |\n",
       " |   2e-05   |        1.0         | 1.0 | 27976 | 5328 |\n",
       " |   3e-05   | 0.9998123123123123 | 1.0 | 27976 | 5328 |\n",
       " |   4e-05   | 0.9998123123123123 | 1.0 | 27976 | 5328 |\n",
       " |   5e-05   | 0.9998123123123123 | 1.0 | 27976 | 5328 |\n",
       " |   6e-05   | 0.9998123123123123 | 1.0 | 27976 | 5328 |\n",
       " |   7e-05   | 0.9998123123123123 | 1.0 | 27976 | 5328 |\n",
       " |   8e-05   | 0.9998123123123123 | 1.0 | 27976 | 5328 |\n",
       " |   9e-05   | 0.9998123123123123 | 1.0 | 27976 | 5328 |\n",
       " +-----------+--------------------+-----+-------+------+\n",
       " [100001 rows x 5 columns]\n",
       " Note: Only the head of the SFrame is printed.\n",
       " You can use print_rows(num_rows=m, num_columns=n) to print more rows and columns.}"
      ]
     },
     "execution_count": 92,
     "metadata": {},
     "output_type": "execute_result"
    }
   ],
   "source": [
    "selected_words_model.evaluate(test_data)"
   ]
  },
  {
   "attachments": {},
   "cell_type": "markdown",
   "metadata": {},
   "source": [
    "### Answer is 0.841 to 0.871"
   ]
  },
  {
   "cell_type": "markdown",
   "metadata": {},
   "source": [
    "# Calculate accuracy of major classifier"
   ]
  },
  {
   "cell_type": "code",
   "execution_count": 94,
   "metadata": {},
   "outputs": [],
   "source": [
    "total_positive = 159 + 27817"
   ]
  },
  {
   "cell_type": "code",
   "execution_count": 98,
   "metadata": {},
   "outputs": [],
   "source": [
    "accuracy = total_positive/test_data.num_rows()"
   ]
  },
  {
   "cell_type": "code",
   "execution_count": 99,
   "metadata": {},
   "outputs": [
    {
     "data": {
      "text/plain": [
       "0.8400192169108815"
      ]
     },
     "execution_count": 99,
     "metadata": {},
     "output_type": "execute_result"
    }
   ],
   "source": [
    "accuracy"
   ]
  },
  {
   "cell_type": "code",
   "execution_count": 100,
   "metadata": {},
   "outputs": [],
   "source": [
    "diaper_champ_reviews = products[products['name'] == 'Baby Trend Diaper Champ']"
   ]
  },
  {
   "cell_type": "code",
   "execution_count": 101,
   "metadata": {},
   "outputs": [
    {
     "data": {
      "text/html": [
       "<div style=\"max-height:1000px;max-width:1500px;overflow:auto;\"><table frame=\"box\" rules=\"cols\">\n",
       "    <tr>\n",
       "        <th style=\"padding-left: 1em; padding-right: 1em; text-align: center\">name</th>\n",
       "        <th style=\"padding-left: 1em; padding-right: 1em; text-align: center\">review</th>\n",
       "        <th style=\"padding-left: 1em; padding-right: 1em; text-align: center\">rating</th>\n",
       "        <th style=\"padding-left: 1em; padding-right: 1em; text-align: center\">word_count</th>\n",
       "        <th style=\"padding-left: 1em; padding-right: 1em; text-align: center\">sentiment</th>\n",
       "    </tr>\n",
       "    <tr>\n",
       "        <td style=\"padding-left: 1em; padding-right: 1em; text-align: center; vertical-align: top\">Baby Trend Diaper Champ</td>\n",
       "        <td style=\"padding-left: 1em; padding-right: 1em; text-align: center; vertical-align: top\">Ok - newsflash.  Diapers<br>are just smelly.  We&#x27;ve ...</td>\n",
       "        <td style=\"padding-left: 1em; padding-right: 1em; text-align: center; vertical-align: top\">4.0</td>\n",
       "        <td style=\"padding-left: 1em; padding-right: 1em; text-align: center; vertical-align: top\">{&#x27;convenient&#x27;: 1.0,<br>&#x27;more&#x27;: 1.0, &#x27;trash&#x27;: ...</td>\n",
       "        <td style=\"padding-left: 1em; padding-right: 1em; text-align: center; vertical-align: top\">1</td>\n",
       "    </tr>\n",
       "    <tr>\n",
       "        <td style=\"padding-left: 1em; padding-right: 1em; text-align: center; vertical-align: top\">Baby Trend Diaper Champ</td>\n",
       "        <td style=\"padding-left: 1em; padding-right: 1em; text-align: center; vertical-align: top\">My husband and I selected<br>the Diaper &quot;Champ&quot; ma ...</td>\n",
       "        <td style=\"padding-left: 1em; padding-right: 1em; text-align: center; vertical-align: top\">1.0</td>\n",
       "        <td style=\"padding-left: 1em; padding-right: 1em; text-align: center; vertical-align: top\">{&#x27;system&#x27;: 1.0, &#x27;try&#x27;:<br>1.0, &#x27;re&#x27;: 1.0, &#x27;still&#x27;: ...</td>\n",
       "        <td style=\"padding-left: 1em; padding-right: 1em; text-align: center; vertical-align: top\">0</td>\n",
       "    </tr>\n",
       "    <tr>\n",
       "        <td style=\"padding-left: 1em; padding-right: 1em; text-align: center; vertical-align: top\">Baby Trend Diaper Champ</td>\n",
       "        <td style=\"padding-left: 1em; padding-right: 1em; text-align: center; vertical-align: top\">Excellent diaper disposal<br>unit.  I used it in ...</td>\n",
       "        <td style=\"padding-left: 1em; padding-right: 1em; text-align: center; vertical-align: top\">5.0</td>\n",
       "        <td style=\"padding-left: 1em; padding-right: 1em; text-align: center; vertical-align: top\">{&#x27;nose&#x27;: 1.0, &#x27;for&#x27;: 2.0,<br>&#x27;investment&#x27;: 1.0, ...</td>\n",
       "        <td style=\"padding-left: 1em; padding-right: 1em; text-align: center; vertical-align: top\">1</td>\n",
       "    </tr>\n",
       "    <tr>\n",
       "        <td style=\"padding-left: 1em; padding-right: 1em; text-align: center; vertical-align: top\">Baby Trend Diaper Champ</td>\n",
       "        <td style=\"padding-left: 1em; padding-right: 1em; text-align: center; vertical-align: top\">We love our diaper champ.<br>It is very easy to use ...</td>\n",
       "        <td style=\"padding-left: 1em; padding-right: 1em; text-align: center; vertical-align: top\">5.0</td>\n",
       "        <td style=\"padding-left: 1em; padding-right: 1em; text-align: center; vertical-align: top\">{&#x27;out&#x27;: 1.0, &#x27;pull&#x27;: 1.0,<br>&#x27;open&#x27;: 1.0, &#x27;pail&#x27;:  ...</td>\n",
       "        <td style=\"padding-left: 1em; padding-right: 1em; text-align: center; vertical-align: top\">1</td>\n",
       "    </tr>\n",
       "    <tr>\n",
       "        <td style=\"padding-left: 1em; padding-right: 1em; text-align: center; vertical-align: top\">Baby Trend Diaper Champ</td>\n",
       "        <td style=\"padding-left: 1em; padding-right: 1em; text-align: center; vertical-align: top\">Two girlfriends and two<br>family members put me ...</td>\n",
       "        <td style=\"padding-left: 1em; padding-right: 1em; text-align: center; vertical-align: top\">5.0</td>\n",
       "        <td style=\"padding-left: 1em; padding-right: 1em; text-align: center; vertical-align: top\">{&#x27;winter&#x27;: 1.0,<br>&#x27;outside&#x27;: 1.0, &#x27;day&#x27;: ...</td>\n",
       "        <td style=\"padding-left: 1em; padding-right: 1em; text-align: center; vertical-align: top\">1</td>\n",
       "    </tr>\n",
       "    <tr>\n",
       "        <td style=\"padding-left: 1em; padding-right: 1em; text-align: center; vertical-align: top\">Baby Trend Diaper Champ</td>\n",
       "        <td style=\"padding-left: 1em; padding-right: 1em; text-align: center; vertical-align: top\">I waited to review this<br>until I saw how it ...</td>\n",
       "        <td style=\"padding-left: 1em; padding-right: 1em; text-align: center; vertical-align: top\">4.0</td>\n",
       "        <td style=\"padding-left: 1em; padding-right: 1em; text-align: center; vertical-align: top\">{&#x27;mom&#x27;: 1.0, &#x27;huge&#x27;: 1.0,<br>&#x27;special&#x27;: 1.0, &#x27;good&#x27;: ...</td>\n",
       "        <td style=\"padding-left: 1em; padding-right: 1em; text-align: center; vertical-align: top\">1</td>\n",
       "    </tr>\n",
       "    <tr>\n",
       "        <td style=\"padding-left: 1em; padding-right: 1em; text-align: center; vertical-align: top\">Baby Trend Diaper Champ</td>\n",
       "        <td style=\"padding-left: 1em; padding-right: 1em; text-align: center; vertical-align: top\">I have had a diaper genie<br>for almost 4 years since ...</td>\n",
       "        <td style=\"padding-left: 1em; padding-right: 1em; text-align: center; vertical-align: top\">1.0</td>\n",
       "        <td style=\"padding-left: 1em; padding-right: 1em; text-align: center; vertical-align: top\">{&#x27;yuck&#x27;: 1.0, &#x27;clean&#x27;:<br>1.0, &#x27;trash&#x27;: 3.0, &#x27;is&#x27;: ...</td>\n",
       "        <td style=\"padding-left: 1em; padding-right: 1em; text-align: center; vertical-align: top\">0</td>\n",
       "    </tr>\n",
       "    <tr>\n",
       "        <td style=\"padding-left: 1em; padding-right: 1em; text-align: center; vertical-align: top\">Baby Trend Diaper Champ</td>\n",
       "        <td style=\"padding-left: 1em; padding-right: 1em; text-align: center; vertical-align: top\">I originally put this<br>item on my baby registry ...</td>\n",
       "        <td style=\"padding-left: 1em; padding-right: 1em; text-align: center; vertical-align: top\">5.0</td>\n",
       "        <td style=\"padding-left: 1em; padding-right: 1em; text-align: center; vertical-align: top\">{&#x27;price&#x27;: 1.0,<br>&#x27;suggestions&#x27;: 1.0, ...</td>\n",
       "        <td style=\"padding-left: 1em; padding-right: 1em; text-align: center; vertical-align: top\">1</td>\n",
       "    </tr>\n",
       "    <tr>\n",
       "        <td style=\"padding-left: 1em; padding-right: 1em; text-align: center; vertical-align: top\">Baby Trend Diaper Champ</td>\n",
       "        <td style=\"padding-left: 1em; padding-right: 1em; text-align: center; vertical-align: top\">I am so glad I got the<br>Diaper Champ instead of ...</td>\n",
       "        <td style=\"padding-left: 1em; padding-right: 1em; text-align: center; vertical-align: top\">5.0</td>\n",
       "        <td style=\"padding-left: 1em; padding-right: 1em; text-align: center; vertical-align: top\">{&#x27;best&#x27;: 1.0, &#x27;that&#x27;:<br>1.0, &#x27;will&#x27;: 1.0, ...</td>\n",
       "        <td style=\"padding-left: 1em; padding-right: 1em; text-align: center; vertical-align: top\">1</td>\n",
       "    </tr>\n",
       "    <tr>\n",
       "        <td style=\"padding-left: 1em; padding-right: 1em; text-align: center; vertical-align: top\">Baby Trend Diaper Champ</td>\n",
       "        <td style=\"padding-left: 1em; padding-right: 1em; text-align: center; vertical-align: top\">We had 2 diaper Genie&#x27;s<br>both given to us as a ...</td>\n",
       "        <td style=\"padding-left: 1em; padding-right: 1em; text-align: center; vertical-align: top\">4.0</td>\n",
       "        <td style=\"padding-left: 1em; padding-right: 1em; text-align: center; vertical-align: top\">{&#x27;no&#x27;: 1.0, &#x27;regular&#x27;:<br>1.0, &#x27;part&#x27;: 1.0, ...</td>\n",
       "        <td style=\"padding-left: 1em; padding-right: 1em; text-align: center; vertical-align: top\">1</td>\n",
       "    </tr>\n",
       "</table>\n",
       "<table frame=\"box\" rules=\"cols\">\n",
       "    <tr>\n",
       "        <th style=\"padding-left: 1em; padding-right: 1em; text-align: center\">predicted_sentiment</th>\n",
       "        <th style=\"padding-left: 1em; padding-right: 1em; text-align: center\">awesome</th>\n",
       "        <th style=\"padding-left: 1em; padding-right: 1em; text-align: center\">great</th>\n",
       "        <th style=\"padding-left: 1em; padding-right: 1em; text-align: center\">fantastic</th>\n",
       "        <th style=\"padding-left: 1em; padding-right: 1em; text-align: center\">amazing</th>\n",
       "        <th style=\"padding-left: 1em; padding-right: 1em; text-align: center\">love</th>\n",
       "        <th style=\"padding-left: 1em; padding-right: 1em; text-align: center\">horrible</th>\n",
       "        <th style=\"padding-left: 1em; padding-right: 1em; text-align: center\">bad</th>\n",
       "        <th style=\"padding-left: 1em; padding-right: 1em; text-align: center\">terrible</th>\n",
       "        <th style=\"padding-left: 1em; padding-right: 1em; text-align: center\">awful</th>\n",
       "        <th style=\"padding-left: 1em; padding-right: 1em; text-align: center\">wow</th>\n",
       "        <th style=\"padding-left: 1em; padding-right: 1em; text-align: center\">hate</th>\n",
       "    </tr>\n",
       "    <tr>\n",
       "        <td style=\"padding-left: 1em; padding-right: 1em; text-align: center; vertical-align: top\">0.9950122935568644</td>\n",
       "        <td style=\"padding-left: 1em; padding-right: 1em; text-align: center; vertical-align: top\">0.0</td>\n",
       "        <td style=\"padding-left: 1em; padding-right: 1em; text-align: center; vertical-align: top\">0.0</td>\n",
       "        <td style=\"padding-left: 1em; padding-right: 1em; text-align: center; vertical-align: top\">0.0</td>\n",
       "        <td style=\"padding-left: 1em; padding-right: 1em; text-align: center; vertical-align: top\">0.0</td>\n",
       "        <td style=\"padding-left: 1em; padding-right: 1em; text-align: center; vertical-align: top\">0.0</td>\n",
       "        <td style=\"padding-left: 1em; padding-right: 1em; text-align: center; vertical-align: top\">0</td>\n",
       "        <td style=\"padding-left: 1em; padding-right: 1em; text-align: center; vertical-align: top\">0</td>\n",
       "        <td style=\"padding-left: 1em; padding-right: 1em; text-align: center; vertical-align: top\">0.0</td>\n",
       "        <td style=\"padding-left: 1em; padding-right: 1em; text-align: center; vertical-align: top\">0</td>\n",
       "        <td style=\"padding-left: 1em; padding-right: 1em; text-align: center; vertical-align: top\">0</td>\n",
       "        <td style=\"padding-left: 1em; padding-right: 1em; text-align: center; vertical-align: top\">0</td>\n",
       "    </tr>\n",
       "    <tr>\n",
       "        <td style=\"padding-left: 1em; padding-right: 1em; text-align: center; vertical-align: top\">5.901414536611702e-13</td>\n",
       "        <td style=\"padding-left: 1em; padding-right: 1em; text-align: center; vertical-align: top\">0.0</td>\n",
       "        <td style=\"padding-left: 1em; padding-right: 1em; text-align: center; vertical-align: top\">0.0</td>\n",
       "        <td style=\"padding-left: 1em; padding-right: 1em; text-align: center; vertical-align: top\">0.0</td>\n",
       "        <td style=\"padding-left: 1em; padding-right: 1em; text-align: center; vertical-align: top\">0.0</td>\n",
       "        <td style=\"padding-left: 1em; padding-right: 1em; text-align: center; vertical-align: top\">0.0</td>\n",
       "        <td style=\"padding-left: 1em; padding-right: 1em; text-align: center; vertical-align: top\">0</td>\n",
       "        <td style=\"padding-left: 1em; padding-right: 1em; text-align: center; vertical-align: top\">0</td>\n",
       "        <td style=\"padding-left: 1em; padding-right: 1em; text-align: center; vertical-align: top\">0.0</td>\n",
       "        <td style=\"padding-left: 1em; padding-right: 1em; text-align: center; vertical-align: top\">0</td>\n",
       "        <td style=\"padding-left: 1em; padding-right: 1em; text-align: center; vertical-align: top\">0</td>\n",
       "        <td style=\"padding-left: 1em; padding-right: 1em; text-align: center; vertical-align: top\">0</td>\n",
       "    </tr>\n",
       "    <tr>\n",
       "        <td style=\"padding-left: 1em; padding-right: 1em; text-align: center; vertical-align: top\">0.9999996193960344</td>\n",
       "        <td style=\"padding-left: 1em; padding-right: 1em; text-align: center; vertical-align: top\">0.0</td>\n",
       "        <td style=\"padding-left: 1em; padding-right: 1em; text-align: center; vertical-align: top\">0.0</td>\n",
       "        <td style=\"padding-left: 1em; padding-right: 1em; text-align: center; vertical-align: top\">0.0</td>\n",
       "        <td style=\"padding-left: 1em; padding-right: 1em; text-align: center; vertical-align: top\">0.0</td>\n",
       "        <td style=\"padding-left: 1em; padding-right: 1em; text-align: center; vertical-align: top\">0.0</td>\n",
       "        <td style=\"padding-left: 1em; padding-right: 1em; text-align: center; vertical-align: top\">0</td>\n",
       "        <td style=\"padding-left: 1em; padding-right: 1em; text-align: center; vertical-align: top\">0</td>\n",
       "        <td style=\"padding-left: 1em; padding-right: 1em; text-align: center; vertical-align: top\">0.0</td>\n",
       "        <td style=\"padding-left: 1em; padding-right: 1em; text-align: center; vertical-align: top\">0</td>\n",
       "        <td style=\"padding-left: 1em; padding-right: 1em; text-align: center; vertical-align: top\">0</td>\n",
       "        <td style=\"padding-left: 1em; padding-right: 1em; text-align: center; vertical-align: top\">0</td>\n",
       "    </tr>\n",
       "    <tr>\n",
       "        <td style=\"padding-left: 1em; padding-right: 1em; text-align: center; vertical-align: top\">0.9999567191544834</td>\n",
       "        <td style=\"padding-left: 1em; padding-right: 1em; text-align: center; vertical-align: top\">0.0</td>\n",
       "        <td style=\"padding-left: 1em; padding-right: 1em; text-align: center; vertical-align: top\">0.0</td>\n",
       "        <td style=\"padding-left: 1em; padding-right: 1em; text-align: center; vertical-align: top\">0.0</td>\n",
       "        <td style=\"padding-left: 1em; padding-right: 1em; text-align: center; vertical-align: top\">0.0</td>\n",
       "        <td style=\"padding-left: 1em; padding-right: 1em; text-align: center; vertical-align: top\">1.0</td>\n",
       "        <td style=\"padding-left: 1em; padding-right: 1em; text-align: center; vertical-align: top\">0</td>\n",
       "        <td style=\"padding-left: 1em; padding-right: 1em; text-align: center; vertical-align: top\">0</td>\n",
       "        <td style=\"padding-left: 1em; padding-right: 1em; text-align: center; vertical-align: top\">0.0</td>\n",
       "        <td style=\"padding-left: 1em; padding-right: 1em; text-align: center; vertical-align: top\">0</td>\n",
       "        <td style=\"padding-left: 1em; padding-right: 1em; text-align: center; vertical-align: top\">0</td>\n",
       "        <td style=\"padding-left: 1em; padding-right: 1em; text-align: center; vertical-align: top\">0</td>\n",
       "    </tr>\n",
       "    <tr>\n",
       "        <td style=\"padding-left: 1em; padding-right: 1em; text-align: center; vertical-align: top\">0.9999997013199228</td>\n",
       "        <td style=\"padding-left: 1em; padding-right: 1em; text-align: center; vertical-align: top\">0.0</td>\n",
       "        <td style=\"padding-left: 1em; padding-right: 1em; text-align: center; vertical-align: top\">0.0</td>\n",
       "        <td style=\"padding-left: 1em; padding-right: 1em; text-align: center; vertical-align: top\">0.0</td>\n",
       "        <td style=\"padding-left: 1em; padding-right: 1em; text-align: center; vertical-align: top\">1.0</td>\n",
       "        <td style=\"padding-left: 1em; padding-right: 1em; text-align: center; vertical-align: top\">0.0</td>\n",
       "        <td style=\"padding-left: 1em; padding-right: 1em; text-align: center; vertical-align: top\">1</td>\n",
       "        <td style=\"padding-left: 1em; padding-right: 1em; text-align: center; vertical-align: top\">0</td>\n",
       "        <td style=\"padding-left: 1em; padding-right: 1em; text-align: center; vertical-align: top\">0.0</td>\n",
       "        <td style=\"padding-left: 1em; padding-right: 1em; text-align: center; vertical-align: top\">0</td>\n",
       "        <td style=\"padding-left: 1em; padding-right: 1em; text-align: center; vertical-align: top\">1</td>\n",
       "        <td style=\"padding-left: 1em; padding-right: 1em; text-align: center; vertical-align: top\">0</td>\n",
       "    </tr>\n",
       "    <tr>\n",
       "        <td style=\"padding-left: 1em; padding-right: 1em; text-align: center; vertical-align: top\">0.9999920758179403</td>\n",
       "        <td style=\"padding-left: 1em; padding-right: 1em; text-align: center; vertical-align: top\">0.0</td>\n",
       "        <td style=\"padding-left: 1em; padding-right: 1em; text-align: center; vertical-align: top\">0.0</td>\n",
       "        <td style=\"padding-left: 1em; padding-right: 1em; text-align: center; vertical-align: top\">0.0</td>\n",
       "        <td style=\"padding-left: 1em; padding-right: 1em; text-align: center; vertical-align: top\">0.0</td>\n",
       "        <td style=\"padding-left: 1em; padding-right: 1em; text-align: center; vertical-align: top\">0.0</td>\n",
       "        <td style=\"padding-left: 1em; padding-right: 1em; text-align: center; vertical-align: top\">0</td>\n",
       "        <td style=\"padding-left: 1em; padding-right: 1em; text-align: center; vertical-align: top\">1</td>\n",
       "        <td style=\"padding-left: 1em; padding-right: 1em; text-align: center; vertical-align: top\">0.0</td>\n",
       "        <td style=\"padding-left: 1em; padding-right: 1em; text-align: center; vertical-align: top\">0</td>\n",
       "        <td style=\"padding-left: 1em; padding-right: 1em; text-align: center; vertical-align: top\">0</td>\n",
       "        <td style=\"padding-left: 1em; padding-right: 1em; text-align: center; vertical-align: top\">0</td>\n",
       "    </tr>\n",
       "    <tr>\n",
       "        <td style=\"padding-left: 1em; padding-right: 1em; text-align: center; vertical-align: top\">0.0017908398242359</td>\n",
       "        <td style=\"padding-left: 1em; padding-right: 1em; text-align: center; vertical-align: top\">0.0</td>\n",
       "        <td style=\"padding-left: 1em; padding-right: 1em; text-align: center; vertical-align: top\">0.0</td>\n",
       "        <td style=\"padding-left: 1em; padding-right: 1em; text-align: center; vertical-align: top\">0.0</td>\n",
       "        <td style=\"padding-left: 1em; padding-right: 1em; text-align: center; vertical-align: top\">0.0</td>\n",
       "        <td style=\"padding-left: 1em; padding-right: 1em; text-align: center; vertical-align: top\">0.0</td>\n",
       "        <td style=\"padding-left: 1em; padding-right: 1em; text-align: center; vertical-align: top\">0</td>\n",
       "        <td style=\"padding-left: 1em; padding-right: 1em; text-align: center; vertical-align: top\">0</td>\n",
       "        <td style=\"padding-left: 1em; padding-right: 1em; text-align: center; vertical-align: top\">0.0</td>\n",
       "        <td style=\"padding-left: 1em; padding-right: 1em; text-align: center; vertical-align: top\">0</td>\n",
       "        <td style=\"padding-left: 1em; padding-right: 1em; text-align: center; vertical-align: top\">0</td>\n",
       "        <td style=\"padding-left: 1em; padding-right: 1em; text-align: center; vertical-align: top\">0</td>\n",
       "    </tr>\n",
       "    <tr>\n",
       "        <td style=\"padding-left: 1em; padding-right: 1em; text-align: center; vertical-align: top\">0.9999999999465673</td>\n",
       "        <td style=\"padding-left: 1em; padding-right: 1em; text-align: center; vertical-align: top\">0.0</td>\n",
       "        <td style=\"padding-left: 1em; padding-right: 1em; text-align: center; vertical-align: top\">0.0</td>\n",
       "        <td style=\"padding-left: 1em; padding-right: 1em; text-align: center; vertical-align: top\">0.0</td>\n",
       "        <td style=\"padding-left: 1em; padding-right: 1em; text-align: center; vertical-align: top\">0.0</td>\n",
       "        <td style=\"padding-left: 1em; padding-right: 1em; text-align: center; vertical-align: top\">0.0</td>\n",
       "        <td style=\"padding-left: 1em; padding-right: 1em; text-align: center; vertical-align: top\">0</td>\n",
       "        <td style=\"padding-left: 1em; padding-right: 1em; text-align: center; vertical-align: top\">0</td>\n",
       "        <td style=\"padding-left: 1em; padding-right: 1em; text-align: center; vertical-align: top\">0.0</td>\n",
       "        <td style=\"padding-left: 1em; padding-right: 1em; text-align: center; vertical-align: top\">0</td>\n",
       "        <td style=\"padding-left: 1em; padding-right: 1em; text-align: center; vertical-align: top\">0</td>\n",
       "        <td style=\"padding-left: 1em; padding-right: 1em; text-align: center; vertical-align: top\">0</td>\n",
       "    </tr>\n",
       "    <tr>\n",
       "        <td style=\"padding-left: 1em; padding-right: 1em; text-align: center; vertical-align: top\">0.9801174413564645</td>\n",
       "        <td style=\"padding-left: 1em; padding-right: 1em; text-align: center; vertical-align: top\">0.0</td>\n",
       "        <td style=\"padding-left: 1em; padding-right: 1em; text-align: center; vertical-align: top\">0.0</td>\n",
       "        <td style=\"padding-left: 1em; padding-right: 1em; text-align: center; vertical-align: top\">0.0</td>\n",
       "        <td style=\"padding-left: 1em; padding-right: 1em; text-align: center; vertical-align: top\">0.0</td>\n",
       "        <td style=\"padding-left: 1em; padding-right: 1em; text-align: center; vertical-align: top\">0.0</td>\n",
       "        <td style=\"padding-left: 1em; padding-right: 1em; text-align: center; vertical-align: top\">0</td>\n",
       "        <td style=\"padding-left: 1em; padding-right: 1em; text-align: center; vertical-align: top\">0</td>\n",
       "        <td style=\"padding-left: 1em; padding-right: 1em; text-align: center; vertical-align: top\">0.0</td>\n",
       "        <td style=\"padding-left: 1em; padding-right: 1em; text-align: center; vertical-align: top\">0</td>\n",
       "        <td style=\"padding-left: 1em; padding-right: 1em; text-align: center; vertical-align: top\">0</td>\n",
       "        <td style=\"padding-left: 1em; padding-right: 1em; text-align: center; vertical-align: top\">0</td>\n",
       "    </tr>\n",
       "    <tr>\n",
       "        <td style=\"padding-left: 1em; padding-right: 1em; text-align: center; vertical-align: top\">0.9999454483918991</td>\n",
       "        <td style=\"padding-left: 1em; padding-right: 1em; text-align: center; vertical-align: top\">0.0</td>\n",
       "        <td style=\"padding-left: 1em; padding-right: 1em; text-align: center; vertical-align: top\">0.0</td>\n",
       "        <td style=\"padding-left: 1em; padding-right: 1em; text-align: center; vertical-align: top\">0.0</td>\n",
       "        <td style=\"padding-left: 1em; padding-right: 1em; text-align: center; vertical-align: top\">0.0</td>\n",
       "        <td style=\"padding-left: 1em; padding-right: 1em; text-align: center; vertical-align: top\">2.0</td>\n",
       "        <td style=\"padding-left: 1em; padding-right: 1em; text-align: center; vertical-align: top\">0</td>\n",
       "        <td style=\"padding-left: 1em; padding-right: 1em; text-align: center; vertical-align: top\">0</td>\n",
       "        <td style=\"padding-left: 1em; padding-right: 1em; text-align: center; vertical-align: top\">0.0</td>\n",
       "        <td style=\"padding-left: 1em; padding-right: 1em; text-align: center; vertical-align: top\">0</td>\n",
       "        <td style=\"padding-left: 1em; padding-right: 1em; text-align: center; vertical-align: top\">0</td>\n",
       "        <td style=\"padding-left: 1em; padding-right: 1em; text-align: center; vertical-align: top\">0</td>\n",
       "    </tr>\n",
       "</table>\n",
       "[? rows x 17 columns]<br/>Note: Only the head of the SFrame is printed. This SFrame is lazily evaluated.<br/>You can use sf.materialize() to force materialization.\n",
       "</div>"
      ],
      "text/plain": [
       "Columns:\n",
       "\tname\tstr\n",
       "\treview\tstr\n",
       "\trating\tfloat\n",
       "\tword_count\tdict\n",
       "\tsentiment\tint\n",
       "\tpredicted_sentiment\tfloat\n",
       "\tawesome\tfloat\n",
       "\tgreat\tfloat\n",
       "\tfantastic\tfloat\n",
       "\tamazing\tfloat\n",
       "\tlove\tfloat\n",
       "\thorrible\tint\n",
       "\tbad\tint\n",
       "\tterrible\tfloat\n",
       "\tawful\tint\n",
       "\twow\tint\n",
       "\thate\tint\n",
       "\n",
       "Rows: Unknown\n",
       "\n",
       "Data:\n",
       "+-------------------------+-------------------------------+--------+\n",
       "|           name          |             review            | rating |\n",
       "+-------------------------+-------------------------------+--------+\n",
       "| Baby Trend Diaper Champ | Ok - newsflash.  Diapers a... |  4.0   |\n",
       "| Baby Trend Diaper Champ | My husband and I selected ... |  1.0   |\n",
       "| Baby Trend Diaper Champ | Excellent diaper disposal ... |  5.0   |\n",
       "| Baby Trend Diaper Champ | We love our diaper champ. ... |  5.0   |\n",
       "| Baby Trend Diaper Champ | Two girlfriends and two fa... |  5.0   |\n",
       "| Baby Trend Diaper Champ | I waited to review this un... |  4.0   |\n",
       "| Baby Trend Diaper Champ | I have had a diaper genie ... |  1.0   |\n",
       "| Baby Trend Diaper Champ | I originally put this item... |  5.0   |\n",
       "| Baby Trend Diaper Champ | I am so glad I got the Dia... |  5.0   |\n",
       "| Baby Trend Diaper Champ | We had 2 diaper Genie's bo... |  4.0   |\n",
       "+-------------------------+-------------------------------+--------+\n",
       "+-------------------------------+-----------+-----------------------+---------+\n",
       "|           word_count          | sentiment |  predicted_sentiment  | awesome |\n",
       "+-------------------------------+-----------+-----------------------+---------+\n",
       "| {'convenient': 1.0, 'more'... |     1     |   0.9950122935568644  |   0.0   |\n",
       "| {'system': 1.0, 'try': 1.0... |     0     | 5.901414536611702e-13 |   0.0   |\n",
       "| {'nose': 1.0, 'for': 2.0, ... |     1     |   0.9999996193960344  |   0.0   |\n",
       "| {'out': 1.0, 'pull': 1.0, ... |     1     |   0.9999567191544834  |   0.0   |\n",
       "| {'winter': 1.0, 'outside':... |     1     |   0.9999997013199228  |   0.0   |\n",
       "| {'mom': 1.0, 'huge': 1.0, ... |     1     |   0.9999920758179403  |   0.0   |\n",
       "| {'yuck': 1.0, 'clean': 1.0... |     0     |   0.0017908398242359  |   0.0   |\n",
       "| {'price': 1.0, 'suggestion... |     1     |   0.9999999999465673  |   0.0   |\n",
       "| {'best': 1.0, 'that': 1.0,... |     1     |   0.9801174413564645  |   0.0   |\n",
       "| {'no': 1.0, 'regular': 1.0... |     1     |   0.9999454483918991  |   0.0   |\n",
       "+-------------------------------+-----------+-----------------------+---------+\n",
       "+-------+-----------+---------+------+----------+-----+----------+-------+-----+\n",
       "| great | fantastic | amazing | love | horrible | bad | terrible | awful | wow |\n",
       "+-------+-----------+---------+------+----------+-----+----------+-------+-----+\n",
       "|  0.0  |    0.0    |   0.0   | 0.0  |    0     |  0  |   0.0    |   0   |  0  |\n",
       "|  0.0  |    0.0    |   0.0   | 0.0  |    0     |  0  |   0.0    |   0   |  0  |\n",
       "|  0.0  |    0.0    |   0.0   | 0.0  |    0     |  0  |   0.0    |   0   |  0  |\n",
       "|  0.0  |    0.0    |   0.0   | 1.0  |    0     |  0  |   0.0    |   0   |  0  |\n",
       "|  0.0  |    0.0    |   1.0   | 0.0  |    1     |  0  |   0.0    |   0   |  1  |\n",
       "|  0.0  |    0.0    |   0.0   | 0.0  |    0     |  1  |   0.0    |   0   |  0  |\n",
       "|  0.0  |    0.0    |   0.0   | 0.0  |    0     |  0  |   0.0    |   0   |  0  |\n",
       "|  0.0  |    0.0    |   0.0   | 0.0  |    0     |  0  |   0.0    |   0   |  0  |\n",
       "|  0.0  |    0.0    |   0.0   | 0.0  |    0     |  0  |   0.0    |   0   |  0  |\n",
       "|  0.0  |    0.0    |   0.0   | 2.0  |    0     |  0  |   0.0    |   0   |  0  |\n",
       "+-------+-----------+---------+------+----------+-----+----------+-------+-----+\n",
       "+------+\n",
       "| hate |\n",
       "+------+\n",
       "|  0   |\n",
       "|  0   |\n",
       "|  0   |\n",
       "|  0   |\n",
       "|  0   |\n",
       "|  0   |\n",
       "|  0   |\n",
       "|  0   |\n",
       "|  0   |\n",
       "|  0   |\n",
       "+------+\n",
       "[? rows x 17 columns]\n",
       "Note: Only the head of the SFrame is printed. This SFrame is lazily evaluated.\n",
       "You can use sf.materialize() to force materialization."
      ]
     },
     "execution_count": 101,
     "metadata": {},
     "output_type": "execute_result"
    }
   ],
   "source": [
    "diaper_champ_reviews"
   ]
  },
  {
   "cell_type": "code",
   "execution_count": 102,
   "metadata": {},
   "outputs": [],
   "source": [
    "diaper_champ_reviews['predicted_sentiment'] = sentiment_model.predict(diaper_champ_reviews, output_type = 'probability')"
   ]
  },
  {
   "cell_type": "code",
   "execution_count": 103,
   "metadata": {},
   "outputs": [],
   "source": [
    "diaper_champ_reviews = diaper_champ_reviews.sort('predicted_sentiment', ascending=False)"
   ]
  },
  {
   "cell_type": "code",
   "execution_count": 104,
   "metadata": {},
   "outputs": [
    {
     "data": {
      "text/plain": [
       "{'name': 'Baby Trend Diaper Champ',\n",
       " 'review': \"I read a review below that can explain exactly what we experienced. We've had it for 16 months and it has worked wonderful for us. No smells, change it out once a week, easy to clean. Then a diaper snagged this foam material in the head part, so I pulled the rest of the foam out. Big mistake!!! Now it can no loner retain the stinkiness and we're looking for a replacement. Be careful of overloading and never take out that foam piece that is cushioned between pieces. I have figured out that it is key to keeping the stink out.\",\n",
       " 'rating': 4.0,\n",
       " 'word_count': {'key': 1.0,\n",
       "  'have': 1.0,\n",
       "  'pieces': 1.0,\n",
       "  'between': 1.0,\n",
       "  'cushioned': 1.0,\n",
       "  'piece': 1.0,\n",
       "  'take': 1.0,\n",
       "  'overloading': 1.0,\n",
       "  'be': 1.0,\n",
       "  'looking': 1.0,\n",
       "  're': 1.0,\n",
       "  'stinkiness': 1.0,\n",
       "  'retain': 1.0,\n",
       "  'now': 1.0,\n",
       "  'wonderful': 1.0,\n",
       "  'worked': 1.0,\n",
       "  '16': 1.0,\n",
       "  'and': 3.0,\n",
       "  'months': 1.0,\n",
       "  've': 1.0,\n",
       "  'in': 1.0,\n",
       "  'us': 1.0,\n",
       "  'i': 3.0,\n",
       "  'experienced': 1.0,\n",
       "  'read': 1.0,\n",
       "  'easy': 1.0,\n",
       "  'for': 3.0,\n",
       "  'to': 2.0,\n",
       "  'has': 1.0,\n",
       "  'review': 1.0,\n",
       "  'keeping': 1.0,\n",
       "  'replacement': 1.0,\n",
       "  'out': 5.0,\n",
       "  'loner': 1.0,\n",
       "  'clean': 1.0,\n",
       "  'mistake': 1.0,\n",
       "  'big': 1.0,\n",
       "  'pulled': 1.0,\n",
       "  'it': 5.0,\n",
       "  'this': 1.0,\n",
       "  'is': 2.0,\n",
       "  'explain': 1.0,\n",
       "  'material': 1.0,\n",
       "  'exactly': 1.0,\n",
       "  'a': 4.0,\n",
       "  'we': 3.0,\n",
       "  'that': 4.0,\n",
       "  'had': 1.0,\n",
       "  'what': 1.0,\n",
       "  'part': 1.0,\n",
       "  'no': 2.0,\n",
       "  'smells': 1.0,\n",
       "  'can': 2.0,\n",
       "  'change': 1.0,\n",
       "  'figured': 1.0,\n",
       "  'week': 1.0,\n",
       "  'then': 1.0,\n",
       "  'snagged': 1.0,\n",
       "  'diaper': 1.0,\n",
       "  'careful': 1.0,\n",
       "  'the': 5.0,\n",
       "  'never': 1.0,\n",
       "  'foam': 3.0,\n",
       "  'head': 1.0,\n",
       "  'so': 1.0,\n",
       "  'below': 1.0,\n",
       "  'rest': 1.0,\n",
       "  'stink': 1.0,\n",
       "  'once': 1.0,\n",
       "  'of': 2.0},\n",
       " 'sentiment': 1,\n",
       " 'predicted_sentiment': 0.9999999999895941,\n",
       " 'awesome': 0.0,\n",
       " 'great': 0.0,\n",
       " 'fantastic': 0.0,\n",
       " 'amazing': 0.0,\n",
       " 'love': 0.0,\n",
       " 'horrible': 0,\n",
       " 'bad': 0,\n",
       " 'terrible': 0.0,\n",
       " 'awful': 0,\n",
       " 'wow': 0,\n",
       " 'hate': 0}"
      ]
     },
     "execution_count": 104,
     "metadata": {},
     "output_type": "execute_result"
    }
   ],
   "source": [
    "diaper_champ_reviews[0]"
   ]
  },
  {
   "cell_type": "code",
   "execution_count": 106,
   "metadata": {},
   "outputs": [],
   "source": [
    "diaper_champ_reviews['predicted_sentiment2'] = selected_words_model.predict(diaper_champ_reviews, output_type = 'probability')"
   ]
  },
  {
   "cell_type": "code",
   "execution_count": 111,
   "metadata": {},
   "outputs": [],
   "source": [
    "diaper_champ_reviews = diaper_champ_reviews.sort('predicted_sentiment', ascending=False)"
   ]
  },
  {
   "cell_type": "code",
   "execution_count": 112,
   "metadata": {},
   "outputs": [
    {
     "data": {
      "text/plain": [
       "{'name': 'Baby Trend Diaper Champ',\n",
       " 'review': \"I read a review below that can explain exactly what we experienced. We've had it for 16 months and it has worked wonderful for us. No smells, change it out once a week, easy to clean. Then a diaper snagged this foam material in the head part, so I pulled the rest of the foam out. Big mistake!!! Now it can no loner retain the stinkiness and we're looking for a replacement. Be careful of overloading and never take out that foam piece that is cushioned between pieces. I have figured out that it is key to keeping the stink out.\",\n",
       " 'rating': 4.0,\n",
       " 'word_count': {'key': 1.0,\n",
       "  'have': 1.0,\n",
       "  'pieces': 1.0,\n",
       "  'between': 1.0,\n",
       "  'cushioned': 1.0,\n",
       "  'piece': 1.0,\n",
       "  'take': 1.0,\n",
       "  'overloading': 1.0,\n",
       "  'be': 1.0,\n",
       "  'looking': 1.0,\n",
       "  're': 1.0,\n",
       "  'stinkiness': 1.0,\n",
       "  'retain': 1.0,\n",
       "  'now': 1.0,\n",
       "  'wonderful': 1.0,\n",
       "  'worked': 1.0,\n",
       "  '16': 1.0,\n",
       "  'and': 3.0,\n",
       "  'months': 1.0,\n",
       "  've': 1.0,\n",
       "  'in': 1.0,\n",
       "  'us': 1.0,\n",
       "  'i': 3.0,\n",
       "  'experienced': 1.0,\n",
       "  'read': 1.0,\n",
       "  'easy': 1.0,\n",
       "  'for': 3.0,\n",
       "  'to': 2.0,\n",
       "  'has': 1.0,\n",
       "  'review': 1.0,\n",
       "  'keeping': 1.0,\n",
       "  'replacement': 1.0,\n",
       "  'out': 5.0,\n",
       "  'loner': 1.0,\n",
       "  'clean': 1.0,\n",
       "  'mistake': 1.0,\n",
       "  'big': 1.0,\n",
       "  'pulled': 1.0,\n",
       "  'it': 5.0,\n",
       "  'this': 1.0,\n",
       "  'is': 2.0,\n",
       "  'explain': 1.0,\n",
       "  'material': 1.0,\n",
       "  'exactly': 1.0,\n",
       "  'a': 4.0,\n",
       "  'we': 3.0,\n",
       "  'that': 4.0,\n",
       "  'had': 1.0,\n",
       "  'what': 1.0,\n",
       "  'part': 1.0,\n",
       "  'no': 2.0,\n",
       "  'smells': 1.0,\n",
       "  'can': 2.0,\n",
       "  'change': 1.0,\n",
       "  'figured': 1.0,\n",
       "  'week': 1.0,\n",
       "  'then': 1.0,\n",
       "  'snagged': 1.0,\n",
       "  'diaper': 1.0,\n",
       "  'careful': 1.0,\n",
       "  'the': 5.0,\n",
       "  'never': 1.0,\n",
       "  'foam': 3.0,\n",
       "  'head': 1.0,\n",
       "  'so': 1.0,\n",
       "  'below': 1.0,\n",
       "  'rest': 1.0,\n",
       "  'stink': 1.0,\n",
       "  'once': 1.0,\n",
       "  'of': 2.0},\n",
       " 'sentiment': 1,\n",
       " 'predicted_sentiment': 0.9999999999895941,\n",
       " 'awesome': 0.0,\n",
       " 'great': 0.0,\n",
       " 'fantastic': 0.0,\n",
       " 'amazing': 0.0,\n",
       " 'love': 0.0,\n",
       " 'horrible': 0,\n",
       " 'bad': 0,\n",
       " 'terrible': 0.0,\n",
       " 'awful': 0,\n",
       " 'wow': 0,\n",
       " 'hate': 0,\n",
       " 'predicted_sentiment2': 0.7919288370624551}"
      ]
     },
     "execution_count": 112,
     "metadata": {},
     "output_type": "execute_result"
    }
   ],
   "source": [
    "diaper_champ_reviews[0]"
   ]
  },
  {
   "cell_type": "code",
   "execution_count": null,
   "metadata": {},
   "outputs": [],
   "source": []
  }
 ],
 "metadata": {
  "kernelspec": {
   "display_name": "Python 3",
   "language": "python",
   "name": "python3"
  },
  "language_info": {
   "codemirror_mode": {
    "name": "ipython",
    "version": 3
   },
   "file_extension": ".py",
   "mimetype": "text/x-python",
   "name": "python",
   "nbconvert_exporter": "python",
   "pygments_lexer": "ipython3",
   "version": "3.7.6"
  }
 },
 "nbformat": 4,
 "nbformat_minor": 2
}
